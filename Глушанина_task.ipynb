{
  "cells": [
    {
      "cell_type": "markdown",
      "id": "da58e83d",
      "metadata": {
        "id": "da58e83d"
      },
      "source": [
        "# Большое практическое задание 2\n",
        "# Классификация заемщиков линейными моделями\n",
        "\n",
        "## курс \"Машинное обучение 1\", программа AIMasters, 2022\n",
        "\n",
        "## Студент: Глушанина Мария Евгеньевна "
      ]
    },
    {
      "cell_type": "markdown",
      "id": "2c75a807",
      "metadata": {
        "id": "2c75a807"
      },
      "source": [
        "## Формулировка задания\n",
        "Данное задание направлено на ознакомление с линейными моделями и градиентными методами обучения. В\n",
        "задании необходимо: <br>\n",
        "1. Написать на языке Python собственную реализацию линейного классификатора с произвольной функцией потерь и реализацию функции и градиента функции потерь для логистической регрессии. Реализации можно частично проверить через юнит-тесты и с помощью системы ejudge в соответствующем соревновании. <br><br> **Внимание.** Прохождение всех тестов в соревновании не гарантирует правильность решения. \n",
        "\n",
        "\n",
        "2. Вывести все необходимые формулы, привести выкладки в отчёте. \n",
        "\n",
        "\n",
        "3. Провести описанные ниже эксперименты с модельными данными и приложенным датасетом в данном ноутбуке. Подготовить отчёт о проделанной работе. Удалите черновые выводы, оставьте только тот код, который является ответом к пунктам задания. Сохраните ноутбук в форматах .ipynb и .html одновременно. <br><br> **Замечание.** Чтобы экспорировать jupyter notebook в .html нужно выбрать: `File -> Download as -> HTML (.html)`. Для экспорта notebook в .html в Google Colab, воспользуйтесь [следующим кодом](https://gist.github.com/vbugaevskii/b9c6181f2ad83e11f5b9c92d315cb2de). Большая просьба: подписывайте свой отчет (в названии файла и внутри ноутбука).\n",
        "\n",
        "\n",
        "4. В систему проверки необходимо сдать отчёт в обоих форматах и .zip архив с написанными модулями. <br><br> Большая просьба: jupyter notebook и html файл не запаковывать в архив, а сдавать отдельно.\n"
      ]
    },
    {
      "cell_type": "markdown",
      "id": "cc896cbb",
      "metadata": {
        "id": "cc896cbb"
      },
      "source": [
        "### Некоторые полезные советы\n",
        "1. Для того, чтобы не перезагружать jupyter notebook каждый раз после того, как вы внесли изменения в модуль knn, можно добавить ячейку с таким содержимым:\n",
        "```python\n",
        "%load_ext autoreload\n",
        "%autoreload 2\n",
        "```\n",
        "\n",
        "\n",
        "2. Не нужно копировать свой код из модулей в jupyter notebook, пользуйтесь им, как если бы это была библиотека. Для этого поместите директорию `modules` рядом с notebook-ом. Пример, как может выглядеть содержимое вашей рабочей директории:\n",
        "```text\n",
        "tree\n",
        "    ---modules\n",
        "    ------__init__.py\n",
        "    ------linear_model.py\n",
        "    ------losses.py\n",
        "    ------utils.py\n",
        "    ------tests.py\n",
        "    HW2_*.ipynb\n",
        "```"
      ]
    },
    {
      "cell_type": "markdown",
      "id": "52ad3c6b",
      "metadata": {
        "id": "52ad3c6b"
      },
      "source": [
        "## Теоретическая часть (1 балл)\n",
        "Выведите формулу градиента функции потерь (по параметру $w$) для задачи бинарной логистической регрессии. <br>\n",
        "Считайте для удобства, что $x[0] = 1$ для любого объекта, то есть $w[0] - \\texttt{bias}$. <br>\n",
        "Так, в выведенном вами градиенте, $\\texttt{grad}[1:]$ - градиент по весам, $\\texttt{grad}[0]$ - градиент по $\\texttt{bias}$.\n",
        "\n",
        "$$L(a(x), y) = \\log(1 + \\exp(-y\\langle w, x\\rangle)), \\quad y \\in \\{-1, 1\\}$$\n",
        "\n",
        "Запишите вывод градиента ниже."
      ]
    },
    {
      "cell_type": "code",
      "execution_count": 2,
      "id": "ef6d315d",
      "metadata": {
        "id": "ef6d315d"
      },
      "outputs": [],
      "source": [
        "grad = ((1 - sigm(-(-y * (X*w+b))))*(y*X))/len(x)\n"
      ]
    },
    {
      "cell_type": "markdown",
      "id": "f8235138",
      "metadata": {
        "id": "f8235138"
      },
      "source": [
        "## Реализация алгоритмов (9 баллов)\n",
        "Прототипы функций должны строго соответствовать прототипам, описанным в спецификации и проходить все\n",
        "тесты. Задание, не проходящее все тесты, приравнивается к невыполненному. \n",
        "\n",
        "\n",
        "При написании необходимо пользоваться стандартными средствами языка Python, библиотеками `numpy, scipy и matplotlib`. Библиотекой `scikit-learn` для реализаций пользоваться запрещается, но разрешается использовать её в процессе экспериментов. Все\n",
        "подробности реализации алгоритмов подробно описаны в спецификации к заданию.\n",
        "\n",
        "\n",
        "Ожидается, что реализациия всех классов и функций будет максимально эффективной. Дополнительно вам предоставлены открытые тесты, которые находятся в модуле `modules`. Чтобы запустить тесты в консоли требуется выполнить команду:\n",
        "```c\n",
        "$ pytest ./modules/tests.py\n",
        "\n",
        "```\n",
        "\n",
        "Разрешается дополнять файл тестами для самопроверки. Доп баллы за написание своих тестов не будет :)"
      ]
    },
    {
      "cell_type": "markdown",
      "id": "243392a9",
      "metadata": {
        "id": "243392a9"
      },
      "source": [
        "## Эксперименты (15 баллов)\n",
        "\n",
        "Эксперименты будем проводить на [датасете](https://www.kaggle.com/competitions/home-credit-default-risk/overview) по классификации заемщиков на плохих (target = 1: клиент с \"payment difficulties\") и хороших (target = 0: все остальные). Для экспериментов будем использовать лишь основной файл `application_train.csv`, а также перекодируем таргет в метки -1, 1.\n",
        "\n",
        "Описание колонок находится в файле `description.csv`.\n",
        "\n",
        "Для начала мы за вас считаем данные и поделим на обучение, валидацию и тест случайным образом."
      ]
    },
    {
      "cell_type": "code",
      "execution_count": 1,
      "id": "09435945",
      "metadata": {
        "colab": {
          "base_uri": "https://localhost:8080/",
          "height": 358
        },
        "id": "09435945",
        "outputId": "ce04f942-8e8c-4874-a970-22f410044f77"
      },
      "outputs": [
        {
          "output_type": "stream",
          "name": "stdout",
          "text": [
            "\n",
            "target value_counts:\n"
          ]
        },
        {
          "output_type": "display_data",
          "data": {
            "text/plain": [
              "-1    282686\n",
              " 1     24825\n",
              "Name: target, dtype: int64"
            ]
          },
          "metadata": {}
        },
        {
          "output_type": "execute_result",
          "data": {
            "text/plain": [
              "   sk_id_curr  target name_contract_type code_gender flag_own_car  \\\n",
              "0      100002       1         Cash loans           M            N   \n",
              "1      100003      -1         Cash loans           F            N   \n",
              "2      100004      -1    Revolving loans           M            Y   \n",
              "\n",
              "  flag_own_realty  cnt_children  amt_income_total  amt_credit  amt_annuity  \\\n",
              "0               Y             0          202500.0    406597.5      24700.5   \n",
              "1               N             0          270000.0   1293502.5      35698.5   \n",
              "2               Y             0           67500.0    135000.0       6750.0   \n",
              "\n",
              "   amt_goods_price name_type_suite name_income_type  \\\n",
              "0         351000.0   Unaccompanied          Working   \n",
              "1        1129500.0          Family    State servant   \n",
              "2         135000.0   Unaccompanied          Working   \n",
              "\n",
              "             name_education_type    name_family_status  name_housing_type  \\\n",
              "0  Secondary / secondary special  Single / not married  House / apartment   \n",
              "1               Higher education               Married  House / apartment   \n",
              "2  Secondary / secondary special  Single / not married  House / apartment   \n",
              "\n",
              "   region_population_relative  days_birth  days_employed  days_registration  \\\n",
              "0                    0.018801       -9461           -637            -3648.0   \n",
              "1                    0.003541      -16765          -1188            -1186.0   \n",
              "2                    0.010032      -19046           -225            -4260.0   \n",
              "\n",
              "   days_id_publish  own_car_age  flag_mobil  flag_emp_phone  flag_work_phone  \\\n",
              "0            -2120          NaN           1               1                0   \n",
              "1             -291          NaN           1               1                0   \n",
              "2            -2531         26.0           1               1                1   \n",
              "\n",
              "   flag_cont_mobile  flag_phone  flag_email occupation_type  cnt_fam_members  \\\n",
              "0                 1           1           0        Laborers              1.0   \n",
              "1                 1           1           0      Core staff              2.0   \n",
              "2                 1           1           0        Laborers              1.0   \n",
              "\n",
              "   region_rating_client  region_rating_client_w_city  \\\n",
              "0                     2                            2   \n",
              "1                     1                            1   \n",
              "2                     2                            2   \n",
              "\n",
              "  weekday_appr_process_start  hour_appr_process_start  \\\n",
              "0                  WEDNESDAY                       10   \n",
              "1                     MONDAY                       11   \n",
              "2                     MONDAY                        9   \n",
              "\n",
              "   reg_region_not_live_region  reg_region_not_work_region  \\\n",
              "0                           0                           0   \n",
              "1                           0                           0   \n",
              "2                           0                           0   \n",
              "\n",
              "   live_region_not_work_region  reg_city_not_live_city  \\\n",
              "0                            0                       0   \n",
              "1                            0                       0   \n",
              "2                            0                       0   \n",
              "\n",
              "   reg_city_not_work_city  live_city_not_work_city       organization_type  \\\n",
              "0                       0                        0  Business Entity Type 3   \n",
              "1                       0                        0                  School   \n",
              "2                       0                        0              Government   \n",
              "\n",
              "   ext_source_1  ext_source_2  ext_source_3  apartments_avg  basementarea_avg  \\\n",
              "0      0.083037      0.262949      0.139376          0.0247            0.0369   \n",
              "1      0.311267      0.622246           NaN          0.0959            0.0529   \n",
              "2           NaN      0.555912      0.729567             NaN               NaN   \n",
              "\n",
              "   years_beginexpluatation_avg  years_build_avg  commonarea_avg  \\\n",
              "0                       0.9722           0.6192          0.0143   \n",
              "1                       0.9851           0.7960          0.0605   \n",
              "2                          NaN              NaN             NaN   \n",
              "\n",
              "   elevators_avg  ...  apartments_medi  basementarea_medi  \\\n",
              "0           0.00  ...           0.0250             0.0369   \n",
              "1           0.08  ...           0.0968             0.0529   \n",
              "2            NaN  ...              NaN                NaN   \n",
              "\n",
              "   years_beginexpluatation_medi  years_build_medi  commonarea_medi  \\\n",
              "0                        0.9722            0.6243           0.0144   \n",
              "1                        0.9851            0.7987           0.0608   \n",
              "2                           NaN               NaN              NaN   \n",
              "\n",
              "   elevators_medi  entrances_medi  floorsmax_medi  floorsmin_medi  \\\n",
              "0            0.00          0.0690          0.0833          0.1250   \n",
              "1            0.08          0.0345          0.2917          0.3333   \n",
              "2             NaN             NaN             NaN             NaN   \n",
              "\n",
              "   landarea_medi  livingapartments_medi  livingarea_medi  \\\n",
              "0         0.0375                 0.0205           0.0193   \n",
              "1         0.0132                 0.0787           0.0558   \n",
              "2            NaN                    NaN              NaN   \n",
              "\n",
              "   nonlivingapartments_medi  nonlivingarea_medi  fondkapremont_mode  \\\n",
              "0                    0.0000                0.00    reg oper account   \n",
              "1                    0.0039                0.01    reg oper account   \n",
              "2                       NaN                 NaN                 NaN   \n",
              "\n",
              "   housetype_mode  totalarea_mode  wallsmaterial_mode  emergencystate_mode  \\\n",
              "0  block of flats          0.0149        Stone, brick                   No   \n",
              "1  block of flats          0.0714               Block                   No   \n",
              "2             NaN             NaN                 NaN                  NaN   \n",
              "\n",
              "   obs_30_cnt_social_circle  def_30_cnt_social_circle  \\\n",
              "0                       2.0                       2.0   \n",
              "1                       1.0                       0.0   \n",
              "2                       0.0                       0.0   \n",
              "\n",
              "   obs_60_cnt_social_circle  def_60_cnt_social_circle  days_last_phone_change  \\\n",
              "0                       2.0                       2.0                 -1134.0   \n",
              "1                       1.0                       0.0                  -828.0   \n",
              "2                       0.0                       0.0                  -815.0   \n",
              "\n",
              "   flag_document_2  flag_document_3  flag_document_4  flag_document_5  \\\n",
              "0                0                1                0                0   \n",
              "1                0                1                0                0   \n",
              "2                0                0                0                0   \n",
              "\n",
              "   flag_document_6  flag_document_7  flag_document_8  flag_document_9  \\\n",
              "0                0                0                0                0   \n",
              "1                0                0                0                0   \n",
              "2                0                0                0                0   \n",
              "\n",
              "   flag_document_10  flag_document_11  flag_document_12  flag_document_13  \\\n",
              "0                 0                 0                 0                 0   \n",
              "1                 0                 0                 0                 0   \n",
              "2                 0                 0                 0                 0   \n",
              "\n",
              "  flag_document_14 flag_document_15  flag_document_16 flag_document_17  \\\n",
              "0                0                0                 0                0   \n",
              "1                0                0                 0                0   \n",
              "2                0                0                 0                0   \n",
              "\n",
              "  flag_document_18  flag_document_19  flag_document_20  flag_document_21  \\\n",
              "0                0                 0                 0                 0   \n",
              "1                0                 0                 0                 0   \n",
              "2                0                 0                 0                 0   \n",
              "\n",
              "   amt_req_credit_bureau_hour  amt_req_credit_bureau_day  \\\n",
              "0                         0.0                        0.0   \n",
              "1                         0.0                        0.0   \n",
              "2                         0.0                        0.0   \n",
              "\n",
              "   amt_req_credit_bureau_week  amt_req_credit_bureau_mon  \\\n",
              "0                         0.0                        0.0   \n",
              "1                         0.0                        0.0   \n",
              "2                         0.0                        0.0   \n",
              "\n",
              "   amt_req_credit_bureau_qrt  amt_req_credit_bureau_year  \n",
              "0                        0.0                         1.0  \n",
              "1                        0.0                         0.0  \n",
              "2                        0.0                         0.0  \n",
              "\n",
              "[3 rows x 122 columns]"
            ],
            "text/html": [
              "\n",
              "  <div id=\"df-c0151c2a-9bbf-421e-b6f9-02fef46957d0\">\n",
              "    <div class=\"colab-df-container\">\n",
              "      <div>\n",
              "<style scoped>\n",
              "    .dataframe tbody tr th:only-of-type {\n",
              "        vertical-align: middle;\n",
              "    }\n",
              "\n",
              "    .dataframe tbody tr th {\n",
              "        vertical-align: top;\n",
              "    }\n",
              "\n",
              "    .dataframe thead th {\n",
              "        text-align: right;\n",
              "    }\n",
              "</style>\n",
              "<table border=\"1\" class=\"dataframe\">\n",
              "  <thead>\n",
              "    <tr style=\"text-align: right;\">\n",
              "      <th></th>\n",
              "      <th>sk_id_curr</th>\n",
              "      <th>target</th>\n",
              "      <th>name_contract_type</th>\n",
              "      <th>code_gender</th>\n",
              "      <th>flag_own_car</th>\n",
              "      <th>flag_own_realty</th>\n",
              "      <th>cnt_children</th>\n",
              "      <th>amt_income_total</th>\n",
              "      <th>amt_credit</th>\n",
              "      <th>amt_annuity</th>\n",
              "      <th>amt_goods_price</th>\n",
              "      <th>name_type_suite</th>\n",
              "      <th>name_income_type</th>\n",
              "      <th>name_education_type</th>\n",
              "      <th>name_family_status</th>\n",
              "      <th>name_housing_type</th>\n",
              "      <th>region_population_relative</th>\n",
              "      <th>days_birth</th>\n",
              "      <th>days_employed</th>\n",
              "      <th>days_registration</th>\n",
              "      <th>days_id_publish</th>\n",
              "      <th>own_car_age</th>\n",
              "      <th>flag_mobil</th>\n",
              "      <th>flag_emp_phone</th>\n",
              "      <th>flag_work_phone</th>\n",
              "      <th>flag_cont_mobile</th>\n",
              "      <th>flag_phone</th>\n",
              "      <th>flag_email</th>\n",
              "      <th>occupation_type</th>\n",
              "      <th>cnt_fam_members</th>\n",
              "      <th>region_rating_client</th>\n",
              "      <th>region_rating_client_w_city</th>\n",
              "      <th>weekday_appr_process_start</th>\n",
              "      <th>hour_appr_process_start</th>\n",
              "      <th>reg_region_not_live_region</th>\n",
              "      <th>reg_region_not_work_region</th>\n",
              "      <th>live_region_not_work_region</th>\n",
              "      <th>reg_city_not_live_city</th>\n",
              "      <th>reg_city_not_work_city</th>\n",
              "      <th>live_city_not_work_city</th>\n",
              "      <th>organization_type</th>\n",
              "      <th>ext_source_1</th>\n",
              "      <th>ext_source_2</th>\n",
              "      <th>ext_source_3</th>\n",
              "      <th>apartments_avg</th>\n",
              "      <th>basementarea_avg</th>\n",
              "      <th>years_beginexpluatation_avg</th>\n",
              "      <th>years_build_avg</th>\n",
              "      <th>commonarea_avg</th>\n",
              "      <th>elevators_avg</th>\n",
              "      <th>...</th>\n",
              "      <th>apartments_medi</th>\n",
              "      <th>basementarea_medi</th>\n",
              "      <th>years_beginexpluatation_medi</th>\n",
              "      <th>years_build_medi</th>\n",
              "      <th>commonarea_medi</th>\n",
              "      <th>elevators_medi</th>\n",
              "      <th>entrances_medi</th>\n",
              "      <th>floorsmax_medi</th>\n",
              "      <th>floorsmin_medi</th>\n",
              "      <th>landarea_medi</th>\n",
              "      <th>livingapartments_medi</th>\n",
              "      <th>livingarea_medi</th>\n",
              "      <th>nonlivingapartments_medi</th>\n",
              "      <th>nonlivingarea_medi</th>\n",
              "      <th>fondkapremont_mode</th>\n",
              "      <th>housetype_mode</th>\n",
              "      <th>totalarea_mode</th>\n",
              "      <th>wallsmaterial_mode</th>\n",
              "      <th>emergencystate_mode</th>\n",
              "      <th>obs_30_cnt_social_circle</th>\n",
              "      <th>def_30_cnt_social_circle</th>\n",
              "      <th>obs_60_cnt_social_circle</th>\n",
              "      <th>def_60_cnt_social_circle</th>\n",
              "      <th>days_last_phone_change</th>\n",
              "      <th>flag_document_2</th>\n",
              "      <th>flag_document_3</th>\n",
              "      <th>flag_document_4</th>\n",
              "      <th>flag_document_5</th>\n",
              "      <th>flag_document_6</th>\n",
              "      <th>flag_document_7</th>\n",
              "      <th>flag_document_8</th>\n",
              "      <th>flag_document_9</th>\n",
              "      <th>flag_document_10</th>\n",
              "      <th>flag_document_11</th>\n",
              "      <th>flag_document_12</th>\n",
              "      <th>flag_document_13</th>\n",
              "      <th>flag_document_14</th>\n",
              "      <th>flag_document_15</th>\n",
              "      <th>flag_document_16</th>\n",
              "      <th>flag_document_17</th>\n",
              "      <th>flag_document_18</th>\n",
              "      <th>flag_document_19</th>\n",
              "      <th>flag_document_20</th>\n",
              "      <th>flag_document_21</th>\n",
              "      <th>amt_req_credit_bureau_hour</th>\n",
              "      <th>amt_req_credit_bureau_day</th>\n",
              "      <th>amt_req_credit_bureau_week</th>\n",
              "      <th>amt_req_credit_bureau_mon</th>\n",
              "      <th>amt_req_credit_bureau_qrt</th>\n",
              "      <th>amt_req_credit_bureau_year</th>\n",
              "    </tr>\n",
              "  </thead>\n",
              "  <tbody>\n",
              "    <tr>\n",
              "      <th>0</th>\n",
              "      <td>100002</td>\n",
              "      <td>1</td>\n",
              "      <td>Cash loans</td>\n",
              "      <td>M</td>\n",
              "      <td>N</td>\n",
              "      <td>Y</td>\n",
              "      <td>0</td>\n",
              "      <td>202500.0</td>\n",
              "      <td>406597.5</td>\n",
              "      <td>24700.5</td>\n",
              "      <td>351000.0</td>\n",
              "      <td>Unaccompanied</td>\n",
              "      <td>Working</td>\n",
              "      <td>Secondary / secondary special</td>\n",
              "      <td>Single / not married</td>\n",
              "      <td>House / apartment</td>\n",
              "      <td>0.018801</td>\n",
              "      <td>-9461</td>\n",
              "      <td>-637</td>\n",
              "      <td>-3648.0</td>\n",
              "      <td>-2120</td>\n",
              "      <td>NaN</td>\n",
              "      <td>1</td>\n",
              "      <td>1</td>\n",
              "      <td>0</td>\n",
              "      <td>1</td>\n",
              "      <td>1</td>\n",
              "      <td>0</td>\n",
              "      <td>Laborers</td>\n",
              "      <td>1.0</td>\n",
              "      <td>2</td>\n",
              "      <td>2</td>\n",
              "      <td>WEDNESDAY</td>\n",
              "      <td>10</td>\n",
              "      <td>0</td>\n",
              "      <td>0</td>\n",
              "      <td>0</td>\n",
              "      <td>0</td>\n",
              "      <td>0</td>\n",
              "      <td>0</td>\n",
              "      <td>Business Entity Type 3</td>\n",
              "      <td>0.083037</td>\n",
              "      <td>0.262949</td>\n",
              "      <td>0.139376</td>\n",
              "      <td>0.0247</td>\n",
              "      <td>0.0369</td>\n",
              "      <td>0.9722</td>\n",
              "      <td>0.6192</td>\n",
              "      <td>0.0143</td>\n",
              "      <td>0.00</td>\n",
              "      <td>...</td>\n",
              "      <td>0.0250</td>\n",
              "      <td>0.0369</td>\n",
              "      <td>0.9722</td>\n",
              "      <td>0.6243</td>\n",
              "      <td>0.0144</td>\n",
              "      <td>0.00</td>\n",
              "      <td>0.0690</td>\n",
              "      <td>0.0833</td>\n",
              "      <td>0.1250</td>\n",
              "      <td>0.0375</td>\n",
              "      <td>0.0205</td>\n",
              "      <td>0.0193</td>\n",
              "      <td>0.0000</td>\n",
              "      <td>0.00</td>\n",
              "      <td>reg oper account</td>\n",
              "      <td>block of flats</td>\n",
              "      <td>0.0149</td>\n",
              "      <td>Stone, brick</td>\n",
              "      <td>No</td>\n",
              "      <td>2.0</td>\n",
              "      <td>2.0</td>\n",
              "      <td>2.0</td>\n",
              "      <td>2.0</td>\n",
              "      <td>-1134.0</td>\n",
              "      <td>0</td>\n",
              "      <td>1</td>\n",
              "      <td>0</td>\n",
              "      <td>0</td>\n",
              "      <td>0</td>\n",
              "      <td>0</td>\n",
              "      <td>0</td>\n",
              "      <td>0</td>\n",
              "      <td>0</td>\n",
              "      <td>0</td>\n",
              "      <td>0</td>\n",
              "      <td>0</td>\n",
              "      <td>0</td>\n",
              "      <td>0</td>\n",
              "      <td>0</td>\n",
              "      <td>0</td>\n",
              "      <td>0</td>\n",
              "      <td>0</td>\n",
              "      <td>0</td>\n",
              "      <td>0</td>\n",
              "      <td>0.0</td>\n",
              "      <td>0.0</td>\n",
              "      <td>0.0</td>\n",
              "      <td>0.0</td>\n",
              "      <td>0.0</td>\n",
              "      <td>1.0</td>\n",
              "    </tr>\n",
              "    <tr>\n",
              "      <th>1</th>\n",
              "      <td>100003</td>\n",
              "      <td>-1</td>\n",
              "      <td>Cash loans</td>\n",
              "      <td>F</td>\n",
              "      <td>N</td>\n",
              "      <td>N</td>\n",
              "      <td>0</td>\n",
              "      <td>270000.0</td>\n",
              "      <td>1293502.5</td>\n",
              "      <td>35698.5</td>\n",
              "      <td>1129500.0</td>\n",
              "      <td>Family</td>\n",
              "      <td>State servant</td>\n",
              "      <td>Higher education</td>\n",
              "      <td>Married</td>\n",
              "      <td>House / apartment</td>\n",
              "      <td>0.003541</td>\n",
              "      <td>-16765</td>\n",
              "      <td>-1188</td>\n",
              "      <td>-1186.0</td>\n",
              "      <td>-291</td>\n",
              "      <td>NaN</td>\n",
              "      <td>1</td>\n",
              "      <td>1</td>\n",
              "      <td>0</td>\n",
              "      <td>1</td>\n",
              "      <td>1</td>\n",
              "      <td>0</td>\n",
              "      <td>Core staff</td>\n",
              "      <td>2.0</td>\n",
              "      <td>1</td>\n",
              "      <td>1</td>\n",
              "      <td>MONDAY</td>\n",
              "      <td>11</td>\n",
              "      <td>0</td>\n",
              "      <td>0</td>\n",
              "      <td>0</td>\n",
              "      <td>0</td>\n",
              "      <td>0</td>\n",
              "      <td>0</td>\n",
              "      <td>School</td>\n",
              "      <td>0.311267</td>\n",
              "      <td>0.622246</td>\n",
              "      <td>NaN</td>\n",
              "      <td>0.0959</td>\n",
              "      <td>0.0529</td>\n",
              "      <td>0.9851</td>\n",
              "      <td>0.7960</td>\n",
              "      <td>0.0605</td>\n",
              "      <td>0.08</td>\n",
              "      <td>...</td>\n",
              "      <td>0.0968</td>\n",
              "      <td>0.0529</td>\n",
              "      <td>0.9851</td>\n",
              "      <td>0.7987</td>\n",
              "      <td>0.0608</td>\n",
              "      <td>0.08</td>\n",
              "      <td>0.0345</td>\n",
              "      <td>0.2917</td>\n",
              "      <td>0.3333</td>\n",
              "      <td>0.0132</td>\n",
              "      <td>0.0787</td>\n",
              "      <td>0.0558</td>\n",
              "      <td>0.0039</td>\n",
              "      <td>0.01</td>\n",
              "      <td>reg oper account</td>\n",
              "      <td>block of flats</td>\n",
              "      <td>0.0714</td>\n",
              "      <td>Block</td>\n",
              "      <td>No</td>\n",
              "      <td>1.0</td>\n",
              "      <td>0.0</td>\n",
              "      <td>1.0</td>\n",
              "      <td>0.0</td>\n",
              "      <td>-828.0</td>\n",
              "      <td>0</td>\n",
              "      <td>1</td>\n",
              "      <td>0</td>\n",
              "      <td>0</td>\n",
              "      <td>0</td>\n",
              "      <td>0</td>\n",
              "      <td>0</td>\n",
              "      <td>0</td>\n",
              "      <td>0</td>\n",
              "      <td>0</td>\n",
              "      <td>0</td>\n",
              "      <td>0</td>\n",
              "      <td>0</td>\n",
              "      <td>0</td>\n",
              "      <td>0</td>\n",
              "      <td>0</td>\n",
              "      <td>0</td>\n",
              "      <td>0</td>\n",
              "      <td>0</td>\n",
              "      <td>0</td>\n",
              "      <td>0.0</td>\n",
              "      <td>0.0</td>\n",
              "      <td>0.0</td>\n",
              "      <td>0.0</td>\n",
              "      <td>0.0</td>\n",
              "      <td>0.0</td>\n",
              "    </tr>\n",
              "    <tr>\n",
              "      <th>2</th>\n",
              "      <td>100004</td>\n",
              "      <td>-1</td>\n",
              "      <td>Revolving loans</td>\n",
              "      <td>M</td>\n",
              "      <td>Y</td>\n",
              "      <td>Y</td>\n",
              "      <td>0</td>\n",
              "      <td>67500.0</td>\n",
              "      <td>135000.0</td>\n",
              "      <td>6750.0</td>\n",
              "      <td>135000.0</td>\n",
              "      <td>Unaccompanied</td>\n",
              "      <td>Working</td>\n",
              "      <td>Secondary / secondary special</td>\n",
              "      <td>Single / not married</td>\n",
              "      <td>House / apartment</td>\n",
              "      <td>0.010032</td>\n",
              "      <td>-19046</td>\n",
              "      <td>-225</td>\n",
              "      <td>-4260.0</td>\n",
              "      <td>-2531</td>\n",
              "      <td>26.0</td>\n",
              "      <td>1</td>\n",
              "      <td>1</td>\n",
              "      <td>1</td>\n",
              "      <td>1</td>\n",
              "      <td>1</td>\n",
              "      <td>0</td>\n",
              "      <td>Laborers</td>\n",
              "      <td>1.0</td>\n",
              "      <td>2</td>\n",
              "      <td>2</td>\n",
              "      <td>MONDAY</td>\n",
              "      <td>9</td>\n",
              "      <td>0</td>\n",
              "      <td>0</td>\n",
              "      <td>0</td>\n",
              "      <td>0</td>\n",
              "      <td>0</td>\n",
              "      <td>0</td>\n",
              "      <td>Government</td>\n",
              "      <td>NaN</td>\n",
              "      <td>0.555912</td>\n",
              "      <td>0.729567</td>\n",
              "      <td>NaN</td>\n",
              "      <td>NaN</td>\n",
              "      <td>NaN</td>\n",
              "      <td>NaN</td>\n",
              "      <td>NaN</td>\n",
              "      <td>NaN</td>\n",
              "      <td>...</td>\n",
              "      <td>NaN</td>\n",
              "      <td>NaN</td>\n",
              "      <td>NaN</td>\n",
              "      <td>NaN</td>\n",
              "      <td>NaN</td>\n",
              "      <td>NaN</td>\n",
              "      <td>NaN</td>\n",
              "      <td>NaN</td>\n",
              "      <td>NaN</td>\n",
              "      <td>NaN</td>\n",
              "      <td>NaN</td>\n",
              "      <td>NaN</td>\n",
              "      <td>NaN</td>\n",
              "      <td>NaN</td>\n",
              "      <td>NaN</td>\n",
              "      <td>NaN</td>\n",
              "      <td>NaN</td>\n",
              "      <td>NaN</td>\n",
              "      <td>NaN</td>\n",
              "      <td>0.0</td>\n",
              "      <td>0.0</td>\n",
              "      <td>0.0</td>\n",
              "      <td>0.0</td>\n",
              "      <td>-815.0</td>\n",
              "      <td>0</td>\n",
              "      <td>0</td>\n",
              "      <td>0</td>\n",
              "      <td>0</td>\n",
              "      <td>0</td>\n",
              "      <td>0</td>\n",
              "      <td>0</td>\n",
              "      <td>0</td>\n",
              "      <td>0</td>\n",
              "      <td>0</td>\n",
              "      <td>0</td>\n",
              "      <td>0</td>\n",
              "      <td>0</td>\n",
              "      <td>0</td>\n",
              "      <td>0</td>\n",
              "      <td>0</td>\n",
              "      <td>0</td>\n",
              "      <td>0</td>\n",
              "      <td>0</td>\n",
              "      <td>0</td>\n",
              "      <td>0.0</td>\n",
              "      <td>0.0</td>\n",
              "      <td>0.0</td>\n",
              "      <td>0.0</td>\n",
              "      <td>0.0</td>\n",
              "      <td>0.0</td>\n",
              "    </tr>\n",
              "  </tbody>\n",
              "</table>\n",
              "<p>3 rows × 122 columns</p>\n",
              "</div>\n",
              "      <button class=\"colab-df-convert\" onclick=\"convertToInteractive('df-c0151c2a-9bbf-421e-b6f9-02fef46957d0')\"\n",
              "              title=\"Convert this dataframe to an interactive table.\"\n",
              "              style=\"display:none;\">\n",
              "        \n",
              "  <svg xmlns=\"http://www.w3.org/2000/svg\" height=\"24px\"viewBox=\"0 0 24 24\"\n",
              "       width=\"24px\">\n",
              "    <path d=\"M0 0h24v24H0V0z\" fill=\"none\"/>\n",
              "    <path d=\"M18.56 5.44l.94 2.06.94-2.06 2.06-.94-2.06-.94-.94-2.06-.94 2.06-2.06.94zm-11 1L8.5 8.5l.94-2.06 2.06-.94-2.06-.94L8.5 2.5l-.94 2.06-2.06.94zm10 10l.94 2.06.94-2.06 2.06-.94-2.06-.94-.94-2.06-.94 2.06-2.06.94z\"/><path d=\"M17.41 7.96l-1.37-1.37c-.4-.4-.92-.59-1.43-.59-.52 0-1.04.2-1.43.59L10.3 9.45l-7.72 7.72c-.78.78-.78 2.05 0 2.83L4 21.41c.39.39.9.59 1.41.59.51 0 1.02-.2 1.41-.59l7.78-7.78 2.81-2.81c.8-.78.8-2.07 0-2.86zM5.41 20L4 18.59l7.72-7.72 1.47 1.35L5.41 20z\"/>\n",
              "  </svg>\n",
              "      </button>\n",
              "      \n",
              "  <style>\n",
              "    .colab-df-container {\n",
              "      display:flex;\n",
              "      flex-wrap:wrap;\n",
              "      gap: 12px;\n",
              "    }\n",
              "\n",
              "    .colab-df-convert {\n",
              "      background-color: #E8F0FE;\n",
              "      border: none;\n",
              "      border-radius: 50%;\n",
              "      cursor: pointer;\n",
              "      display: none;\n",
              "      fill: #1967D2;\n",
              "      height: 32px;\n",
              "      padding: 0 0 0 0;\n",
              "      width: 32px;\n",
              "    }\n",
              "\n",
              "    .colab-df-convert:hover {\n",
              "      background-color: #E2EBFA;\n",
              "      box-shadow: 0px 1px 2px rgba(60, 64, 67, 0.3), 0px 1px 3px 1px rgba(60, 64, 67, 0.15);\n",
              "      fill: #174EA6;\n",
              "    }\n",
              "\n",
              "    [theme=dark] .colab-df-convert {\n",
              "      background-color: #3B4455;\n",
              "      fill: #D2E3FC;\n",
              "    }\n",
              "\n",
              "    [theme=dark] .colab-df-convert:hover {\n",
              "      background-color: #434B5C;\n",
              "      box-shadow: 0px 1px 3px 1px rgba(0, 0, 0, 0.15);\n",
              "      filter: drop-shadow(0px 1px 2px rgba(0, 0, 0, 0.3));\n",
              "      fill: #FFFFFF;\n",
              "    }\n",
              "  </style>\n",
              "\n",
              "      <script>\n",
              "        const buttonEl =\n",
              "          document.querySelector('#df-c0151c2a-9bbf-421e-b6f9-02fef46957d0 button.colab-df-convert');\n",
              "        buttonEl.style.display =\n",
              "          google.colab.kernel.accessAllowed ? 'block' : 'none';\n",
              "\n",
              "        async function convertToInteractive(key) {\n",
              "          const element = document.querySelector('#df-c0151c2a-9bbf-421e-b6f9-02fef46957d0');\n",
              "          const dataTable =\n",
              "            await google.colab.kernel.invokeFunction('convertToInteractive',\n",
              "                                                     [key], {});\n",
              "          if (!dataTable) return;\n",
              "\n",
              "          const docLinkHtml = 'Like what you see? Visit the ' +\n",
              "            '<a target=\"_blank\" href=https://colab.research.google.com/notebooks/data_table.ipynb>data table notebook</a>'\n",
              "            + ' to learn more about interactive tables.';\n",
              "          element.innerHTML = '';\n",
              "          dataTable['output_type'] = 'display_data';\n",
              "          await google.colab.output.renderOutput(dataTable, element);\n",
              "          const docLink = document.createElement('div');\n",
              "          docLink.innerHTML = docLinkHtml;\n",
              "          element.appendChild(docLink);\n",
              "        }\n",
              "      </script>\n",
              "    </div>\n",
              "  </div>\n",
              "  "
            ]
          },
          "metadata": {},
          "execution_count": 1
        }
      ],
      "source": [
        "import numpy as np, pandas as pd\n",
        "import zipfile\n",
        "\n",
        "%load_ext autoreload\n",
        "%autoreload 2\n",
        "\n",
        "# %load_ext - https://ipython.readthedocs.io/en/stable/interactive/magics.html\n",
        "# %autoreload - https://ipython.org/ipython-doc/3/config/extensions/autoreload.html\n",
        "\n",
        "zf = zipfile.ZipFile('data.zip') \n",
        "\n",
        "data = pd.read_csv(zf.open('data/application_train.csv'))\n",
        "data.columns = ['_'.join([word.lower() for word in col_name.split(' ') if word != '-']) for col_name in data.columns]\n",
        "\n",
        "data.target = data.target.map({0: -1, 1: 1})\n",
        "\n",
        "from IPython.display import display\n",
        "\n",
        "print('\\ntarget value_counts:')\n",
        "display(data['target'].value_counts(dropna=False))\n",
        "\n",
        "pd.options.display.max_columns = 100\n",
        "pd.options.display.max_rows = 150\n",
        "\n",
        "data.head(3)"
      ]
    },
    {
      "cell_type": "markdown",
      "id": "fd9f6bfd",
      "metadata": {
        "id": "fd9f6bfd"
      },
      "source": [
        "**Неожиданная заметка**\n",
        "\n",
        "С этого момента предлагается некоторым образом отмечать все \"неоднозначные\" моменты, которые диктует вам домашка. Пример комментирования таких мест в коде - ниже. Если такие места находятся в текстовой ячейке, нужно после нее создать ячейку и прокомментировать желаемые места. Пример:"
      ]
    },
    {
      "cell_type": "code",
      "execution_count": 16,
      "id": "f9f5f8ef",
      "metadata": {
        "id": "f9f5f8ef"
      },
      "outputs": [],
      "source": [
        "#*! что такое \"неоднозначные\" моменты?\n",
        "#*! \"Если такие места находятся в текстовой ячейке...\" - не раскрыт случай нахождения таких мест \"между строк\""
      ]
    },
    {
      "cell_type": "markdown",
      "id": "6215fdfd",
      "metadata": {
        "id": "6215fdfd"
      },
      "source": [
        "Под \"неоднозначными\" понимается нечто, что навязывается вам домашкой, но не является по вашему мнению оптимальным / единственно правильным способом сделать / делать то или иное с точки зрения логики.\n",
        "\n",
        "К таким моментам НЕ относятся, например: <br>\n",
        "разные способы фиксация сида, способы выбрать рандомные индексы без повторений, в общем все, что \"в разных случаях\" делает \"примерно одно и то же\" и работает \"примерно одинаково\".\n",
        "\n",
        "Точное количество таких моментов в домашке не определено. Вы сами решаете, что комментировать.\n",
        "\n",
        "За проявление внимательности можно будет получить бонусные баллы за работу! <br>\n",
        "За проявление вопиющей невнимательности можно будет потерять баллы за работу!"
      ]
    },
    {
      "cell_type": "code",
      "execution_count": 2,
      "id": "97481754",
      "metadata": {
        "colab": {
          "base_uri": "https://localhost:8080/"
        },
        "id": "97481754",
        "outputId": "a9307317-4308-4860-fefd-f5cda2e8ae19"
      },
      "outputs": [
        {
          "output_type": "stream",
          "name": "stdout",
          "text": [
            "tst shape: (61502, 122)\n",
            "val shape: (73802, 122)\n",
            "tr shape: (172207, 122)\n"
          ]
        }
      ],
      "source": [
        "np.random.seed(911)\n",
        "\n",
        "test_size = int(0.2 * data.shape[0]) #*! почему 0.2?\n",
        "val_size = int(0.3 * (data.shape[0] - test_size)) #*! почему 0.3?\n",
        "test_idx = np.random.choice(data.shape[0], size=test_size, replace=False)\n",
        "\n",
        "val_idx_candidates = np.setdiff1d(np.arange(data.shape[0]), test_idx)\n",
        "val_idx = np.random.choice(val_idx_candidates, size=val_size, replace=False)\n",
        "\n",
        "data_dict = dict()\n",
        "data_dict['tst'] = data.loc[test_idx].reset_index(drop=True) \n",
        "data_dict['val'] = data.loc[val_idx].reset_index(drop=True)\n",
        "\n",
        "not_train_idx = np.union1d(test_idx, val_idx)\n",
        "data_dict['tr'] = data.drop(index=not_train_idx)\n",
        "data_dict['tr'].reset_index(drop=True, inplace=True)\n",
        "\n",
        "for key, df in data_dict.items():\n",
        "    print(key, 'shape:', df.shape)"
      ]
    },
    {
      "cell_type": "markdown",
      "id": "feea470a",
      "metadata": {
        "id": "feea470a"
      },
      "source": [
        "### Часть первая. Погружаемся в \"зону адекватности\" гиперпараметров (5 баллов)\n",
        "\n",
        "Будем считать, для начала, что мы провели какую-то предобработку данных, и теперь мы готовы обучать на них нашу модель. Гиперпараметрами, которые хочется подобрать, являются `step_alpha`, `step_beta`, `batch_size`, `l2_coef`. Будем двигаться к тому, чтобы поизучать, как связаны между собой первые три. Для этого нужно зафиксировать коэффициент l2-регуляризации лосса на каком-нибудь адекватном значении. Будем использовать `optuna`, чтобы его выяснить (см. соответствующий семинар)."
      ]
    },
    {
      "cell_type": "code",
      "source": [
        "#*! но мы кажется эту предобработку данных не провели по ходу домашки? там как минимум наны есть. \n",
        "#в общем, предобработку данных нужно провести, а не считать что мы её провели"
      ],
      "metadata": {
        "id": "_wia7PmS8iec"
      },
      "id": "_wia7PmS8iec",
      "execution_count": 18,
      "outputs": []
    },
    {
      "cell_type": "markdown",
      "id": "c3232e24",
      "metadata": {
        "id": "c3232e24"
      },
      "source": [
        "Напишите ниже свою `objective_function`, которую в дальнейшем будем оптимизировать. Перебираемые гиперпараметры даны выше; подумайте, как лучше задать их распределения. Положите `tolerance = 1e-4, max_iter = 30, random_seed = 911`. \n",
        "\n",
        "  В качестве меры качества предлагается использовать ваш реализованный `BinaryLogisticLoss` на валидации без учета слагаемого, отвечающего за регуляризацию.\n",
        "\n",
        "  **Совет:** не включайте значения `batch_size` сильно меньше 300, это приведет к долгому времени одной эпохи."
      ]
    },
    {
      "cell_type": "code",
      "execution_count": 3,
      "id": "49b79fd3",
      "metadata": {
        "id": "49b79fd3"
      },
      "outputs": [],
      "source": [
        "from modules.linear_model import LinearModel\n",
        "from modules.losses import BinaryLogisticLoss\n",
        "\n",
        "def objective(trial, X_tr, y_tr, X_val, y_val):\n",
        "    # your code here\n",
        "    step_alpha = trial.suggest_float('alpha', 1, 5, step=0.1)\n",
        "    step_beta = trial.suggest_float('beta', 1, 5, step=0.1)\n",
        "    batch_size = trial.suggest_int('batch_size', 500, 2000, step=50)\n",
        "    l2_coef = trial.suggest_float('l2', 0.1, 1, step = 0.01)\n",
        "\n",
        "    blogloss = BinaryLogisticLoss(l2_coef=l2_coef)\n",
        "    model = LinearModel(blogloss, batch_size=batch_size, step_alpha=step_alpha, step_beta=step_beta, tolerance=1e-4, max_iter=30, random_seed=911)\n",
        "    model.fit(X_tr, y_tr)\n",
        "\n",
        "    obj = model.get_objective(X_val, y_val)\n",
        "\n",
        "    return obj \n"
      ]
    },
    {
      "cell_type": "markdown",
      "id": "d816d5d3",
      "metadata": {
        "id": "d816d5d3"
      },
      "source": [
        "Напишите функцию `start_optimization`, запускающую сессию оптимизации, используя входные параметры для предобработки данных:\n",
        "\n",
        "В ней создайте объект сессии оптимизации - `study` с sampler=sampler. Подготовьте ваш `objective_func` и данные (в качестве фичей по умолчанию будем использовать все числовые признаки, а обрабатывать данные по умолчанию будем минимальным простым пайплайном, приведенным ниже).\n",
        "\n",
        "Функция должна возвращать `study`."
      ]
    },
    {
      "cell_type": "code",
      "execution_count": 4,
      "id": "666291be",
      "metadata": {
        "id": "666291be"
      },
      "outputs": [],
      "source": [
        "from sklearn.preprocessing import StandardScaler, OneHotEncoder #*! у нас есть категориальные фичи в датасете, прежде чем их скейлить, их нужно заенкодить\n",
        "from sklearn.compose import ColumnTransformer\n",
        "from sklearn.impute import SimpleImputer\n",
        "from sklearn.pipeline import make_pipeline\n",
        "    \n",
        "def start_optimization(\n",
        "    objective_func, # принимает trial, X_tr, y_tr, X_val, y_val, **other_objective_kwargs\n",
        "    n_trials,\n",
        "    n_jobs,\n",
        "    data_dict,\n",
        "    study_direction=None,\n",
        "    study_directions=None,\n",
        "    sampler=None,\n",
        "    prep=None,\n",
        "    features=None,\n",
        "    **other_objective_kwargs\n",
        "):\n",
        "    if prep is None:\n",
        "        prep = make_pipeline(\n",
        "            OneHotEncoder(),\n",
        "            SimpleImputer(strategy='median'),\n",
        "            StandardScaler(with_mean=False),\n",
        "        )\n",
        "    \n",
        "    if features is None:\n",
        "        features = data.select_dtypes(np.number).drop(columns=['target', 'sk_id_curr']).columns\n",
        "\n",
        "    # your code here\n",
        "    train = data_dict['tr']\n",
        "    val = data_dict['val']\n",
        "    all_data = pd.concat([train, val])\n",
        "    y = pd.concat([train['target'], val['target']], axis=0)\n",
        "\n",
        "    cat_columns_names = ['name_contract_type', 'code_gender', 'flag_own_car', 'flag_own_realty', 'name_type_suite', 'name_income_type', 'name_education_type', \n",
        "           'name_family_status', 'name_housing_type', 'occupation_type', 'weekday_appr_process_start', 'organization_type', \n",
        "           'fondkapremont_mode', 'housetype_mode', 'wallsmaterial_mode', 'emergencystate_mode']\n",
        "\n",
        "    num_columns = train.drop(['target', 'sk_id_curr'], axis=1)\n",
        "    num_columns = num_columns.drop(cat_columns_names, axis=1)\n",
        "    num_columns_names = list(num_columns.columns)\n",
        "\n",
        "    scaler = StandardScaler()\n",
        "    imputer = SimpleImputer()\n",
        "    ohe = OneHotEncoder()\n",
        "\n",
        "    num_transformer = make_pipeline(imputer, scaler)\n",
        "    cat_transformer = make_pipeline(ohe, imputer)\n",
        "\n",
        "    preprocessor = ColumnTransformer(\n",
        "        transformers=[('num', num_transformer, num_columns_names),\n",
        "                   ('cat', cat_transformer, cat_columns_names)])\n",
        "\n",
        "    pipe = make_pipeline(preprocessor)\n",
        "    new_data = pipe.fit_transform(all_data)\n",
        "\n",
        "    test_size = int(0.2 * new_data.shape[0])\n",
        "    test_idx = np.random.choice(new_data.shape[0], size=test_size, replace=False)\n",
        "    new_data = pd.DataFrame(new_data)\n",
        "    y = y.reset_index(drop=True)\n",
        "    new_data = pd.concat([new_data, y], axis=1)\n",
        "    X_val = new_data.loc[test_idx].reset_index(drop=True) \n",
        "    X_val = X_val.to_numpy()\n",
        "    y_val = new_data['target'].loc[test_idx].to_numpy()\n",
        "\n",
        "    X_train = new_data.drop(index=test_idx)\n",
        "    X_train.reset_index(drop=True, inplace=True)\n",
        "    X_train = X_train.to_numpy()\n",
        "    y_train = new_data['target'].to_numpy()\n",
        "\n",
        "    study = optuna.create_study(direction=study_direction, sampler=sampler)\n",
        "    obj = lambda trial: objective_func(trial, X_train, y_train, X_val, y_val)\n",
        "    study.optimize(func=obj, n_trials=n_trials, timeout=None, n_jobs=n_jobs)\n",
        "    \n",
        "    return study"
      ]
    },
    {
      "cell_type": "markdown",
      "id": "894a3ff8",
      "metadata": {
        "id": "894a3ff8"
      },
      "source": [
        "Запустите процесс оптимизации с `TPESampler`, предварительно настроив, как минимум, `n_startup_trials`; подумайте, какое `n_trials` выбрать."
      ]
    },
    {
      "cell_type": "code",
      "execution_count": 6,
      "id": "3ed6eb28",
      "metadata": {
        "colab": {
          "base_uri": "https://localhost:8080/"
        },
        "id": "3ed6eb28",
        "outputId": "9a6dbaf5-c553-4977-dea8-4c556718257a"
      },
      "outputs": [
        {
          "output_type": "stream",
          "name": "stderr",
          "text": [
            "\u001b[32m[I 2022-11-25 21:05:12,567]\u001b[0m A new study created in memory with name: no-name-f86e2b93-d843-4936-adf5-a858ebc33ee6\u001b[0m\n",
            "/content/modules/losses.py:43: RuntimeWarning: overflow encountered in double_scalars\n",
            "  return np.average(np.logaddexp(0, z)) + sum(w[1:] ** 2) * self.l2_coef\n",
            "/content/modules/losses.py:43: RuntimeWarning: overflow encountered in square\n",
            "  return np.average(np.logaddexp(0, z)) + sum(w[1:] ** 2) * self.l2_coef\n",
            "/content/modules/linear_model.py:100: RuntimeWarning: invalid value encountered in double_scalars\n",
            "  if abs(abs(cost - last_cost)) < self.tolerance:\n",
            "\u001b[32m[I 2022-11-25 21:06:17,433]\u001b[0m Trial 2 finished with value: 27.613842278237005 and parameters: {'alpha': 4.4, 'beta': 2.6, 'batch_size': 1100, 'l2': 0.51}. Best is trial 2 with value: 27.613842278237005.\u001b[0m\n",
            "\u001b[32m[I 2022-11-25 21:06:56,581]\u001b[0m Trial 1 finished with value: 9.165261447884655 and parameters: {'alpha': 2.2, 'beta': 4.2, 'batch_size': 1700, 'l2': 0.47}. Best is trial 1 with value: 9.165261447884655.\u001b[0m\n",
            "\u001b[32m[I 2022-11-25 21:07:35,424]\u001b[0m Trial 0 finished with value: 9.150006319725905e+203 and parameters: {'alpha': 2.9000000000000004, 'beta': 4.5, 'batch_size': 500, 'l2': 0.97}. Best is trial 1 with value: 9.165261447884655.\u001b[0m\n",
            "\u001b[32m[I 2022-11-25 21:07:51,673]\u001b[0m Trial 3 finished with value: 0.2986429675199565 and parameters: {'alpha': 3.0, 'beta': 2.1, 'batch_size': 2000, 'l2': 0.26}. Best is trial 3 with value: 0.2986429675199565.\u001b[0m\n",
            "\u001b[32m[I 2022-11-25 21:08:44,767]\u001b[0m Trial 4 finished with value: 30.050327110973573 and parameters: {'alpha': 4.1, 'beta': 2.4000000000000004, 'batch_size': 900, 'l2': 0.62}. Best is trial 3 with value: 0.2986429675199565.\u001b[0m\n",
            "\u001b[32m[I 2022-11-25 21:09:07,061]\u001b[0m Trial 5 finished with value: 9.491145520262027 and parameters: {'alpha': 2.6, 'beta': 2.4000000000000004, 'batch_size': 1850, 'l2': 0.83}. Best is trial 3 with value: 0.2986429675199565.\u001b[0m\n",
            "\u001b[32m[I 2022-11-25 21:09:18,822]\u001b[0m Trial 6 finished with value: 0.28581504670634883 and parameters: {'alpha': 1.4, 'beta': 1.0, 'batch_size': 1950, 'l2': 0.21000000000000002}. Best is trial 6 with value: 0.28581504670634883.\u001b[0m\n",
            "\u001b[32m[I 2022-11-25 21:09:37,134]\u001b[0m Trial 9 finished with value: 1.4367281255645998 and parameters: {'alpha': 2.6, 'beta': 4.0, 'batch_size': 1350, 'l2': 0.31}. Best is trial 6 with value: 0.28581504670634883.\u001b[0m\n",
            "\u001b[32m[I 2022-11-25 21:10:09,191]\u001b[0m Trial 7 finished with value: 10.04232239911022 and parameters: {'alpha': 2.0, 'beta': 2.7, 'batch_size': 1700, 'l2': 0.6799999999999999}. Best is trial 6 with value: 0.28581504670634883.\u001b[0m\n",
            "\u001b[32m[I 2022-11-25 21:10:34,278]\u001b[0m Trial 8 finished with value: 5.929181423542389 and parameters: {'alpha': 1.8, 'beta': 2.2, 'batch_size': 1950, 'l2': 0.69}. Best is trial 6 with value: 0.28581504670634883.\u001b[0m\n",
            "\u001b[32m[I 2022-11-25 21:11:04,089]\u001b[0m Trial 10 finished with value: 17.321227405647477 and parameters: {'alpha': 5.0, 'beta': 2.9000000000000004, 'batch_size': 2000, 'l2': 0.31}. Best is trial 6 with value: 0.28581504670634883.\u001b[0m\n",
            "\u001b[32m[I 2022-11-25 21:11:35,514]\u001b[0m Trial 12 finished with value: 26.35020650566774 and parameters: {'alpha': 2.0, 'beta': 4.6, 'batch_size': 550, 'l2': 0.52}. Best is trial 6 with value: 0.28581504670634883.\u001b[0m\n",
            "\u001b[32m[I 2022-11-25 21:11:39,918]\u001b[0m Trial 11 finished with value: 9.837731691720903 and parameters: {'alpha': 2.6, 'beta': 2.2, 'batch_size': 1800, 'l2': 0.9}. Best is trial 6 with value: 0.28581504670634883.\u001b[0m\n",
            "\u001b[32m[I 2022-11-25 21:12:14,460]\u001b[0m Trial 14 finished with value: 0.28320453481253194 and parameters: {'alpha': 1.3, 'beta': 2.9000000000000004, 'batch_size': 1400, 'l2': 0.11}. Best is trial 14 with value: 0.28320453481253194.\u001b[0m\n",
            "\u001b[32m[I 2022-11-25 21:12:29,499]\u001b[0m Trial 13 finished with value: 23.637684331514865 and parameters: {'alpha': 3.7, 'beta': 1.4, 'batch_size': 1650, 'l2': 0.98}. Best is trial 14 with value: 0.28320453481253194.\u001b[0m\n",
            "\u001b[32m[I 2022-11-25 21:13:07,849]\u001b[0m Trial 15 finished with value: 24.474155690451564 and parameters: {'alpha': 5.0, 'beta': 2.2, 'batch_size': 1950, 'l2': 0.94}. Best is trial 14 with value: 0.28320453481253194.\u001b[0m\n",
            "\u001b[32m[I 2022-11-25 21:13:26,592]\u001b[0m Trial 18 finished with value: 0.3331596274619222 and parameters: {'alpha': 1.5, 'beta': 2.9000000000000004, 'batch_size': 1350, 'l2': 0.4}. Best is trial 14 with value: 0.28320453481253194.\u001b[0m\n",
            "\u001b[32m[I 2022-11-25 21:13:50,051]\u001b[0m Trial 16 finished with value: 4.521616267223287e+32 and parameters: {'alpha': 4.9, 'beta': 4.5, 'batch_size': 1350, 'l2': 0.30000000000000004}. Best is trial 14 with value: 0.28320453481253194.\u001b[0m\n",
            "\u001b[32m[I 2022-11-25 21:13:58,863]\u001b[0m Trial 17 finished with value: 23.559575565839655 and parameters: {'alpha': 4.7, 'beta': 1.4, 'batch_size': 1850, 'l2': 0.56}. Best is trial 14 with value: 0.28320453481253194.\u001b[0m\n",
            "\u001b[32m[I 2022-11-25 21:14:58,773]\u001b[0m Trial 19 finished with value: 10.342820883763007 and parameters: {'alpha': 2.7, 'beta': 2.4000000000000004, 'batch_size': 1800, 'l2': 0.99}. Best is trial 14 with value: 0.28320453481253194.\u001b[0m\n",
            "\u001b[32m[I 2022-11-25 21:15:24,603]\u001b[0m Trial 20 finished with value: 15.264281597978457 and parameters: {'alpha': 2.8, 'beta': 3.2, 'batch_size': 1600, 'l2': 0.45999999999999996}. Best is trial 14 with value: 0.28320453481253194.\u001b[0m\n",
            "\u001b[32m[I 2022-11-25 21:15:29,074]\u001b[0m Trial 21 finished with value: 0.33800879700515274 and parameters: {'alpha': 1.9, 'beta': 3.9000000000000004, 'batch_size': 2000, 'l2': 0.24000000000000002}. Best is trial 14 with value: 0.28320453481253194.\u001b[0m\n",
            "\u001b[32m[I 2022-11-25 21:16:32,341]\u001b[0m Trial 22 finished with value: 19.420465931604298 and parameters: {'alpha': 4.800000000000001, 'beta': 3.1, 'batch_size': 1750, 'l2': 0.66}. Best is trial 14 with value: 0.28320453481253194.\u001b[0m\n",
            "\u001b[32m[I 2022-11-25 21:16:45,667]\u001b[0m Trial 25 finished with value: 0.3710194509072451 and parameters: {'alpha': 1.0, 'beta': 3.5, 'batch_size': 750, 'l2': 0.78}. Best is trial 14 with value: 0.28320453481253194.\u001b[0m\n",
            "\u001b[32m[I 2022-11-25 21:17:16,185]\u001b[0m Trial 23 finished with value: 2.4440268616684274e+40 and parameters: {'alpha': 4.800000000000001, 'beta': 3.4000000000000004, 'batch_size': 900, 'l2': 0.7}. Best is trial 14 with value: 0.28320453481253194.\u001b[0m\n",
            "\u001b[32m[I 2022-11-25 21:18:36,508]\u001b[0m Trial 27 finished with value: 1.5768404384365885e+39 and parameters: {'alpha': 3.7, 'beta': 3.6, 'batch_size': 1550, 'l2': 0.9}. Best is trial 14 with value: 0.28320453481253194.\u001b[0m\n",
            "\u001b[32m[I 2022-11-25 21:18:48,286]\u001b[0m Trial 26 finished with value: 2.770320326412465e+83 and parameters: {'alpha': 2.9000000000000004, 'beta': 3.8000000000000003, 'batch_size': 650, 'l2': 0.67}. Best is trial 14 with value: 0.28320453481253194.\u001b[0m\n",
            "\u001b[32m[I 2022-11-25 21:19:10,459]\u001b[0m Trial 28 finished with value: 0.3918160209287903 and parameters: {'alpha': 2.5, 'beta': 4.7, 'batch_size': 800, 'l2': 0.22}. Best is trial 14 with value: 0.28320453481253194.\u001b[0m\n",
            "\u001b[32m[I 2022-11-25 21:19:17,618]\u001b[0m Trial 29 finished with value: 0.2890312984454526 and parameters: {'alpha': 2.0, 'beta': 2.6, 'batch_size': 1000, 'l2': 0.23}. Best is trial 14 with value: 0.28320453481253194.\u001b[0m\n",
            "\u001b[32m[I 2022-11-25 21:19:48,095]\u001b[0m Trial 32 finished with value: 0.28583842296358647 and parameters: {'alpha': 1.3, 'beta': 1.0, 'batch_size': 1100, 'l2': 0.1}. Best is trial 14 with value: 0.28320453481253194.\u001b[0m\n",
            "\u001b[32m[I 2022-11-25 21:20:14,484]\u001b[0m Trial 33 finished with value: 0.28682638006138644 and parameters: {'alpha': 1.1, 'beta': 1.0, 'batch_size': 1100, 'l2': 0.13}. Best is trial 14 with value: 0.28320453481253194.\u001b[0m\n",
            "\u001b[32m[I 2022-11-25 21:20:19,040]\u001b[0m Trial 30 finished with value: 0.2860044887977717 and parameters: {'alpha': 1.7000000000000002, 'beta': 1.3, 'batch_size': 550, 'l2': 0.51}. Best is trial 14 with value: 0.28320453481253194.\u001b[0m\n",
            "\u001b[32m[I 2022-11-25 21:21:01,057]\u001b[0m Trial 34 finished with value: 0.2867230453419801 and parameters: {'alpha': 1.0, 'beta': 1.0, 'batch_size': 1200, 'l2': 0.14}. Best is trial 14 with value: 0.28320453481253194.\u001b[0m\n",
            "\u001b[32m[I 2022-11-25 21:21:10,588]\u001b[0m Trial 31 finished with value: 3.0442525609427146e+117 and parameters: {'alpha': 2.4000000000000004, 'beta': 4.6, 'batch_size': 650, 'l2': 0.84}. Best is trial 14 with value: 0.28320453481253194.\u001b[0m\n",
            "\u001b[32m[I 2022-11-25 21:21:24,164]\u001b[0m Trial 35 finished with value: 0.2856655500958837 and parameters: {'alpha': 1.4, 'beta': 1.0, 'batch_size': 1500, 'l2': 0.14}. Best is trial 14 with value: 0.28320453481253194.\u001b[0m\n",
            "\u001b[32m[I 2022-11-25 21:22:06,393]\u001b[0m Trial 37 finished with value: 0.28600887448068896 and parameters: {'alpha': 1.4, 'beta': 1.6, 'batch_size': 1450, 'l2': 0.1}. Best is trial 14 with value: 0.28320453481253194.\u001b[0m\n",
            "\u001b[32m[I 2022-11-25 21:22:12,839]\u001b[0m Trial 36 finished with value: 0.2852595948248906 and parameters: {'alpha': 1.4, 'beta': 1.7000000000000002, 'batch_size': 1500, 'l2': 0.1}. Best is trial 14 with value: 0.28320453481253194.\u001b[0m\n",
            "\u001b[32m[I 2022-11-25 21:22:17,404]\u001b[0m Trial 38 finished with value: 0.2860236470201268 and parameters: {'alpha': 1.4, 'beta': 1.8, 'batch_size': 1450, 'l2': 0.11}. Best is trial 14 with value: 0.28320453481253194.\u001b[0m\n",
            "\u001b[32m[I 2022-11-25 21:22:29,305]\u001b[0m Trial 39 finished with value: 0.28678579958969475 and parameters: {'alpha': 1.3, 'beta': 1.8, 'batch_size': 1200, 'l2': 0.18}. Best is trial 14 with value: 0.28320453481253194.\u001b[0m\n",
            "\u001b[32m[I 2022-11-25 21:23:16,951]\u001b[0m Trial 40 finished with value: 0.2860976346464978 and parameters: {'alpha': 1.6, 'beta': 1.8, 'batch_size': 1500, 'l2': 0.18}. Best is trial 14 with value: 0.28320453481253194.\u001b[0m\n",
            "\u001b[32m[I 2022-11-25 21:23:17,578]\u001b[0m Trial 41 finished with value: 0.2864397736513508 and parameters: {'alpha': 1.5, 'beta': 1.9, 'batch_size': 1500, 'l2': 0.18}. Best is trial 14 with value: 0.28320453481253194.\u001b[0m\n",
            "\u001b[32m[I 2022-11-25 21:23:28,103]\u001b[0m Trial 42 finished with value: 0.2859653497590476 and parameters: {'alpha': 1.6, 'beta': 1.2, 'batch_size': 1500, 'l2': 0.18}. Best is trial 14 with value: 0.28320453481253194.\u001b[0m\n",
            "\u001b[32m[I 2022-11-25 21:23:40,131]\u001b[0m Trial 44 finished with value: 0.28670546936492686 and parameters: {'alpha': 1.2, 'beta': 1.1, 'batch_size': 1100, 'l2': 0.16}. Best is trial 14 with value: 0.28320453481253194.\u001b[0m\n",
            "\u001b[32m[I 2022-11-25 21:23:45,924]\u001b[0m Trial 43 finished with value: 0.28591710032016604 and parameters: {'alpha': 1.2, 'beta': 1.2, 'batch_size': 1300, 'l2': 0.18}. Best is trial 14 with value: 0.28320453481253194.\u001b[0m\n",
            "\u001b[32m[I 2022-11-25 21:23:57,637]\u001b[0m Trial 45 finished with value: 0.28653154829844096 and parameters: {'alpha': 1.2, 'beta': 1.1, 'batch_size': 1100, 'l2': 0.27}. Best is trial 14 with value: 0.28320453481253194.\u001b[0m\n",
            "\u001b[32m[I 2022-11-25 21:24:09,139]\u001b[0m Trial 46 finished with value: 0.2864527215251847 and parameters: {'alpha': 2.2, 'beta': 1.5, 'batch_size': 1300, 'l2': 0.28}. Best is trial 14 with value: 0.28320453481253194.\u001b[0m\n",
            "\u001b[32m[I 2022-11-25 21:24:34,482]\u001b[0m Trial 47 finished with value: 0.2864530252111206 and parameters: {'alpha': 2.3, 'beta': 1.5, 'batch_size': 1250, 'l2': 0.29000000000000004}. Best is trial 14 with value: 0.28320453481253194.\u001b[0m\n",
            "\u001b[32m[I 2022-11-25 21:24:42,120]\u001b[0m Trial 48 finished with value: 0.28641407645310735 and parameters: {'alpha': 2.2, 'beta': 1.5, 'batch_size': 1250, 'l2': 0.35}. Best is trial 14 with value: 0.28320453481253194.\u001b[0m\n",
            "\u001b[32m[I 2022-11-25 21:24:50,694]\u001b[0m Trial 49 finished with value: 0.2859654185126999 and parameters: {'alpha': 2.2, 'beta': 1.5, 'batch_size': 1650, 'l2': 0.1}. Best is trial 14 with value: 0.28320453481253194.\u001b[0m\n"
          ]
        }
      ],
      "source": [
        "# your code here\n",
        "import optuna\n",
        "gamma = lambda n_trials: min(int(np.ceil(0.1 * n_trials)), 25)\n",
        "tpe_sampler = optuna.samplers.TPESampler(n_startup_trials=30, n_ei_candidates=24, gamma=gamma)\n",
        "\n",
        "study = start_optimization(objective, n_trials=50, n_jobs=3, data_dict=data_dict, study_direction='minimize', sampler = tpe_sampler)"
      ]
    },
    {
      "cell_type": "markdown",
      "id": "37cfcd59",
      "metadata": {
        "id": "37cfcd59"
      },
      "source": [
        "Визуализируйте результаты оптимизации с помощью `optuna.visualization.plot_slice`. "
      ]
    },
    {
      "cell_type": "code",
      "execution_count": 7,
      "id": "b8448621",
      "metadata": {
        "colab": {
          "base_uri": "https://localhost:8080/",
          "height": 562
        },
        "id": "b8448621",
        "outputId": "e33fdb4c-1005-4ad4-da5c-ebe25ef5aca6"
      },
      "outputs": [
        {
          "output_type": "display_data",
          "data": {
            "text/html": [
              "<html>\n",
              "<head><meta charset=\"utf-8\" /></head>\n",
              "<body>\n",
              "    <div>            <script src=\"https://cdnjs.cloudflare.com/ajax/libs/mathjax/2.7.5/MathJax.js?config=TeX-AMS-MML_SVG\"></script><script type=\"text/javascript\">if (window.MathJax) {MathJax.Hub.Config({SVG: {font: \"STIX-Web\"}});}</script>                <script type=\"text/javascript\">window.PlotlyConfig = {MathJaxConfig: 'local'};</script>\n",
              "        <script src=\"https://cdn.plot.ly/plotly-2.8.3.min.js\"></script>                <div id=\"89e267b8-d1fc-4a5b-98b7-dbe1bce9450a\" class=\"plotly-graph-div\" style=\"height:525px; width:1200px;\"></div>            <script type=\"text/javascript\">                                    window.PLOTLYENV=window.PLOTLYENV || {};                                    if (document.getElementById(\"89e267b8-d1fc-4a5b-98b7-dbe1bce9450a\")) {                    Plotly.newPlot(                        \"89e267b8-d1fc-4a5b-98b7-dbe1bce9450a\",                        [{\"marker\":{\"color\":[0,1,2,3,4,5,6,7,8,9,10,11,12,13,14,15,16,17,18,19,20,21,22,23,24,25,26,27,28,29,30,31,32,33,34,35,36,37,38,39,40,41,42,43,44,45,46,47,48,49],\"colorbar\":{\"title\":{\"text\":\"Trial\"},\"x\":1.0,\"xpad\":40},\"colorscale\":[[0.0,\"rgb(247,251,255)\"],[0.125,\"rgb(222,235,247)\"],[0.25,\"rgb(198,219,239)\"],[0.375,\"rgb(158,202,225)\"],[0.5,\"rgb(107,174,214)\"],[0.625,\"rgb(66,146,198)\"],[0.75,\"rgb(33,113,181)\"],[0.875,\"rgb(8,81,156)\"],[1.0,\"rgb(8,48,107)\"]],\"line\":{\"color\":\"Grey\",\"width\":0.5},\"showscale\":true},\"mode\":\"markers\",\"showlegend\":false,\"x\":[2.9000000000000004,2.2,4.4,3.0,4.1,2.6,1.4,2.0,1.8,2.6,5.0,2.6,2.0,3.7,1.3,5.0,4.9,4.7,1.5,2.7,2.8,1.9,4.800000000000001,4.800000000000001,2.6,1.0,2.9000000000000004,3.7,2.5,2.0,1.7000000000000002,2.4000000000000004,1.3,1.1,1.0,1.4,1.4,1.4,1.4,1.3,1.6,1.5,1.6,1.2,1.2,1.2,2.2,2.3,2.2,2.2],\"y\":[9.150006319725905e+203,9.165261447884655,27.613842278237005,0.2986429675199565,30.050327110973573,9.491145520262027,0.28581504670634883,10.04232239911022,5.929181423542389,1.4367281255645998,17.321227405647477,9.837731691720903,26.35020650566774,23.637684331514865,0.28320453481253194,24.474155690451564,4.521616267223287e+32,23.559575565839655,0.3331596274619222,10.342820883763007,15.264281597978457,0.33800879700515274,19.420465931604298,2.4440268616684274e+40,9.466127064118503,0.3710194509072451,2.770320326412465e+83,1.5768404384365885e+39,0.3918160209287903,0.2890312984454526,0.2860044887977717,3.0442525609427146e+117,0.28583842296358647,0.28682638006138644,0.2867230453419801,0.2856655500958837,0.2852595948248906,0.28600887448068896,0.2860236470201268,0.28678579958969475,0.2860976346464978,0.2864397736513508,0.2859653497590476,0.28591710032016604,0.28670546936492686,0.28653154829844096,0.2864527215251847,0.2864530252111206,0.28641407645310735,0.2859654185126999],\"type\":\"scatter\",\"xaxis\":\"x\",\"yaxis\":\"y\"},{\"marker\":{\"color\":[0,1,2,3,4,5,6,7,8,9,10,11,12,13,14,15,16,17,18,19,20,21,22,23,24,25,26,27,28,29,30,31,32,33,34,35,36,37,38,39,40,41,42,43,44,45,46,47,48,49],\"colorbar\":{\"title\":{\"text\":\"Trial\"},\"x\":1.0,\"xpad\":40},\"colorscale\":[[0.0,\"rgb(247,251,255)\"],[0.125,\"rgb(222,235,247)\"],[0.25,\"rgb(198,219,239)\"],[0.375,\"rgb(158,202,225)\"],[0.5,\"rgb(107,174,214)\"],[0.625,\"rgb(66,146,198)\"],[0.75,\"rgb(33,113,181)\"],[0.875,\"rgb(8,81,156)\"],[1.0,\"rgb(8,48,107)\"]],\"line\":{\"color\":\"Grey\",\"width\":0.5},\"showscale\":false},\"mode\":\"markers\",\"showlegend\":false,\"x\":[500,1700,1100,2000,900,1850,1950,1700,1950,1350,2000,1800,550,1650,1400,1950,1350,1850,1350,1800,1600,2000,1750,900,1850,750,650,1550,800,1000,550,650,1100,1100,1200,1500,1500,1450,1450,1200,1500,1500,1500,1300,1100,1100,1300,1250,1250,1650],\"y\":[9.150006319725905e+203,9.165261447884655,27.613842278237005,0.2986429675199565,30.050327110973573,9.491145520262027,0.28581504670634883,10.04232239911022,5.929181423542389,1.4367281255645998,17.321227405647477,9.837731691720903,26.35020650566774,23.637684331514865,0.28320453481253194,24.474155690451564,4.521616267223287e+32,23.559575565839655,0.3331596274619222,10.342820883763007,15.264281597978457,0.33800879700515274,19.420465931604298,2.4440268616684274e+40,9.466127064118503,0.3710194509072451,2.770320326412465e+83,1.5768404384365885e+39,0.3918160209287903,0.2890312984454526,0.2860044887977717,3.0442525609427146e+117,0.28583842296358647,0.28682638006138644,0.2867230453419801,0.2856655500958837,0.2852595948248906,0.28600887448068896,0.2860236470201268,0.28678579958969475,0.2860976346464978,0.2864397736513508,0.2859653497590476,0.28591710032016604,0.28670546936492686,0.28653154829844096,0.2864527215251847,0.2864530252111206,0.28641407645310735,0.2859654185126999],\"type\":\"scatter\",\"xaxis\":\"x2\",\"yaxis\":\"y2\"},{\"marker\":{\"color\":[0,1,2,3,4,5,6,7,8,9,10,11,12,13,14,15,16,17,18,19,20,21,22,23,24,25,26,27,28,29,30,31,32,33,34,35,36,37,38,39,40,41,42,43,44,45,46,47,48,49],\"colorbar\":{\"title\":{\"text\":\"Trial\"},\"x\":1.0,\"xpad\":40},\"colorscale\":[[0.0,\"rgb(247,251,255)\"],[0.125,\"rgb(222,235,247)\"],[0.25,\"rgb(198,219,239)\"],[0.375,\"rgb(158,202,225)\"],[0.5,\"rgb(107,174,214)\"],[0.625,\"rgb(66,146,198)\"],[0.75,\"rgb(33,113,181)\"],[0.875,\"rgb(8,81,156)\"],[1.0,\"rgb(8,48,107)\"]],\"line\":{\"color\":\"Grey\",\"width\":0.5},\"showscale\":false},\"mode\":\"markers\",\"showlegend\":false,\"x\":[4.5,4.2,2.6,2.1,2.4000000000000004,2.4000000000000004,1.0,2.7,2.2,4.0,2.9000000000000004,2.2,4.6,1.4,2.9000000000000004,2.2,4.5,1.4,2.9000000000000004,2.4000000000000004,3.2,3.9000000000000004,3.1,3.4000000000000004,3.6,3.5,3.8000000000000003,3.6,4.7,2.6,1.3,4.6,1.0,1.0,1.0,1.0,1.7000000000000002,1.6,1.8,1.8,1.8,1.9,1.2,1.2,1.1,1.1,1.5,1.5,1.5,1.5],\"y\":[9.150006319725905e+203,9.165261447884655,27.613842278237005,0.2986429675199565,30.050327110973573,9.491145520262027,0.28581504670634883,10.04232239911022,5.929181423542389,1.4367281255645998,17.321227405647477,9.837731691720903,26.35020650566774,23.637684331514865,0.28320453481253194,24.474155690451564,4.521616267223287e+32,23.559575565839655,0.3331596274619222,10.342820883763007,15.264281597978457,0.33800879700515274,19.420465931604298,2.4440268616684274e+40,9.466127064118503,0.3710194509072451,2.770320326412465e+83,1.5768404384365885e+39,0.3918160209287903,0.2890312984454526,0.2860044887977717,3.0442525609427146e+117,0.28583842296358647,0.28682638006138644,0.2867230453419801,0.2856655500958837,0.2852595948248906,0.28600887448068896,0.2860236470201268,0.28678579958969475,0.2860976346464978,0.2864397736513508,0.2859653497590476,0.28591710032016604,0.28670546936492686,0.28653154829844096,0.2864527215251847,0.2864530252111206,0.28641407645310735,0.2859654185126999],\"type\":\"scatter\",\"xaxis\":\"x3\",\"yaxis\":\"y3\"},{\"marker\":{\"color\":[0,1,2,3,4,5,6,7,8,9,10,11,12,13,14,15,16,17,18,19,20,21,22,23,24,25,26,27,28,29,30,31,32,33,34,35,36,37,38,39,40,41,42,43,44,45,46,47,48,49],\"colorbar\":{\"title\":{\"text\":\"Trial\"},\"x\":1.0,\"xpad\":40},\"colorscale\":[[0.0,\"rgb(247,251,255)\"],[0.125,\"rgb(222,235,247)\"],[0.25,\"rgb(198,219,239)\"],[0.375,\"rgb(158,202,225)\"],[0.5,\"rgb(107,174,214)\"],[0.625,\"rgb(66,146,198)\"],[0.75,\"rgb(33,113,181)\"],[0.875,\"rgb(8,81,156)\"],[1.0,\"rgb(8,48,107)\"]],\"line\":{\"color\":\"Grey\",\"width\":0.5},\"showscale\":false},\"mode\":\"markers\",\"showlegend\":false,\"x\":[0.97,0.47,0.51,0.26,0.62,0.83,0.21000000000000002,0.6799999999999999,0.69,0.31,0.31,0.9,0.52,0.98,0.11,0.94,0.30000000000000004,0.56,0.4,0.99,0.45999999999999996,0.24000000000000002,0.66,0.7,0.41000000000000003,0.78,0.67,0.9,0.22,0.23,0.51,0.84,0.1,0.13,0.14,0.14,0.1,0.1,0.11,0.18,0.18,0.18,0.18,0.18,0.16,0.27,0.28,0.29000000000000004,0.35,0.1],\"y\":[9.150006319725905e+203,9.165261447884655,27.613842278237005,0.2986429675199565,30.050327110973573,9.491145520262027,0.28581504670634883,10.04232239911022,5.929181423542389,1.4367281255645998,17.321227405647477,9.837731691720903,26.35020650566774,23.637684331514865,0.28320453481253194,24.474155690451564,4.521616267223287e+32,23.559575565839655,0.3331596274619222,10.342820883763007,15.264281597978457,0.33800879700515274,19.420465931604298,2.4440268616684274e+40,9.466127064118503,0.3710194509072451,2.770320326412465e+83,1.5768404384365885e+39,0.3918160209287903,0.2890312984454526,0.2860044887977717,3.0442525609427146e+117,0.28583842296358647,0.28682638006138644,0.2867230453419801,0.2856655500958837,0.2852595948248906,0.28600887448068896,0.2860236470201268,0.28678579958969475,0.2860976346464978,0.2864397736513508,0.2859653497590476,0.28591710032016604,0.28670546936492686,0.28653154829844096,0.2864527215251847,0.2864530252111206,0.28641407645310735,0.2859654185126999],\"type\":\"scatter\",\"xaxis\":\"x4\",\"yaxis\":\"y4\"}],                        {\"template\":{\"data\":{\"bar\":[{\"error_x\":{\"color\":\"#2a3f5f\"},\"error_y\":{\"color\":\"#2a3f5f\"},\"marker\":{\"line\":{\"color\":\"#E5ECF6\",\"width\":0.5},\"pattern\":{\"fillmode\":\"overlay\",\"size\":10,\"solidity\":0.2}},\"type\":\"bar\"}],\"barpolar\":[{\"marker\":{\"line\":{\"color\":\"#E5ECF6\",\"width\":0.5},\"pattern\":{\"fillmode\":\"overlay\",\"size\":10,\"solidity\":0.2}},\"type\":\"barpolar\"}],\"carpet\":[{\"aaxis\":{\"endlinecolor\":\"#2a3f5f\",\"gridcolor\":\"white\",\"linecolor\":\"white\",\"minorgridcolor\":\"white\",\"startlinecolor\":\"#2a3f5f\"},\"baxis\":{\"endlinecolor\":\"#2a3f5f\",\"gridcolor\":\"white\",\"linecolor\":\"white\",\"minorgridcolor\":\"white\",\"startlinecolor\":\"#2a3f5f\"},\"type\":\"carpet\"}],\"choropleth\":[{\"colorbar\":{\"outlinewidth\":0,\"ticks\":\"\"},\"type\":\"choropleth\"}],\"contour\":[{\"colorbar\":{\"outlinewidth\":0,\"ticks\":\"\"},\"colorscale\":[[0.0,\"#0d0887\"],[0.1111111111111111,\"#46039f\"],[0.2222222222222222,\"#7201a8\"],[0.3333333333333333,\"#9c179e\"],[0.4444444444444444,\"#bd3786\"],[0.5555555555555556,\"#d8576b\"],[0.6666666666666666,\"#ed7953\"],[0.7777777777777778,\"#fb9f3a\"],[0.8888888888888888,\"#fdca26\"],[1.0,\"#f0f921\"]],\"type\":\"contour\"}],\"contourcarpet\":[{\"colorbar\":{\"outlinewidth\":0,\"ticks\":\"\"},\"type\":\"contourcarpet\"}],\"heatmap\":[{\"colorbar\":{\"outlinewidth\":0,\"ticks\":\"\"},\"colorscale\":[[0.0,\"#0d0887\"],[0.1111111111111111,\"#46039f\"],[0.2222222222222222,\"#7201a8\"],[0.3333333333333333,\"#9c179e\"],[0.4444444444444444,\"#bd3786\"],[0.5555555555555556,\"#d8576b\"],[0.6666666666666666,\"#ed7953\"],[0.7777777777777778,\"#fb9f3a\"],[0.8888888888888888,\"#fdca26\"],[1.0,\"#f0f921\"]],\"type\":\"heatmap\"}],\"heatmapgl\":[{\"colorbar\":{\"outlinewidth\":0,\"ticks\":\"\"},\"colorscale\":[[0.0,\"#0d0887\"],[0.1111111111111111,\"#46039f\"],[0.2222222222222222,\"#7201a8\"],[0.3333333333333333,\"#9c179e\"],[0.4444444444444444,\"#bd3786\"],[0.5555555555555556,\"#d8576b\"],[0.6666666666666666,\"#ed7953\"],[0.7777777777777778,\"#fb9f3a\"],[0.8888888888888888,\"#fdca26\"],[1.0,\"#f0f921\"]],\"type\":\"heatmapgl\"}],\"histogram\":[{\"marker\":{\"pattern\":{\"fillmode\":\"overlay\",\"size\":10,\"solidity\":0.2}},\"type\":\"histogram\"}],\"histogram2d\":[{\"colorbar\":{\"outlinewidth\":0,\"ticks\":\"\"},\"colorscale\":[[0.0,\"#0d0887\"],[0.1111111111111111,\"#46039f\"],[0.2222222222222222,\"#7201a8\"],[0.3333333333333333,\"#9c179e\"],[0.4444444444444444,\"#bd3786\"],[0.5555555555555556,\"#d8576b\"],[0.6666666666666666,\"#ed7953\"],[0.7777777777777778,\"#fb9f3a\"],[0.8888888888888888,\"#fdca26\"],[1.0,\"#f0f921\"]],\"type\":\"histogram2d\"}],\"histogram2dcontour\":[{\"colorbar\":{\"outlinewidth\":0,\"ticks\":\"\"},\"colorscale\":[[0.0,\"#0d0887\"],[0.1111111111111111,\"#46039f\"],[0.2222222222222222,\"#7201a8\"],[0.3333333333333333,\"#9c179e\"],[0.4444444444444444,\"#bd3786\"],[0.5555555555555556,\"#d8576b\"],[0.6666666666666666,\"#ed7953\"],[0.7777777777777778,\"#fb9f3a\"],[0.8888888888888888,\"#fdca26\"],[1.0,\"#f0f921\"]],\"type\":\"histogram2dcontour\"}],\"mesh3d\":[{\"colorbar\":{\"outlinewidth\":0,\"ticks\":\"\"},\"type\":\"mesh3d\"}],\"parcoords\":[{\"line\":{\"colorbar\":{\"outlinewidth\":0,\"ticks\":\"\"}},\"type\":\"parcoords\"}],\"pie\":[{\"automargin\":true,\"type\":\"pie\"}],\"scatter\":[{\"marker\":{\"colorbar\":{\"outlinewidth\":0,\"ticks\":\"\"}},\"type\":\"scatter\"}],\"scatter3d\":[{\"line\":{\"colorbar\":{\"outlinewidth\":0,\"ticks\":\"\"}},\"marker\":{\"colorbar\":{\"outlinewidth\":0,\"ticks\":\"\"}},\"type\":\"scatter3d\"}],\"scattercarpet\":[{\"marker\":{\"colorbar\":{\"outlinewidth\":0,\"ticks\":\"\"}},\"type\":\"scattercarpet\"}],\"scattergeo\":[{\"marker\":{\"colorbar\":{\"outlinewidth\":0,\"ticks\":\"\"}},\"type\":\"scattergeo\"}],\"scattergl\":[{\"marker\":{\"colorbar\":{\"outlinewidth\":0,\"ticks\":\"\"}},\"type\":\"scattergl\"}],\"scattermapbox\":[{\"marker\":{\"colorbar\":{\"outlinewidth\":0,\"ticks\":\"\"}},\"type\":\"scattermapbox\"}],\"scatterpolar\":[{\"marker\":{\"colorbar\":{\"outlinewidth\":0,\"ticks\":\"\"}},\"type\":\"scatterpolar\"}],\"scatterpolargl\":[{\"marker\":{\"colorbar\":{\"outlinewidth\":0,\"ticks\":\"\"}},\"type\":\"scatterpolargl\"}],\"scatterternary\":[{\"marker\":{\"colorbar\":{\"outlinewidth\":0,\"ticks\":\"\"}},\"type\":\"scatterternary\"}],\"surface\":[{\"colorbar\":{\"outlinewidth\":0,\"ticks\":\"\"},\"colorscale\":[[0.0,\"#0d0887\"],[0.1111111111111111,\"#46039f\"],[0.2222222222222222,\"#7201a8\"],[0.3333333333333333,\"#9c179e\"],[0.4444444444444444,\"#bd3786\"],[0.5555555555555556,\"#d8576b\"],[0.6666666666666666,\"#ed7953\"],[0.7777777777777778,\"#fb9f3a\"],[0.8888888888888888,\"#fdca26\"],[1.0,\"#f0f921\"]],\"type\":\"surface\"}],\"table\":[{\"cells\":{\"fill\":{\"color\":\"#EBF0F8\"},\"line\":{\"color\":\"white\"}},\"header\":{\"fill\":{\"color\":\"#C8D4E3\"},\"line\":{\"color\":\"white\"}},\"type\":\"table\"}]},\"layout\":{\"annotationdefaults\":{\"arrowcolor\":\"#2a3f5f\",\"arrowhead\":0,\"arrowwidth\":1},\"autotypenumbers\":\"strict\",\"coloraxis\":{\"colorbar\":{\"outlinewidth\":0,\"ticks\":\"\"}},\"colorscale\":{\"diverging\":[[0,\"#8e0152\"],[0.1,\"#c51b7d\"],[0.2,\"#de77ae\"],[0.3,\"#f1b6da\"],[0.4,\"#fde0ef\"],[0.5,\"#f7f7f7\"],[0.6,\"#e6f5d0\"],[0.7,\"#b8e186\"],[0.8,\"#7fbc41\"],[0.9,\"#4d9221\"],[1,\"#276419\"]],\"sequential\":[[0.0,\"#0d0887\"],[0.1111111111111111,\"#46039f\"],[0.2222222222222222,\"#7201a8\"],[0.3333333333333333,\"#9c179e\"],[0.4444444444444444,\"#bd3786\"],[0.5555555555555556,\"#d8576b\"],[0.6666666666666666,\"#ed7953\"],[0.7777777777777778,\"#fb9f3a\"],[0.8888888888888888,\"#fdca26\"],[1.0,\"#f0f921\"]],\"sequentialminus\":[[0.0,\"#0d0887\"],[0.1111111111111111,\"#46039f\"],[0.2222222222222222,\"#7201a8\"],[0.3333333333333333,\"#9c179e\"],[0.4444444444444444,\"#bd3786\"],[0.5555555555555556,\"#d8576b\"],[0.6666666666666666,\"#ed7953\"],[0.7777777777777778,\"#fb9f3a\"],[0.8888888888888888,\"#fdca26\"],[1.0,\"#f0f921\"]]},\"colorway\":[\"#636efa\",\"#EF553B\",\"#00cc96\",\"#ab63fa\",\"#FFA15A\",\"#19d3f3\",\"#FF6692\",\"#B6E880\",\"#FF97FF\",\"#FECB52\"],\"font\":{\"color\":\"#2a3f5f\"},\"geo\":{\"bgcolor\":\"white\",\"lakecolor\":\"white\",\"landcolor\":\"#E5ECF6\",\"showlakes\":true,\"showland\":true,\"subunitcolor\":\"white\"},\"hoverlabel\":{\"align\":\"left\"},\"hovermode\":\"closest\",\"mapbox\":{\"style\":\"light\"},\"paper_bgcolor\":\"white\",\"plot_bgcolor\":\"#E5ECF6\",\"polar\":{\"angularaxis\":{\"gridcolor\":\"white\",\"linecolor\":\"white\",\"ticks\":\"\"},\"bgcolor\":\"#E5ECF6\",\"radialaxis\":{\"gridcolor\":\"white\",\"linecolor\":\"white\",\"ticks\":\"\"}},\"scene\":{\"xaxis\":{\"backgroundcolor\":\"#E5ECF6\",\"gridcolor\":\"white\",\"gridwidth\":2,\"linecolor\":\"white\",\"showbackground\":true,\"ticks\":\"\",\"zerolinecolor\":\"white\"},\"yaxis\":{\"backgroundcolor\":\"#E5ECF6\",\"gridcolor\":\"white\",\"gridwidth\":2,\"linecolor\":\"white\",\"showbackground\":true,\"ticks\":\"\",\"zerolinecolor\":\"white\"},\"zaxis\":{\"backgroundcolor\":\"#E5ECF6\",\"gridcolor\":\"white\",\"gridwidth\":2,\"linecolor\":\"white\",\"showbackground\":true,\"ticks\":\"\",\"zerolinecolor\":\"white\"}},\"shapedefaults\":{\"line\":{\"color\":\"#2a3f5f\"}},\"ternary\":{\"aaxis\":{\"gridcolor\":\"white\",\"linecolor\":\"white\",\"ticks\":\"\"},\"baxis\":{\"gridcolor\":\"white\",\"linecolor\":\"white\",\"ticks\":\"\"},\"bgcolor\":\"#E5ECF6\",\"caxis\":{\"gridcolor\":\"white\",\"linecolor\":\"white\",\"ticks\":\"\"}},\"title\":{\"x\":0.05},\"xaxis\":{\"automargin\":true,\"gridcolor\":\"white\",\"linecolor\":\"white\",\"ticks\":\"\",\"title\":{\"standoff\":15},\"zerolinecolor\":\"white\",\"zerolinewidth\":2},\"yaxis\":{\"automargin\":true,\"gridcolor\":\"white\",\"linecolor\":\"white\",\"ticks\":\"\",\"title\":{\"standoff\":15},\"zerolinecolor\":\"white\",\"zerolinewidth\":2}}},\"xaxis\":{\"anchor\":\"y\",\"domain\":[0.0,0.2125],\"title\":{\"text\":\"alpha\"}},\"yaxis\":{\"anchor\":\"x\",\"domain\":[0.0,1.0],\"title\":{\"text\":\"Objective Value\"}},\"xaxis2\":{\"anchor\":\"y2\",\"domain\":[0.2625,0.475],\"title\":{\"text\":\"batch_size\"}},\"yaxis2\":{\"anchor\":\"x2\",\"domain\":[0.0,1.0],\"matches\":\"y\",\"showticklabels\":false},\"xaxis3\":{\"anchor\":\"y3\",\"domain\":[0.525,0.7375],\"title\":{\"text\":\"beta\"}},\"yaxis3\":{\"anchor\":\"x3\",\"domain\":[0.0,1.0],\"matches\":\"y\",\"showticklabels\":false},\"xaxis4\":{\"anchor\":\"y4\",\"domain\":[0.7875,1.0],\"title\":{\"text\":\"l2\"}},\"yaxis4\":{\"anchor\":\"x4\",\"domain\":[0.0,1.0],\"matches\":\"y\",\"showticklabels\":false},\"title\":{\"text\":\"Slice Plot\"},\"width\":1200},                        {\"responsive\": true}                    ).then(function(){\n",
              "                            \n",
              "var gd = document.getElementById('89e267b8-d1fc-4a5b-98b7-dbe1bce9450a');\n",
              "var x = new MutationObserver(function (mutations, observer) {{\n",
              "        var display = window.getComputedStyle(gd).display;\n",
              "        if (!display || display === 'none') {{\n",
              "            console.log([gd, 'removed!']);\n",
              "            Plotly.purge(gd);\n",
              "            observer.disconnect();\n",
              "        }}\n",
              "}});\n",
              "\n",
              "// Listen for the removal of the full notebook cells\n",
              "var notebookContainer = gd.closest('#notebook-container');\n",
              "if (notebookContainer) {{\n",
              "    x.observe(notebookContainer, {childList: true});\n",
              "}}\n",
              "\n",
              "// Listen for the clearing of the current output cell\n",
              "var outputEl = gd.closest('.output');\n",
              "if (outputEl) {{\n",
              "    x.observe(outputEl, {childList: true});\n",
              "}}\n",
              "\n",
              "                        })                };                            </script>        </div>\n",
              "</body>\n",
              "</html>"
            ]
          },
          "metadata": {}
        }
      ],
      "source": [
        "# your code here\n",
        "optuna.visualization.plot_slice(study)"
      ]
    },
    {
      "cell_type": "markdown",
      "id": "b0e42067",
      "metadata": {
        "id": "b0e42067"
      },
      "source": [
        "Опишите свои наблюдения. Если наблюдать вам мешает кривой масштаб графиков из-за слишком высоких значений лосса для некоторых trials, можно \"зазумиться\" в нужный интервал, выделяя на графике нужное подмножество точек или использовать аргумент `target`."
      ]
    },
    {
      "cell_type": "code",
      "execution_count": null,
      "id": "70988330",
      "metadata": {
        "id": "70988330"
      },
      "outputs": [],
      "source": [
        "#можно заметить, что в целом оптимальные значения для альфы лежат внутри некоторой окрестности, а как и для беты\n",
        "#при этом минимальный лосс получается при довольно разных размерах батча - от 500 до 1400 \n",
        "#при этом нельзя сказать, что в отношении альфа и бета один из гиперпараметров должен быть строго больше другого, в трайалах с \n",
        "#лучшими скорами встречалась ситуация где и альфа > бета и наоборот. \n",
        "#наиболее удачные коэффициенты регуляризации лежат в пределах от 0.1 до 0.2 "
      ]
    },
    {
      "cell_type": "markdown",
      "id": "3a3ec811",
      "metadata": {
        "id": "3a3ec811"
      },
      "source": [
        "**Ответьте на вопросы:**\n",
        "\n",
        "1) Почему не нужно включать слагаемое, отвечающее за регуляризацию, в подсчет лосса для подбора гиперпараметров?"
      ]
    },
    {
      "cell_type": "code",
      "execution_count": null,
      "id": "a4338217",
      "metadata": {
        "id": "a4338217"
      },
      "outputs": [],
      "source": [
        "#если мы хотим узнать насколько эффективна регуляризация, то нам нужно накладывать её на изначально более подходящие гиперпараметры\n",
        "#тогда будет более эффективный результат. кроме того, регуляризация направлена на то, чтобы не переобучаться, тем самым возможно \n",
        "#ограничивая лосс от наиболее эффективного уменьшения  "
      ]
    },
    {
      "cell_type": "markdown",
      "id": "9e61afa7",
      "metadata": {
        "id": "9e61afa7"
      },
      "source": [
        "2) Почему, если нашей целью является подбор адекватного коэффициента l2-регуляризации, мы включали в перебор остальные гиперпараметры?"
      ]
    },
    {
      "cell_type": "code",
      "execution_count": null,
      "id": "2ca5dd22",
      "metadata": {
        "id": "2ca5dd22"
      },
      "outputs": [],
      "source": [
        "#если при оптимальном коэффициенте регуляризации остальные гиперпараметры будут неоптимальны, то общий подсчёт лосса в итоге не будет \n",
        "#оптимально минимизирован "
      ]
    },
    {
      "cell_type": "markdown",
      "id": "0b079a7a",
      "metadata": {
        "id": "0b079a7a"
      },
      "source": [
        "Давайте теперь посмотрим на то, что у нас получилось. Предлагается не сразу брать лучший по скору оптимизации trial, а сделать вывод, используя дополнительные данные.\n",
        "\n",
        "  Используя график `plot_slice` выше и `study.trials`, выберите 3 лучших на ваш взгляд trial-кандидата для дальнейшего изучения.<br> Объясните ваш выбор. Если нужно, визуализируйте адекватным и наглядным образом вашу логику, чтобы проверяющий мог без труда в ней убедиться. "
      ]
    },
    {
      "cell_type": "code",
      "execution_count": null,
      "id": "ef443432",
      "metadata": {
        "id": "ef443432"
      },
      "outputs": [],
      "source": [
        "#выберем trial 14, как трайал с лучшим скором \n",
        "{'alpha': 1.3, 'beta': 2.9000000000000004, 'batch_size': 1400, 'l2': 0.11}\n",
        "#выберем trial 40, со значением л2 коэф. 0.18 - в трайалах предыдущих и последующих приводящий к стабильно хорошему лоссу \n",
        "{'alpha': 1.6, 'beta': 1.8, 'batch_size': 1500, 'l2': 0.18}\n",
        "#выберем trial 48 со значением л2 коэф. отличным, от средне хорошего, но с общим хорошим скором лосса \n",
        "{'alpha': 2.2, 'beta': 1.5, 'batch_size': 1250, 'l2': 0.35}"
      ]
    },
    {
      "cell_type": "markdown",
      "id": "b38df008",
      "metadata": {
        "id": "b38df008"
      },
      "source": [
        "Обучите по модели на каждый trial, собирая историю на обучении и валидации. Положите обученные модели и полученные истории в словари по ключу trial.number."
      ]
    },
    {
      "cell_type": "code",
      "source": [
        "    train = data_dict['tr']\n",
        "    val = data_dict['val']\n",
        "    all_data = pd.concat([train, val])\n",
        "    y = pd.concat([train['target'], val['target']], axis=0)\n",
        "\n",
        "    cat_columns_names = ['name_contract_type', 'code_gender', 'flag_own_car', 'flag_own_realty', 'name_type_suite', 'name_income_type', 'name_education_type', \n",
        "           'name_family_status', 'name_housing_type', 'occupation_type', 'weekday_appr_process_start', 'organization_type', \n",
        "           'fondkapremont_mode', 'housetype_mode', 'wallsmaterial_mode', 'emergencystate_mode']\n",
        "\n",
        "    num_columns = train.drop(['target', 'sk_id_curr'], axis=1)\n",
        "    num_columns = num_columns.drop(cat_columns_names, axis=1)\n",
        "    num_columns_names = list(num_columns.columns)\n",
        "\n",
        "    scaler = StandardScaler()\n",
        "    imputer = SimpleImputer()\n",
        "    ohe = OneHotEncoder()\n",
        "\n",
        "    num_transformer = make_pipeline(imputer, scaler)\n",
        "    cat_transformer = make_pipeline(ohe, imputer)\n",
        "\n",
        "    preprocessor = ColumnTransformer(\n",
        "        transformers=[('num', num_transformer, num_columns_names),\n",
        "                   ('cat', cat_transformer, cat_columns_names)])\n",
        "\n",
        "    pipe = make_pipeline(preprocessor)\n",
        "    new_data = pipe.fit_transform(all_data)\n",
        "\n",
        "    test_size = int(0.2 * new_data.shape[0])\n",
        "    test_idx = np.random.choice(new_data.shape[0], size=test_size, replace=False)\n",
        "    new_data = pd.DataFrame(new_data)\n",
        "    y = y.reset_index(drop=True)\n",
        "    new_data = pd.concat([new_data, y], axis=1)\n",
        "    X_val = new_data.loc[test_idx].reset_index(drop=True) \n",
        "    X_val = X_val.to_numpy()\n",
        "    y_val = new_data['target'].loc[test_idx].to_numpy()\n",
        "\n",
        "    X_train = new_data.drop(index=test_idx)\n",
        "    X_train.reset_index(drop=True, inplace=True)\n",
        "    X_train = X_train.to_numpy()\n",
        "    y_train = new_data['target'].to_numpy()\n"
      ],
      "metadata": {
        "id": "X8B4jkuUTXZq"
      },
      "id": "X8B4jkuUTXZq",
      "execution_count": 5,
      "outputs": []
    },
    {
      "cell_type": "code",
      "execution_count": 9,
      "id": "9d7b1541",
      "metadata": {
        "id": "9d7b1541"
      },
      "outputs": [],
      "source": [
        "# your code here\n",
        "\n",
        "tr_his = {}\n",
        "trials = [14, 40, 48]\n",
        "alphas = [1.3, 1.6, 2.2]\n",
        "betas = [2.9, 1.8, 1.5]\n",
        "sizes = [1400, 1500, 1250]\n",
        "l2_coef = [0.11, 0.18, 0.35]\n",
        "\n",
        "for i in range(len(trials)): \n",
        "  blogloss = BinaryLogisticLoss(l2_coef=l2_coef[i])\n",
        "  model = LinearModel(blogloss, batch_size=sizes[i], step_alpha=alphas[i], step_beta=betas[i],\n",
        "                    tolerance=1e-4, max_iter=30, random_seed=911, trace=True)\n",
        "  history =  model.fit(X=X_train, y=y_train, w_0=None, trace=True, X_val=X_val, y_val=y_val)\n",
        "  name = 'trial.' + str(trials[i])\n",
        "  tr_his[name] = [history, model] "
      ]
    },
    {
      "cell_type": "markdown",
      "id": "ff5e0e25",
      "metadata": {
        "id": "ff5e0e25"
      },
      "source": [
        "Напишите функцию `plot_trial_info`, которая выводит \"информацию\" о поданном trial. В эту \"информацию\" обязательно должно входить:\n",
        "- График `feature - weight`, показывающий `top_k` признаков по модулю веса и их значения весов. Признаки должны идти по убыванию модуля веса.<br>Используйте `ax.barh`. <br> Используйте `ax.bar_label`, чтобы подписать веса к барам.<br> Используйте `ax.set_title(f'l2_coef: {l2_coef:.2e}', fontsize=15)` для этого графика.\n",
        "\n",
        "\n",
        "- График \"время обучения - лосс\" - на обучении и валидации. Укажите \"количество эпох | batch_size\" в качестве title к этому графику. <br> Используйте `ax.plot`.\n",
        "\n",
        "\n",
        "- Что угодно еще, что поможет вам принять решение о том, почему вы выберете один trial из этих трех.\n",
        "<br><br>\n",
        "\n",
        "Настройте размер графиков, шрифт, легенду. Убедитесь, что в вашей \"информации\" присутствует `trial.number, batch_size`. <br>\n",
        "Визуализируйте выбранные вами trials. Убедитесь в адекватности графиков."
      ]
    },
    {
      "cell_type": "code",
      "execution_count": 14,
      "id": "e45c710e",
      "metadata": {
        "colab": {
          "base_uri": "https://localhost:8080/",
          "height": 1000
        },
        "id": "e45c710e",
        "outputId": "07bc3382-9c87-4aa7-b858-66cafba2fd3b"
      },
      "outputs": [
        {
          "output_type": "display_data",
          "data": {
            "text/plain": [
              "<Figure size 2520x720 with 3 Axes>"
            ],
            "image/png": "[encoded data removed]"
          },
          "metadata": {
            "needs_background": "light"
          }
        },
        {
          "output_type": "display_data",
          "data": {
            "text/plain": [
              "<Figure size 2520x720 with 3 Axes>"
            ],
            "image/png": "[encoded data removed]"
          },
          "metadata": {
            "needs_background": "light"
          }
        },
        {
          "output_type": "display_data",
          "data": {
            "text/plain": [
              "<Figure size 2520x720 with 3 Axes>"
            ],
            "image/png": "[encoded data removed]"
          },
          "metadata": {
            "needs_background": "light"
          }
        }
      ],
      "source": [
        "import matplotlib.pyplot as plt\n",
        "\n",
        "def plot_trial_info(trial, models, history, top_k, l2):\n",
        "    # your code here\n",
        "    fig, ax = plt.subplots(nrows=1, ncols=3, figsize=[35,10])\n",
        "    ax = ax.flatten()\n",
        "    weights = list(models.get_weights())\n",
        "    abs_weights = [abs(num) for num in weights]\n",
        "    top = sorted(range(len(abs_weights)), key=lambda i: abs_weights[i])[-top_k:]\n",
        "    nums = [1,2,3,4,5,6,7,8,9,10] \n",
        "    ax[0].barh(nums, top, color='maroon')\n",
        "    #ax[0].bar_label('you ll see labels here')\n",
        "    ax[0].set_title(f'l2_coef: {l2:.2e}', fontsize=15)\n",
        "\n",
        "    ax[1].plot(history['time'], history['func'])\n",
        "    ax[1].set_title('time - func')\n",
        "    ax[2].plot(history['time'], history['func_val'])\n",
        "    ax[2].set_title('time - func_val')\n",
        "\n",
        "    \n",
        "\n",
        "top_k = 10 \n",
        "top_trials = ['trial.14', 'trial.40', 'trial.48']\n",
        "for trial, l2 in zip(top_trials, l2_coef):\n",
        "    # maybe some code here\n",
        "    plot_trial_info(tr_his[trial], models=tr_his[trial][1], history=tr_his[trial][0], top_k=top_k, l2=l2)\n",
        "    plt.show()\n",
        "    # maybe some code here"
      ]
    },
    {
      "cell_type": "markdown",
      "id": "867468d1",
      "metadata": {
        "id": "867468d1"
      },
      "source": [
        "Опишите свои наблюдения. Если нужно, подключите визуализацию."
      ]
    },
    {
      "cell_type": "code",
      "execution_count": null,
      "id": "91d10466",
      "metadata": {
        "id": "91d10466"
      },
      "outputs": [],
      "source": [
        " #при разных коэф. регуляризации оказываются разными веса\n",
        " #разные коэффициенты регуляризации дают разную стабильность в величине лосса с течением времени "
      ]
    },
    {
      "cell_type": "markdown",
      "id": "66d0bd31",
      "metadata": {
        "id": "66d0bd31"
      },
      "source": [
        "Какой в итоге коэффициент l2-регуляризации будем фиксировать для дальнейших экспериментов? <br>\n",
        "Ответ объясните :)"
      ]
    },
    {
      "cell_type": "code",
      "execution_count": null,
      "id": "f1b8494c",
      "metadata": {
        "id": "f1b8494c"
      },
      "outputs": [],
      "source": [
        "#можно заметить, что наиболее стабильным оказывается коэффициент 0.11. При нём и на тренировочной и на валидационной выборке довольно\n",
        "#быстро достигается невысокий лосс и продолжает оставаться таким."
      ]
    },
    {
      "cell_type": "markdown",
      "id": "4bd205f5",
      "metadata": {
        "id": "4bd205f5"
      },
      "source": [
        "### Часть вторая. Research (6 баллов)\n",
        "\n",
        "Давайте зафиксируем выбранный коэффициент регуляризации и проведем несколько экспериментов с `step_alpha, step_beta, batch_size`. Но для начала посмотрим - возможно, нам удастся уменьшить размер признакового пространства без сильной потери качества, чтобы ускорить наши эксперименты."
      ]
    },
    {
      "cell_type": "markdown",
      "id": "e448531d",
      "metadata": {
        "id": "e448531d"
      },
      "source": [
        "Достаньте из словаря модель, соответствующую выбранному вами лучшему trial, и нарисуйте график отсортированных модулей ее весов."
      ]
    },
    {
      "cell_type": "code",
      "execution_count": 15,
      "id": "d46b7279",
      "metadata": {
        "colab": {
          "base_uri": "https://localhost:8080/",
          "height": 849
        },
        "id": "d46b7279",
        "outputId": "0c27af32-1ef1-4bcf-d8d1-a70d4e51abfb"
      },
      "outputs": [
        {
          "output_type": "execute_result",
          "data": {
            "text/plain": [
              "<BarContainer object of 251 artists>"
            ]
          },
          "metadata": {},
          "execution_count": 15
        },
        {
          "output_type": "display_data",
          "data": {
            "text/plain": [
              "<Figure size 1440x1080 with 1 Axes>"
            ],
            "image/png": "[encoded data removed]"
          },
          "metadata": {
            "needs_background": "light"
          }
        }
      ],
      "source": [
        "# your code here\n",
        "model = tr_his['trial.14'][1]\n",
        "weights = sorted(model.get_weights())\n",
        "indices = list(range(len(weights)))\n",
        "plt.figure(figsize=[20, 15])\n",
        "plt.barh(indices, weights, color='maroon')"
      ]
    },
    {
      "cell_type": "markdown",
      "id": "ec8e1564",
      "metadata": {
        "id": "ec8e1564"
      },
      "source": [
        "Подумайте, можно ли убрать какую-то долю признаков? Если да, то какие признаки вы уберете для дальнейших экспериментов? <br>\n",
        "Ответ объясните. Могут ли возникнуть какие-то проблемы в дальнейшем?"
      ]
    },
    {
      "cell_type": "code",
      "execution_count": null,
      "id": "b5dc5de7",
      "metadata": {
        "id": "b5dc5de7"
      },
      "outputs": [],
      "source": [
        "#можно попробовать убрать каждый 3ий\\4ый признак \n",
        "#при потере части информации могут возникнуть проблемы с составлением новых признаков, а так же при интерпретации \n",
        "#результатов модели \n",
        "\n",
        "#идеально было бы уменьшить признаковую размерность при помощи принципа главных компонент, но пока просто \n",
        "#потеряем часть информации "
      ]
    },
    {
      "cell_type": "markdown",
      "id": "e3b40cd4",
      "metadata": {
        "id": "e3b40cd4"
      },
      "source": [
        "Напишите новую функцию `research_objective` для перебора `step_alpha, step_beta` при фиксированных `l2_coef, batch_size`. Остальные гиперпараметры оставьте без изменений с прошлого раза. Для перебора step_alpha используйте log-шкалу от 1e-3 до 20, для перебора step_beta - log-шкалу от 0.1 до 5.\n",
        "\n",
        "Для `batch_size = 300, 1000, 10000, None` запустите по сессии оптимизации на выбранном вами (под)множестве признаков, собирая каждый `study` в словарик по ключу batch_size. Используйте `n_trials = 200`, TPESampler с параметром `n_startup_trials = 100`.<br>"
      ]
    },
    {
      "cell_type": "code",
      "execution_count": 17,
      "id": "bdbf044e",
      "metadata": {
        "colab": {
          "base_uri": "https://localhost:8080/"
        },
        "id": "bdbf044e",
        "outputId": "ace7dbb8-8783-4345-bcd5-0d0fb36a4e9b"
      },
      "outputs": [
        {
          "output_type": "stream",
          "name": "stderr",
          "text": [
            "\u001b[32m[I 2022-11-25 22:11:45,363]\u001b[0m A new study created in memory with name: no-name-8fd4dac7-b12e-436b-9f21-38cd3d117707\u001b[0m\n",
            "/usr/local/lib/python3.7/dist-packages/ipykernel_launcher.py:4: FutureWarning:\n",
            "\n",
            "suggest_loguniform has been deprecated in v3.0.0. This feature will be removed in v6.0.0. See https://github.com/optuna/optuna/releases/tag/v3.0.0. Use :func:`~optuna.trial.Trial.suggest_float` instead.\n",
            "\n",
            "/usr/local/lib/python3.7/dist-packages/ipykernel_launcher.py:5: FutureWarning:\n",
            "\n",
            "suggest_loguniform has been deprecated in v3.0.0. This feature will be removed in v6.0.0. See https://github.com/optuna/optuna/releases/tag/v3.0.0. Use :func:`~optuna.trial.Trial.suggest_float` instead.\n",
            "\n",
            "\u001b[32m[I 2022-11-25 22:12:02,439]\u001b[0m Trial 1 finished with value: 0.2849450720246032 and parameters: {'alpha': 0.6097870411523588, 'beta': 0.2309290187974802}. Best is trial 1 with value: 0.2849450720246032.\u001b[0m\n",
            "\u001b[32m[I 2022-11-25 22:12:33,915]\u001b[0m Trial 0 finished with value: 258.0636745024724 and parameters: {'alpha': 12.071665721917347, 'beta': 2.3595169032196996}. Best is trial 1 with value: 0.2849450720246032.\u001b[0m\n",
            "\u001b[32m[I 2022-11-25 22:13:13,012]\u001b[0m Trial 4 finished with value: 0.27709682610308123 and parameters: {'alpha': 0.005636883773591283, 'beta': 0.19109980593509746}. Best is trial 4 with value: 0.27709682610308123.\u001b[0m\n",
            "\u001b[32m[I 2022-11-25 22:14:13,075]\u001b[0m Trial 0 finished with value: 0.2847302704226711 and parameters: {'alpha': 1.377326141086029, 'beta': 1.087473780804189}. Best is trial 0 with value: 0.2847302704226711.\u001b[0m\n",
            "\u001b[32m[I 2022-11-25 22:14:50,279]\u001b[0m Trial 2 finished with value: 0.28477339131778856 and parameters: {'alpha': 0.020353718521652044, 'beta': 0.13081953850250638}. Best is trial 0 with value: 0.2847302704226711.\u001b[0m\n",
            "\u001b[32m[I 2022-11-25 22:14:52,644]\u001b[0m Trial 1 finished with value: 0.27203695393046573 and parameters: {'alpha': 0.0020427167335467147, 'beta': 0.19955453744839105}. Best is trial 1 with value: 0.27203695393046573.\u001b[0m\n",
            "\u001b[32m[I 2022-11-25 22:15:32,685]\u001b[0m Trial 3 finished with value: 0.2820294226392154 and parameters: {'alpha': 0.0162644242178096, 'beta': 0.10326886921949834}. Best is trial 1 with value: 0.27203695393046573.\u001b[0m\n",
            "\u001b[32m[I 2022-11-25 22:15:43,719]\u001b[0m Trial 5 finished with value: 0.2780682815544875 and parameters: {'alpha': 0.013207248199979238, 'beta': 0.25268005533121135}. Best is trial 1 with value: 0.27203695393046573.\u001b[0m\n",
            "\u001b[32m[I 2022-11-25 22:16:36,504]\u001b[0m Trial 6 finished with value: 0.28531021011122293 and parameters: {'alpha': 1.0718890093734976, 'beta': 1.8356675619143425}. Best is trial 1 with value: 0.27203695393046573.\u001b[0m\n",
            "\u001b[32m[I 2022-11-25 22:17:25,388]\u001b[0m Trial 4 finished with value: 0.31253421460999625 and parameters: {'alpha': 2.2433777139767965, 'beta': 0.16621043216264952}. Best is trial 1 with value: 0.27203695393046573.\u001b[0m\n",
            "\u001b[32m[I 2022-11-25 22:18:47,603]\u001b[0m Trial 7 finished with value: 0.29330110364294776 and parameters: {'alpha': 1.9496347990653848, 'beta': 0.5142614036111932}. Best is trial 1 with value: 0.27203695393046573.\u001b[0m\n",
            "\u001b[32m[I 2022-11-25 22:19:36,283]\u001b[0m Trial 8 finished with value: 0.3031092528360951 and parameters: {'alpha': 0.9007415197022498, 'beta': 0.16152988499672247}. Best is trial 1 with value: 0.27203695393046573.\u001b[0m\n",
            "\u001b[32m[I 2022-11-25 22:20:15,375]\u001b[0m Trial 11 finished with value: 0.2855286685834472 and parameters: {'alpha': 0.8225852210707368, 'beta': 2.875705632413244}. Best is trial 1 with value: 0.27203695393046573.\u001b[0m\n",
            "\u001b[32m[I 2022-11-25 22:20:55,553]\u001b[0m Trial 12 finished with value: 0.2759187485997213 and parameters: {'alpha': 0.033663088741257625, 'beta': 3.7982095255046895}. Best is trial 1 with value: 0.27203695393046573.\u001b[0m\n",
            "\u001b[32m[I 2022-11-25 22:21:19,954]\u001b[0m Trial 9 finished with value: 0.7784570964752002 and parameters: {'alpha': 6.559679642934777, 'beta': 0.13117789072265196}. Best is trial 1 with value: 0.27203695393046573.\u001b[0m\n",
            "\u001b[32m[I 2022-11-25 22:21:23,424]\u001b[0m Trial 10 finished with value: 0.28262104456894827 and parameters: {'alpha': 0.5548391081271686, 'beta': 0.1756357601601496}. Best is trial 1 with value: 0.27203695393046573.\u001b[0m\n",
            "/content/modules/losses.py:43: RuntimeWarning:\n",
            "\n",
            "overflow encountered in double_scalars\n",
            "\n",
            "/content/modules/linear_model.py:100: RuntimeWarning:\n",
            "\n",
            "invalid value encountered in double_scalars\n",
            "\n",
            "/content/modules/losses.py:43: RuntimeWarning:\n",
            "\n",
            "overflow encountered in square\n",
            "\n",
            "\u001b[32m[I 2022-11-25 22:23:14,568]\u001b[0m Trial 15 finished with value: 0.2845451910004589 and parameters: {'alpha': 0.198730833742364, 'beta': 0.28112494011192857}. Best is trial 1 with value: 0.27203695393046573.\u001b[0m\n",
            "\u001b[32m[I 2022-11-25 22:23:57,914]\u001b[0m Trial 13 finished with value: 0.29695069804991514 and parameters: {'alpha': 8.158194035111931, 'beta': 0.636805304666445}. Best is trial 1 with value: 0.27203695393046573.\u001b[0m\n",
            "\u001b[32m[I 2022-11-25 22:24:07,003]\u001b[0m Trial 16 finished with value: 0.2775978186422399 and parameters: {'alpha': 0.014600287201021571, 'beta': 0.4169570039278169}. Best is trial 1 with value: 0.27203695393046573.\u001b[0m\n",
            "\u001b[32m[I 2022-11-25 22:25:11,944]\u001b[0m Trial 14 finished with value: 1098.6405923301324 and parameters: {'alpha': 11.478446163871817, 'beta': 0.1673537990461085}. Best is trial 1 with value: 0.27203695393046573.\u001b[0m\n",
            "\u001b[32m[I 2022-11-25 22:26:23,019]\u001b[0m Trial 19 finished with value: 0.28509749411068613 and parameters: {'alpha': 6.942527000522876, 'beta': 1.7935826722224917}. Best is trial 1 with value: 0.27203695393046573.\u001b[0m\n",
            "\u001b[32m[I 2022-11-25 22:27:18,074]\u001b[0m Trial 18 finished with value: 0.8033766145575746 and parameters: {'alpha': 0.001382451963073807, 'beta': 1.3810418256110268}. Best is trial 1 with value: 0.27203695393046573.\u001b[0m\n",
            "\u001b[32m[I 2022-11-25 22:27:18,295]\u001b[0m Trial 17 finished with value: 0.8428851973631297 and parameters: {'alpha': 3.478618944385185, 'beta': 0.12928223385877854}. Best is trial 1 with value: 0.27203695393046573.\u001b[0m\n",
            "\u001b[32m[I 2022-11-25 22:27:18,305]\u001b[0m A new study created in memory with name: no-name-5f7b074d-1316-4dba-a943-3b26bfcbb2bb\u001b[0m\n",
            "\u001b[32m[I 2022-11-25 22:28:05,370]\u001b[0m Trial 0 finished with value: 0.281705692349177 and parameters: {'alpha': 0.21681510685868663, 'beta': 1.373145874438048}. Best is trial 0 with value: 0.281705692349177.\u001b[0m\n",
            "\u001b[32m[I 2022-11-25 22:28:42,143]\u001b[0m Trial 1 finished with value: 0.5745703177255874 and parameters: {'alpha': 0.0060780614868176045, 'beta': 1.5550040640020226}. Best is trial 0 with value: 0.281705692349177.\u001b[0m\n",
            "\u001b[32m[I 2022-11-25 22:29:06,481]\u001b[0m Trial 2 finished with value: 7.186056463410087 and parameters: {'alpha': 0.0024708527100541573, 'beta': 3.7412803544688478}. Best is trial 0 with value: 0.281705692349177.\u001b[0m\n",
            "\u001b[32m[I 2022-11-25 22:29:30,883]\u001b[0m Trial 4 finished with value: 0.27987876250059207 and parameters: {'alpha': 0.031981758148277216, 'beta': 0.17179745081178252}. Best is trial 4 with value: 0.27987876250059207.\u001b[0m\n",
            "\u001b[32m[I 2022-11-25 22:29:57,781]\u001b[0m Trial 3 finished with value: 2.707112096555743 and parameters: {'alpha': 0.005219884620660009, 'beta': 3.982899436499983}. Best is trial 4 with value: 0.27987876250059207.\u001b[0m\n",
            "\u001b[32m[I 2022-11-25 22:30:02,090]\u001b[0m Trial 5 finished with value: 0.2849057892016951 and parameters: {'alpha': 7.354802689839651, 'beta': 1.6777592628827303}. Best is trial 4 with value: 0.27987876250059207.\u001b[0m\n",
            "\u001b[32m[I 2022-11-25 22:30:43,715]\u001b[0m Trial 7 finished with value: 0.28489938046052526 and parameters: {'alpha': 3.1062878810159145, 'beta': 1.5949236827670579}. Best is trial 4 with value: 0.27987876250059207.\u001b[0m\n",
            "\u001b[32m[I 2022-11-25 22:31:15,460]\u001b[0m Trial 6 finished with value: 0.41251264837238055 and parameters: {'alpha': 3.355879609301323, 'beta': 0.1165736039744535}. Best is trial 4 with value: 0.27987876250059207.\u001b[0m\n",
            "\u001b[32m[I 2022-11-25 22:31:54,054]\u001b[0m Trial 8 finished with value: 9.742802031117052e+24 and parameters: {'alpha': 12.622466681456407, 'beta': 3.809668040479404}. Best is trial 4 with value: 0.27987876250059207.\u001b[0m\n",
            "\u001b[32m[I 2022-11-25 22:32:01,211]\u001b[0m Trial 10 finished with value: 0.2849121690477958 and parameters: {'alpha': 0.8235101656772397, 'beta': 0.9548462313671927}. Best is trial 4 with value: 0.27987876250059207.\u001b[0m\n",
            "\u001b[32m[I 2022-11-25 22:32:27,528]\u001b[0m Trial 9 finished with value: 0.2852800884548064 and parameters: {'alpha': 0.11228750259469586, 'beta': 0.1642006976289108}. Best is trial 4 with value: 0.27987876250059207.\u001b[0m\n",
            "\u001b[32m[I 2022-11-25 22:33:06,191]\u001b[0m Trial 12 finished with value: 0.2842725158997485 and parameters: {'alpha': 0.591960216055655, 'beta': 0.33325538792141113}. Best is trial 4 with value: 0.27987876250059207.\u001b[0m\n",
            "\u001b[32m[I 2022-11-25 22:33:09,750]\u001b[0m Trial 11 finished with value: 0.28339036875319357 and parameters: {'alpha': 0.06096043998488538, 'beta': 0.2894897669597497}. Best is trial 4 with value: 0.27987876250059207.\u001b[0m\n",
            "\u001b[32m[I 2022-11-25 22:33:31,149]\u001b[0m Trial 13 finished with value: 0.2842995081816763 and parameters: {'alpha': 0.20029756969671816, 'beta': 0.13895985074683573}. Best is trial 4 with value: 0.27987876250059207.\u001b[0m\n",
            "\u001b[32m[I 2022-11-25 22:33:59,997]\u001b[0m Trial 14 finished with value: 0.2760773530036529 and parameters: {'alpha': 0.018896615400764274, 'beta': 0.3962246431883166}. Best is trial 14 with value: 0.2760773530036529.\u001b[0m\n",
            "\u001b[32m[I 2022-11-25 22:34:13,828]\u001b[0m Trial 15 finished with value: 0.2765066051684261 and parameters: {'alpha': 0.010053603171254121, 'beta': 0.10896867152676157}. Best is trial 14 with value: 0.2760773530036529.\u001b[0m\n",
            "\u001b[32m[I 2022-11-25 22:34:22,068]\u001b[0m Trial 16 finished with value: 0.28072750530983 and parameters: {'alpha': 0.15585448398789617, 'beta': 0.9565283623187382}. Best is trial 14 with value: 0.2760773530036529.\u001b[0m\n",
            "\u001b[32m[I 2022-11-25 22:35:09,195]\u001b[0m Trial 19 finished with value: 0.2725682627658164 and parameters: {'alpha': 0.011538127136176012, 'beta': 0.3275103799157156}. Best is trial 19 with value: 0.2725682627658164.\u001b[0m\n",
            "\u001b[32m[I 2022-11-25 22:35:19,711]\u001b[0m Trial 17 finished with value: 0.28426622474108953 and parameters: {'alpha': 0.7598553531612637, 'beta': 0.35907635143708705}. Best is trial 19 with value: 0.2725682627658164.\u001b[0m\n",
            "\u001b[32m[I 2022-11-25 22:35:32,145]\u001b[0m Trial 18 finished with value: 0.28627068476871703 and parameters: {'alpha': 0.4917958224180936, 'beta': 0.13169210355230412}. Best is trial 19 with value: 0.2725682627658164.\u001b[0m\n",
            "\u001b[32m[I 2022-11-25 22:35:32,148]\u001b[0m A new study created in memory with name: no-name-6a5ee0c2-2398-42f9-9048-4b6849be8ccf\u001b[0m\n",
            "\u001b[32m[I 2022-11-25 22:37:04,413]\u001b[0m Trial 2 finished with value: 0.26505905786346995 and parameters: {'alpha': 0.4593959176977654, 'beta': 3.6144989264220815}. Best is trial 2 with value: 0.26505905786346995.\u001b[0m\n",
            "\u001b[32m[I 2022-11-25 22:37:04,484]\u001b[0m Trial 1 finished with value: 0.4308881577734504 and parameters: {'alpha': 4.00114485548072, 'beta': 0.1925396631987826}. Best is trial 2 with value: 0.26505905786346995.\u001b[0m\n",
            "\u001b[32m[I 2022-11-25 22:37:06,661]\u001b[0m Trial 0 finished with value: 12.040829759664563 and parameters: {'alpha': 16.394857189688953, 'beta': 2.0056900123181256}. Best is trial 2 with value: 0.26505905786346995.\u001b[0m\n",
            "\u001b[32m[I 2022-11-25 22:38:22,332]\u001b[0m Trial 5 finished with value: 0.4499463480600421 and parameters: {'alpha': 0.06521426247356477, 'beta': 1.5193597238972536}. Best is trial 2 with value: 0.26505905786346995.\u001b[0m\n",
            "\u001b[32m[I 2022-11-25 22:38:38,131]\u001b[0m Trial 3 finished with value: 3.821021363696479 and parameters: {'alpha': 0.0109549699648649, 'beta': 1.0783992848874966}. Best is trial 2 with value: 0.26505905786346995.\u001b[0m\n",
            "\u001b[32m[I 2022-11-25 22:38:38,430]\u001b[0m Trial 4 finished with value: 0.2866922370651494 and parameters: {'alpha': 4.68911472297728, 'beta': 0.4402718516208453}. Best is trial 2 with value: 0.26505905786346995.\u001b[0m\n",
            "\u001b[32m[I 2022-11-25 22:39:54,307]\u001b[0m Trial 6 finished with value: 0.2862674744422027 and parameters: {'alpha': 1.2947725630364322, 'beta': 0.18879783293422753}. Best is trial 2 with value: 0.26505905786346995.\u001b[0m\n",
            "\u001b[32m[I 2022-11-25 22:40:05,142]\u001b[0m Trial 8 finished with value: 0.28058958735603856 and parameters: {'alpha': 0.07577046055853302, 'beta': 1.1847973564307523}. Best is trial 2 with value: 0.26505905786346995.\u001b[0m\n",
            "\u001b[32m[I 2022-11-25 22:40:11,035]\u001b[0m Trial 7 finished with value: 0.49339970456983 and parameters: {'alpha': 4.238805598510672, 'beta': 3.4621114228058127}. Best is trial 2 with value: 0.26505905786346995.\u001b[0m\n",
            "\u001b[32m[I 2022-11-25 22:41:26,103]\u001b[0m Trial 9 finished with value: 1.6990277596270547 and parameters: {'alpha': 0.04414522073806373, 'beta': 1.8612562948673834}. Best is trial 2 with value: 0.26505905786346995.\u001b[0m\n",
            "\u001b[32m[I 2022-11-25 22:41:32,713]\u001b[0m Trial 11 finished with value: 0.27553894073048124 and parameters: {'alpha': 0.0597692459039773, 'beta': 0.15948644108705876}. Best is trial 2 with value: 0.26505905786346995.\u001b[0m\n",
            "\u001b[32m[I 2022-11-25 22:41:39,891]\u001b[0m Trial 10 finished with value: 7.797757747589746 and parameters: {'alpha': 0.002006624645028789, 'beta': 3.578295148676935}. Best is trial 2 with value: 0.26505905786346995.\u001b[0m\n",
            "\u001b[32m[I 2022-11-25 22:42:55,463]\u001b[0m Trial 12 finished with value: 0.28040508858821156 and parameters: {'alpha': 0.24043057878597937, 'beta': 0.3869938857328184}. Best is trial 2 with value: 0.26505905786346995.\u001b[0m\n",
            "\u001b[32m[I 2022-11-25 22:43:04,839]\u001b[0m Trial 13 finished with value: 0.2858110492711682 and parameters: {'alpha': 1.723628615404052, 'beta': 0.4633125566517293}. Best is trial 2 with value: 0.26505905786346995.\u001b[0m\n",
            "\u001b[32m[I 2022-11-25 22:43:12,878]\u001b[0m Trial 14 finished with value: 4.260899362514058 and parameters: {'alpha': 8.051073075091791, 'beta': 4.547341206423609}. Best is trial 2 with value: 0.26505905786346995.\u001b[0m\n",
            "\u001b[32m[I 2022-11-25 22:44:23,573]\u001b[0m Trial 15 finished with value: 0.311234824033635 and parameters: {'alpha': 0.026869529659458432, 'beta': 0.631208816711922}. Best is trial 2 with value: 0.26505905786346995.\u001b[0m\n",
            "\u001b[32m[I 2022-11-25 22:44:35,976]\u001b[0m Trial 16 finished with value: 1.8771938406332 and parameters: {'alpha': 0.0305557449083473, 'beta': 1.443056686266077}. Best is trial 2 with value: 0.26505905786346995.\u001b[0m\n",
            "\u001b[32m[I 2022-11-25 22:44:43,118]\u001b[0m Trial 17 finished with value: 0.28498575961047473 and parameters: {'alpha': 0.5468535557162381, 'beta': 0.2639326931571769}. Best is trial 2 with value: 0.26505905786346995.\u001b[0m\n",
            "\u001b[32m[I 2022-11-25 22:45:33,886]\u001b[0m Trial 18 finished with value: 0.28480304227877057 and parameters: {'alpha': 1.326065775307699, 'beta': 0.7303387272327231}. Best is trial 2 with value: 0.26505905786346995.\u001b[0m\n",
            "\u001b[32m[I 2022-11-25 22:45:39,651]\u001b[0m Trial 19 finished with value: 0.2854419739719902 and parameters: {'alpha': 0.9754978537711609, 'beta': 0.40556487310084943}. Best is trial 2 with value: 0.26505905786346995.\u001b[0m\n",
            "\u001b[32m[I 2022-11-25 22:45:39,653]\u001b[0m A new study created in memory with name: no-name-824b81c3-ba70-4ff4-93fb-806fdddbc748\u001b[0m\n",
            "\u001b[32m[I 2022-11-25 22:47:02,235]\u001b[0m Trial 0 finished with value: 0.30125815003007295 and parameters: {'alpha': 6.980407336724793, 'beta': 0.7861683993312255}. Best is trial 0 with value: 0.30125815003007295.\u001b[0m\n",
            "\u001b[32m[I 2022-11-25 22:47:03,810]\u001b[0m Trial 2 finished with value: 3.8161267853327656 and parameters: {'alpha': 0.09008984391881332, 'beta': 0.5496540256614164}. Best is trial 0 with value: 0.30125815003007295.\u001b[0m\n",
            "\u001b[32m[I 2022-11-25 22:47:06,850]\u001b[0m Trial 1 finished with value: 7.706408955306479 and parameters: {'alpha': 0.004346092568017974, 'beta': 0.34179702216875246}. Best is trial 0 with value: 0.30125815003007295.\u001b[0m\n",
            "\u001b[32m[I 2022-11-25 22:48:23,447]\u001b[0m Trial 4 finished with value: 0.2573573381743506 and parameters: {'alpha': 2.148457949730193, 'beta': 1.0409279233966686}. Best is trial 4 with value: 0.2573573381743506.\u001b[0m\n",
            "\u001b[32m[I 2022-11-25 22:48:23,541]\u001b[0m Trial 3 finished with value: 0.47070796527968206 and parameters: {'alpha': 9.623838651452969, 'beta': 1.5427219318545458}. Best is trial 4 with value: 0.2573573381743506.\u001b[0m\n",
            "\u001b[32m[I 2022-11-25 22:48:29,667]\u001b[0m Trial 5 finished with value: 7.210700815078923 and parameters: {'alpha': 0.00617819768865102, 'beta': 0.1362950647540796}. Best is trial 4 with value: 0.2573573381743506.\u001b[0m\n",
            "\u001b[32m[I 2022-11-25 22:49:43,145]\u001b[0m Trial 7 finished with value: 0.5204489476785327 and parameters: {'alpha': 8.49933612883599, 'beta': 1.5561361565398917}. Best is trial 4 with value: 0.2573573381743506.\u001b[0m\n",
            "\u001b[32m[I 2022-11-25 22:49:44,040]\u001b[0m Trial 6 finished with value: 1.073865771305947 and parameters: {'alpha': 19.927408220921098, 'beta': 1.528079189577772}. Best is trial 4 with value: 0.2573573381743506.\u001b[0m\n",
            "\u001b[32m[I 2022-11-25 22:49:51,538]\u001b[0m Trial 8 finished with value: 4.8038136550011385 and parameters: {'alpha': 0.44391376900616475, 'beta': 3.216766571048455}. Best is trial 4 with value: 0.2573573381743506.\u001b[0m\n",
            "\u001b[32m[I 2022-11-25 22:51:04,251]\u001b[0m Trial 9 finished with value: 0.3213309061186015 and parameters: {'alpha': 0.19013066513958798, 'beta': 0.18448452865134896}. Best is trial 4 with value: 0.2573573381743506.\u001b[0m\n",
            "\u001b[32m[I 2022-11-25 22:51:04,859]\u001b[0m Trial 10 finished with value: 6.342747073183336 and parameters: {'alpha': 0.24120496319315735, 'beta': 4.0085991333624165}. Best is trial 4 with value: 0.2573573381743506.\u001b[0m\n",
            "\u001b[32m[I 2022-11-25 22:51:11,511]\u001b[0m Trial 11 finished with value: 8.057321929015773 and parameters: {'alpha': 0.0037626535887016273, 'beta': 1.701124698750963}. Best is trial 4 with value: 0.2573573381743506.\u001b[0m\n",
            "\u001b[32m[I 2022-11-25 22:52:24,632]\u001b[0m Trial 13 finished with value: 7.9898595758007165 and parameters: {'alpha': 0.00270746919149635, 'beta': 0.7221474645225994}. Best is trial 4 with value: 0.2573573381743506.\u001b[0m\n",
            "\u001b[32m[I 2022-11-25 22:52:25,586]\u001b[0m Trial 12 finished with value: 0.3359285461497502 and parameters: {'alpha': 0.15329742643821195, 'beta': 0.11455474067658107}. Best is trial 4 with value: 0.2573573381743506.\u001b[0m\n",
            "\u001b[32m[I 2022-11-25 22:52:32,168]\u001b[0m Trial 14 finished with value: 0.7679030955139595 and parameters: {'alpha': 0.19673010221216292, 'beta': 0.42925160522003397}. Best is trial 4 with value: 0.2573573381743506.\u001b[0m\n",
            "\u001b[32m[I 2022-11-25 22:53:44,693]\u001b[0m Trial 15 finished with value: 0.9126226673967852 and parameters: {'alpha': 0.10221098850908851, 'beta': 0.16769656699462485}. Best is trial 4 with value: 0.2573573381743506.\u001b[0m\n",
            "\u001b[32m[I 2022-11-25 22:53:44,850]\u001b[0m Trial 16 finished with value: 7.273132410888915 and parameters: {'alpha': 0.013622239810323577, 'beta': 0.5281289222233658}. Best is trial 4 with value: 0.2573573381743506.\u001b[0m\n",
            "\u001b[32m[I 2022-11-25 22:53:51,195]\u001b[0m Trial 17 finished with value: 3.1872698764094167 and parameters: {'alpha': 0.5368255442301285, 'beta': 1.928329714975764}. Best is trial 4 with value: 0.2573573381743506.\u001b[0m\n",
            "\u001b[32m[I 2022-11-25 22:54:41,628]\u001b[0m Trial 19 finished with value: 7.672284272536179 and parameters: {'alpha': 0.03570099083219473, 'beta': 1.8303481303081528}. Best is trial 4 with value: 0.2573573381743506.\u001b[0m\n",
            "\u001b[32m[I 2022-11-25 22:54:41,637]\u001b[0m Trial 18 finished with value: 3.9389039239275374 and parameters: {'alpha': 10.810587255210136, 'beta': 0.15067598061152745}. Best is trial 4 with value: 0.2573573381743506.\u001b[0m\n"
          ]
        }
      ],
      "source": [
        "# your code here\n",
        "def research_objective(trial, X_tr, y_tr, X_val, y_val, batch_size):\n",
        "    # your code here\n",
        "    step_alpha = trial.suggest_loguniform('alpha', 1e-3, 20)\n",
        "    step_beta = trial.suggest_loguniform('beta', 0.1, 5)\n",
        "\n",
        "    blogloss = BinaryLogisticLoss(l2_coef=0.11)\n",
        "    model = LinearModel(blogloss, batch_size=batch_size, step_alpha=step_alpha, step_beta=step_beta, tolerance=1e-4, max_iter=30, random_seed=911)\n",
        "    model.fit(X_tr, y_tr)\n",
        "\n",
        "    obj = model.get_objective(X_val, y_val)\n",
        "\n",
        "    return obj \n",
        "\n",
        "def start_optimization(\n",
        "    objective_func, \n",
        "    n_trials,\n",
        "    n_jobs, batch_size,\n",
        "    X_train, X_val, y_train, y_val,\n",
        "    study_direction=None,\n",
        "    study_directions=None,\n",
        "    sampler=None,\n",
        "    prep=None,\n",
        "    features=None,\n",
        "    **other_objective_kwargs\n",
        "      ): \n",
        "\n",
        "    study = optuna.create_study(direction=study_direction, sampler=sampler)\n",
        "    obj = lambda trial: objective_func(trial, X_train, y_train, X_val, y_val, batch_size)\n",
        "    study.optimize(func=obj, n_trials=n_trials, timeout=None, n_jobs=n_jobs)\n",
        "\n",
        "    return study \n",
        "\n",
        "import optuna\n",
        "gamma = lambda n_trials: min(int(np.ceil(0.1 * n_trials)), 25)\n",
        "tpe_sampler = optuna.samplers.TPESampler(n_startup_trials=100, n_ei_candidates=24, gamma=gamma)\n",
        "\n",
        "batches = [300, 1000, 10000, None]\n",
        "batch_dict = {}\n",
        "\n",
        "for batch in batches: \n",
        "  study = start_optimization(research_objective, n_trials=20, n_jobs=3, X_train=X_train, X_val=X_val, y_train=y_train,\n",
        "                           y_val=y_val, study_direction='minimize', sampler = tpe_sampler, batch_size=batch)\n",
        "  batch_dict[str(batch)] = study\n",
        "    "
      ]
    },
    {
      "cell_type": "markdown",
      "id": "ce0a2bf1",
      "metadata": {
        "id": "ce0a2bf1"
      },
      "source": [
        "Используя `optuna.visualization.plot_contour`, нарисуйте график зависимости `step_alpha - step_beta - objective`. Используйте аргумент `target`, чтобы обрезать значения лоссов, которые портят тепловую карту. <br>\n",
        "Для каждого `batch_size` выведите такой график в отдельной ячейке."
      ]
    },
    {
      "cell_type": "code",
      "execution_count": 23,
      "id": "09a84c33",
      "metadata": {
        "colab": {
          "base_uri": "https://localhost:8080/",
          "height": 542
        },
        "id": "09a84c33",
        "outputId": "8cf153b8-fc7b-4ffa-b86a-506cff188609"
      },
      "outputs": [
        {
          "output_type": "display_data",
          "data": {
            "text/html": [
              "<html>\n",
              "<head><meta charset=\"utf-8\" /></head>\n",
              "<body>\n",
              "    <div>            <script src=\"https://cdnjs.cloudflare.com/ajax/libs/mathjax/2.7.5/MathJax.js?config=TeX-AMS-MML_SVG\"></script><script type=\"text/javascript\">if (window.MathJax) {MathJax.Hub.Config({SVG: {font: \"STIX-Web\"}});}</script>                <script type=\"text/javascript\">window.PlotlyConfig = {MathJaxConfig: 'local'};</script>\n",
              "        <script src=\"https://cdn.plot.ly/plotly-2.8.3.min.js\"></script>                <div id=\"27191c35-fd41-4c75-94f4-dc861e444f21\" class=\"plotly-graph-div\" style=\"height:525px; width:100%;\"></div>            <script type=\"text/javascript\">                                    window.PLOTLYENV=window.PLOTLYENV || {};                                    if (document.getElementById(\"27191c35-fd41-4c75-94f4-dc861e444f21\")) {                    Plotly.newPlot(                        \"27191c35-fd41-4c75-94f4-dc861e444f21\",                        [{\"colorbar\":{\"title\":{\"text\":\"Objective Value\"}},\"colorscale\":[[0.0,\"rgb(247,251,255)\"],[0.125,\"rgb(222,235,247)\"],[0.25,\"rgb(198,219,239)\"],[0.375,\"rgb(158,202,225)\"],[0.5,\"rgb(107,174,214)\"],[0.625,\"rgb(66,146,198)\"],[0.75,\"rgb(33,113,181)\"],[0.875,\"rgb(8,81,156)\"],[1.0,\"rgb(8,48,107)\"]],\"connectgaps\":true,\"contours\":{\"coloring\":\"heatmap\"},\"hoverinfo\":\"none\",\"line\":{\"smoothing\":1.3},\"reversescale\":true,\"x\":[0.0008804169537028877,0.001382451963073807,0.0020427167335467147,0.013207248199979238,0.014600287201021571,0.0162644242178096,0.020353718521652044,0.033663088741257625,0.198730833742364,0.5548391081271686,0.8225852210707368,0.9007415197022498,1.0718890093734976,1.377326141086029,1.9496347990653848,2.2433777139767965,3.478618944385185,6.559679642934777,6.942527000522876,8.158194035111931,11.478446163871817,18.023733374898956],\"y\":[0.08623606808457983,0.10326886921949834,0.12928223385877854,0.13081953850250638,0.13117789072265196,0.16152988499672247,0.16621043216264952,0.1673537990461085,0.1756357601601496,0.19955453744839105,0.25268005533121135,0.28112494011192857,0.4169570039278169,0.5142614036111932,0.636805304666445,1.087473780804189,1.3810418256110268,1.7935826722224917,1.8356675619143425,2.875705632413244,3.7982095255046895,4.548407777275896],\"z\":[[null,null,null,null,null,null,null,null,null,null,null,null,null,null,null,null,null,null,null,null,null,null],[null,null,null,null,null,0.2820294226392154,null,null,null,null,null,null,null,null,null,null,null,null,null,null,null,null],[null,null,null,null,null,null,null,null,null,null,null,null,null,null,null,null,0.8428851973631297,null,null,null,null,null],[null,null,null,null,null,null,0.28477339131778856,null,null,null,null,null,null,null,null,null,null,null,null,null,null,null],[null,null,null,null,null,null,null,null,null,null,null,null,null,null,null,null,null,0.7784570964752002,null,null,null,null],[null,null,null,null,null,null,null,null,null,null,null,0.3031092528360951,null,null,null,null,null,null,null,null,null,null],[null,null,null,null,null,null,null,null,null,null,null,null,null,null,null,0.31253421460999625,null,null,null,null,null,null],[null,null,null,null,null,null,null,null,null,null,null,null,null,null,null,null,null,null,null,null,1098.6405923301324,null],[null,null,null,null,null,null,null,null,null,0.28262104456894827,null,null,null,null,null,null,null,null,null,null,null,null],[null,null,0.27203695393046573,null,null,null,null,null,null,null,null,null,null,null,null,null,null,null,null,null,null,null],[null,null,null,0.2780682815544875,null,null,null,null,null,null,null,null,null,null,null,null,null,null,null,null,null,null],[null,null,null,null,null,null,null,null,0.2845451910004589,null,null,null,null,null,null,null,null,null,null,null,null,null],[null,null,null,null,0.2775978186422399,null,null,null,null,null,null,null,null,null,null,null,null,null,null,null,null,null],[null,null,null,null,null,null,null,null,null,null,null,null,null,null,0.29330110364294776,null,null,null,null,null,null,null],[null,null,null,null,null,null,null,null,null,null,null,null,null,null,null,null,null,null,null,0.29695069804991514,null,null],[null,null,null,null,null,null,null,null,null,null,null,null,null,0.2847302704226711,null,null,null,null,null,null,null,null],[null,0.8033766145575746,null,null,null,null,null,null,null,null,null,null,null,null,null,null,null,null,null,null,null,null],[null,null,null,null,null,null,null,null,null,null,null,null,null,null,null,null,null,null,0.28509749411068613,null,null,null],[null,null,null,null,null,null,null,null,null,null,null,null,0.28531021011122293,null,null,null,null,null,null,null,null,null],[null,null,null,null,null,null,null,null,null,null,0.2855286685834472,null,null,null,null,null,null,null,null,null,null,null],[null,null,null,null,null,null,null,0.2759187485997213,null,null,null,null,null,null,null,null,null,null,null,null,null,null],[null,null,null,null,null,null,null,null,null,null,null,null,null,null,null,null,null,null,null,null,null,null]],\"type\":\"contour\"},{\"marker\":{\"color\":\"black\",\"line\":{\"color\":\"Grey\",\"width\":2.0}},\"mode\":\"markers\",\"showlegend\":false,\"x\":[1.377326141086029,0.0020427167335467147,0.020353718521652044,0.0162644242178096,2.2433777139767965,0.013207248199979238,1.0718890093734976,1.9496347990653848,0.9007415197022498,6.559679642934777,0.5548391081271686,0.8225852210707368,0.033663088741257625,8.158194035111931,11.478446163871817,0.198730833742364,0.014600287201021571,3.478618944385185,0.001382451963073807,6.942527000522876],\"y\":[1.087473780804189,0.19955453744839105,0.13081953850250638,0.10326886921949834,0.16621043216264952,0.25268005533121135,1.8356675619143425,0.5142614036111932,0.16152988499672247,0.13117789072265196,0.1756357601601496,2.875705632413244,3.7982095255046895,0.636805304666445,0.1673537990461085,0.28112494011192857,0.4169570039278169,0.12928223385877854,1.3810418256110268,1.7935826722224917],\"type\":\"scatter\"}],                        {\"title\":{\"text\":\"Contour Plot\"},\"template\":{\"data\":{\"bar\":[{\"error_x\":{\"color\":\"#2a3f5f\"},\"error_y\":{\"color\":\"#2a3f5f\"},\"marker\":{\"line\":{\"color\":\"#E5ECF6\",\"width\":0.5},\"pattern\":{\"fillmode\":\"overlay\",\"size\":10,\"solidity\":0.2}},\"type\":\"bar\"}],\"barpolar\":[{\"marker\":{\"line\":{\"color\":\"#E5ECF6\",\"width\":0.5},\"pattern\":{\"fillmode\":\"overlay\",\"size\":10,\"solidity\":0.2}},\"type\":\"barpolar\"}],\"carpet\":[{\"aaxis\":{\"endlinecolor\":\"#2a3f5f\",\"gridcolor\":\"white\",\"linecolor\":\"white\",\"minorgridcolor\":\"white\",\"startlinecolor\":\"#2a3f5f\"},\"baxis\":{\"endlinecolor\":\"#2a3f5f\",\"gridcolor\":\"white\",\"linecolor\":\"white\",\"minorgridcolor\":\"white\",\"startlinecolor\":\"#2a3f5f\"},\"type\":\"carpet\"}],\"choropleth\":[{\"colorbar\":{\"outlinewidth\":0,\"ticks\":\"\"},\"type\":\"choropleth\"}],\"contour\":[{\"colorbar\":{\"outlinewidth\":0,\"ticks\":\"\"},\"colorscale\":[[0.0,\"#0d0887\"],[0.1111111111111111,\"#46039f\"],[0.2222222222222222,\"#7201a8\"],[0.3333333333333333,\"#9c179e\"],[0.4444444444444444,\"#bd3786\"],[0.5555555555555556,\"#d8576b\"],[0.6666666666666666,\"#ed7953\"],[0.7777777777777778,\"#fb9f3a\"],[0.8888888888888888,\"#fdca26\"],[1.0,\"#f0f921\"]],\"type\":\"contour\"}],\"contourcarpet\":[{\"colorbar\":{\"outlinewidth\":0,\"ticks\":\"\"},\"type\":\"contourcarpet\"}],\"heatmap\":[{\"colorbar\":{\"outlinewidth\":0,\"ticks\":\"\"},\"colorscale\":[[0.0,\"#0d0887\"],[0.1111111111111111,\"#46039f\"],[0.2222222222222222,\"#7201a8\"],[0.3333333333333333,\"#9c179e\"],[0.4444444444444444,\"#bd3786\"],[0.5555555555555556,\"#d8576b\"],[0.6666666666666666,\"#ed7953\"],[0.7777777777777778,\"#fb9f3a\"],[0.8888888888888888,\"#fdca26\"],[1.0,\"#f0f921\"]],\"type\":\"heatmap\"}],\"heatmapgl\":[{\"colorbar\":{\"outlinewidth\":0,\"ticks\":\"\"},\"colorscale\":[[0.0,\"#0d0887\"],[0.1111111111111111,\"#46039f\"],[0.2222222222222222,\"#7201a8\"],[0.3333333333333333,\"#9c179e\"],[0.4444444444444444,\"#bd3786\"],[0.5555555555555556,\"#d8576b\"],[0.6666666666666666,\"#ed7953\"],[0.7777777777777778,\"#fb9f3a\"],[0.8888888888888888,\"#fdca26\"],[1.0,\"#f0f921\"]],\"type\":\"heatmapgl\"}],\"histogram\":[{\"marker\":{\"pattern\":{\"fillmode\":\"overlay\",\"size\":10,\"solidity\":0.2}},\"type\":\"histogram\"}],\"histogram2d\":[{\"colorbar\":{\"outlinewidth\":0,\"ticks\":\"\"},\"colorscale\":[[0.0,\"#0d0887\"],[0.1111111111111111,\"#46039f\"],[0.2222222222222222,\"#7201a8\"],[0.3333333333333333,\"#9c179e\"],[0.4444444444444444,\"#bd3786\"],[0.5555555555555556,\"#d8576b\"],[0.6666666666666666,\"#ed7953\"],[0.7777777777777778,\"#fb9f3a\"],[0.8888888888888888,\"#fdca26\"],[1.0,\"#f0f921\"]],\"type\":\"histogram2d\"}],\"histogram2dcontour\":[{\"colorbar\":{\"outlinewidth\":0,\"ticks\":\"\"},\"colorscale\":[[0.0,\"#0d0887\"],[0.1111111111111111,\"#46039f\"],[0.2222222222222222,\"#7201a8\"],[0.3333333333333333,\"#9c179e\"],[0.4444444444444444,\"#bd3786\"],[0.5555555555555556,\"#d8576b\"],[0.6666666666666666,\"#ed7953\"],[0.7777777777777778,\"#fb9f3a\"],[0.8888888888888888,\"#fdca26\"],[1.0,\"#f0f921\"]],\"type\":\"histogram2dcontour\"}],\"mesh3d\":[{\"colorbar\":{\"outlinewidth\":0,\"ticks\":\"\"},\"type\":\"mesh3d\"}],\"parcoords\":[{\"line\":{\"colorbar\":{\"outlinewidth\":0,\"ticks\":\"\"}},\"type\":\"parcoords\"}],\"pie\":[{\"automargin\":true,\"type\":\"pie\"}],\"scatter\":[{\"marker\":{\"colorbar\":{\"outlinewidth\":0,\"ticks\":\"\"}},\"type\":\"scatter\"}],\"scatter3d\":[{\"line\":{\"colorbar\":{\"outlinewidth\":0,\"ticks\":\"\"}},\"marker\":{\"colorbar\":{\"outlinewidth\":0,\"ticks\":\"\"}},\"type\":\"scatter3d\"}],\"scattercarpet\":[{\"marker\":{\"colorbar\":{\"outlinewidth\":0,\"ticks\":\"\"}},\"type\":\"scattercarpet\"}],\"scattergeo\":[{\"marker\":{\"colorbar\":{\"outlinewidth\":0,\"ticks\":\"\"}},\"type\":\"scattergeo\"}],\"scattergl\":[{\"marker\":{\"colorbar\":{\"outlinewidth\":0,\"ticks\":\"\"}},\"type\":\"scattergl\"}],\"scattermapbox\":[{\"marker\":{\"colorbar\":{\"outlinewidth\":0,\"ticks\":\"\"}},\"type\":\"scattermapbox\"}],\"scatterpolar\":[{\"marker\":{\"colorbar\":{\"outlinewidth\":0,\"ticks\":\"\"}},\"type\":\"scatterpolar\"}],\"scatterpolargl\":[{\"marker\":{\"colorbar\":{\"outlinewidth\":0,\"ticks\":\"\"}},\"type\":\"scatterpolargl\"}],\"scatterternary\":[{\"marker\":{\"colorbar\":{\"outlinewidth\":0,\"ticks\":\"\"}},\"type\":\"scatterternary\"}],\"surface\":[{\"colorbar\":{\"outlinewidth\":0,\"ticks\":\"\"},\"colorscale\":[[0.0,\"#0d0887\"],[0.1111111111111111,\"#46039f\"],[0.2222222222222222,\"#7201a8\"],[0.3333333333333333,\"#9c179e\"],[0.4444444444444444,\"#bd3786\"],[0.5555555555555556,\"#d8576b\"],[0.6666666666666666,\"#ed7953\"],[0.7777777777777778,\"#fb9f3a\"],[0.8888888888888888,\"#fdca26\"],[1.0,\"#f0f921\"]],\"type\":\"surface\"}],\"table\":[{\"cells\":{\"fill\":{\"color\":\"#EBF0F8\"},\"line\":{\"color\":\"white\"}},\"header\":{\"fill\":{\"color\":\"#C8D4E3\"},\"line\":{\"color\":\"white\"}},\"type\":\"table\"}]},\"layout\":{\"annotationdefaults\":{\"arrowcolor\":\"#2a3f5f\",\"arrowhead\":0,\"arrowwidth\":1},\"autotypenumbers\":\"strict\",\"coloraxis\":{\"colorbar\":{\"outlinewidth\":0,\"ticks\":\"\"}},\"colorscale\":{\"diverging\":[[0,\"#8e0152\"],[0.1,\"#c51b7d\"],[0.2,\"#de77ae\"],[0.3,\"#f1b6da\"],[0.4,\"#fde0ef\"],[0.5,\"#f7f7f7\"],[0.6,\"#e6f5d0\"],[0.7,\"#b8e186\"],[0.8,\"#7fbc41\"],[0.9,\"#4d9221\"],[1,\"#276419\"]],\"sequential\":[[0.0,\"#0d0887\"],[0.1111111111111111,\"#46039f\"],[0.2222222222222222,\"#7201a8\"],[0.3333333333333333,\"#9c179e\"],[0.4444444444444444,\"#bd3786\"],[0.5555555555555556,\"#d8576b\"],[0.6666666666666666,\"#ed7953\"],[0.7777777777777778,\"#fb9f3a\"],[0.8888888888888888,\"#fdca26\"],[1.0,\"#f0f921\"]],\"sequentialminus\":[[0.0,\"#0d0887\"],[0.1111111111111111,\"#46039f\"],[0.2222222222222222,\"#7201a8\"],[0.3333333333333333,\"#9c179e\"],[0.4444444444444444,\"#bd3786\"],[0.5555555555555556,\"#d8576b\"],[0.6666666666666666,\"#ed7953\"],[0.7777777777777778,\"#fb9f3a\"],[0.8888888888888888,\"#fdca26\"],[1.0,\"#f0f921\"]]},\"colorway\":[\"#636efa\",\"#EF553B\",\"#00cc96\",\"#ab63fa\",\"#FFA15A\",\"#19d3f3\",\"#FF6692\",\"#B6E880\",\"#FF97FF\",\"#FECB52\"],\"font\":{\"color\":\"#2a3f5f\"},\"geo\":{\"bgcolor\":\"white\",\"lakecolor\":\"white\",\"landcolor\":\"#E5ECF6\",\"showlakes\":true,\"showland\":true,\"subunitcolor\":\"white\"},\"hoverlabel\":{\"align\":\"left\"},\"hovermode\":\"closest\",\"mapbox\":{\"style\":\"light\"},\"paper_bgcolor\":\"white\",\"plot_bgcolor\":\"#E5ECF6\",\"polar\":{\"angularaxis\":{\"gridcolor\":\"white\",\"linecolor\":\"white\",\"ticks\":\"\"},\"bgcolor\":\"#E5ECF6\",\"radialaxis\":{\"gridcolor\":\"white\",\"linecolor\":\"white\",\"ticks\":\"\"}},\"scene\":{\"xaxis\":{\"backgroundcolor\":\"#E5ECF6\",\"gridcolor\":\"white\",\"gridwidth\":2,\"linecolor\":\"white\",\"showbackground\":true,\"ticks\":\"\",\"zerolinecolor\":\"white\"},\"yaxis\":{\"backgroundcolor\":\"#E5ECF6\",\"gridcolor\":\"white\",\"gridwidth\":2,\"linecolor\":\"white\",\"showbackground\":true,\"ticks\":\"\",\"zerolinecolor\":\"white\"},\"zaxis\":{\"backgroundcolor\":\"#E5ECF6\",\"gridcolor\":\"white\",\"gridwidth\":2,\"linecolor\":\"white\",\"showbackground\":true,\"ticks\":\"\",\"zerolinecolor\":\"white\"}},\"shapedefaults\":{\"line\":{\"color\":\"#2a3f5f\"}},\"ternary\":{\"aaxis\":{\"gridcolor\":\"white\",\"linecolor\":\"white\",\"ticks\":\"\"},\"baxis\":{\"gridcolor\":\"white\",\"linecolor\":\"white\",\"ticks\":\"\"},\"bgcolor\":\"#E5ECF6\",\"caxis\":{\"gridcolor\":\"white\",\"linecolor\":\"white\",\"ticks\":\"\"}},\"title\":{\"x\":0.05},\"xaxis\":{\"automargin\":true,\"gridcolor\":\"white\",\"linecolor\":\"white\",\"ticks\":\"\",\"title\":{\"standoff\":15},\"zerolinecolor\":\"white\",\"zerolinewidth\":2},\"yaxis\":{\"automargin\":true,\"gridcolor\":\"white\",\"linecolor\":\"white\",\"ticks\":\"\",\"title\":{\"standoff\":15},\"zerolinecolor\":\"white\",\"zerolinewidth\":2}}},\"xaxis\":{\"title\":{\"text\":\"alpha\"},\"range\":[-3.0553116030692578,1.2558447542447033],\"type\":\"log\"},\"yaxis\":{\"title\":{\"text\":\"beta\"},\"range\":[-1.064311053271654,0.6578593934567667],\"type\":\"log\"}},                        {\"responsive\": true}                    ).then(function(){\n",
              "                            \n",
              "var gd = document.getElementById('27191c35-fd41-4c75-94f4-dc861e444f21');\n",
              "var x = new MutationObserver(function (mutations, observer) {{\n",
              "        var display = window.getComputedStyle(gd).display;\n",
              "        if (!display || display === 'none') {{\n",
              "            console.log([gd, 'removed!']);\n",
              "            Plotly.purge(gd);\n",
              "            observer.disconnect();\n",
              "        }}\n",
              "}});\n",
              "\n",
              "// Listen for the removal of the full notebook cells\n",
              "var notebookContainer = gd.closest('#notebook-container');\n",
              "if (notebookContainer) {{\n",
              "    x.observe(notebookContainer, {childList: true});\n",
              "}}\n",
              "\n",
              "// Listen for the clearing of the current output cell\n",
              "var outputEl = gd.closest('.output');\n",
              "if (outputEl) {{\n",
              "    x.observe(outputEl, {childList: true});\n",
              "}}\n",
              "\n",
              "                        })                };                            </script>        </div>\n",
              "</body>\n",
              "</html>"
            ]
          },
          "metadata": {}
        }
      ],
      "source": [
        "def clipper_example(frozen_trial):\n",
        "    max_value = ...\n",
        "    return min(frozen_trial.value, max_value)\n",
        "\n",
        "# your code here\n",
        "optuna.visualization.plot_contour(batch_dict['300'], params=['alpha', 'beta'])"
      ]
    },
    {
      "cell_type": "code",
      "execution_count": 24,
      "id": "5b745e6c",
      "metadata": {
        "colab": {
          "base_uri": "https://localhost:8080/",
          "height": 542
        },
        "id": "5b745e6c",
        "outputId": "b6416b63-b2c4-4b1e-fc5f-10bc2abc11a3"
      },
      "outputs": [
        {
          "output_type": "display_data",
          "data": {
            "text/html": [
              "<html>\n",
              "<head><meta charset=\"utf-8\" /></head>\n",
              "<body>\n",
              "    <div>            <script src=\"https://cdnjs.cloudflare.com/ajax/libs/mathjax/2.7.5/MathJax.js?config=TeX-AMS-MML_SVG\"></script><script type=\"text/javascript\">if (window.MathJax) {MathJax.Hub.Config({SVG: {font: \"STIX-Web\"}});}</script>                <script type=\"text/javascript\">window.PlotlyConfig = {MathJaxConfig: 'local'};</script>\n",
              "        <script src=\"https://cdn.plot.ly/plotly-2.8.3.min.js\"></script>                <div id=\"d51192c4-b8e3-453f-967f-5fde4ab8d3b8\" class=\"plotly-graph-div\" style=\"height:525px; width:100%;\"></div>            <script type=\"text/javascript\">                                    window.PLOTLYENV=window.PLOTLYENV || {};                                    if (document.getElementById(\"d51192c4-b8e3-453f-967f-5fde4ab8d3b8\")) {                    Plotly.newPlot(                        \"d51192c4-b8e3-453f-967f-5fde4ab8d3b8\",                        [{\"colorbar\":{\"title\":{\"text\":\"Objective Value\"}},\"colorscale\":[[0.0,\"rgb(247,251,255)\"],[0.125,\"rgb(222,235,247)\"],[0.25,\"rgb(198,219,239)\"],[0.375,\"rgb(158,202,225)\"],[0.5,\"rgb(107,174,214)\"],[0.625,\"rgb(66,146,198)\"],[0.75,\"rgb(33,113,181)\"],[0.875,\"rgb(8,81,156)\"],[1.0,\"rgb(8,48,107)\"]],\"connectgaps\":true,\"contours\":{\"coloring\":\"heatmap\"},\"hoverinfo\":\"none\",\"line\":{\"smoothing\":1.3},\"reversescale\":true,\"x\":[0.0016122485264551587,0.0024708527100541573,0.005219884620660009,0.0060780614868176045,0.010053603171254121,0.011538127136176012,0.018896615400764274,0.031981758148277216,0.06096043998488538,0.11228750259469586,0.15585448398789617,0.20029756969671816,0.21681510685868663,0.4917958224180936,0.591960216055655,0.7598553531612637,0.8235101656772397,3.1062878810159145,3.355879609301323,7.354802689839651,12.622466681456407,19.344570949007657],\"y\":[0.09102417933341753,0.10896867152676157,0.1165736039744535,0.13169210355230412,0.13895985074683573,0.1642006976289108,0.17179745081178252,0.2894897669597497,0.3275103799157156,0.33325538792141113,0.35907635143708705,0.3962246431883166,0.9548462313671927,0.9565283623187382,1.373145874438048,1.5550040640020226,1.5949236827670579,1.6777592628827303,3.7412803544688478,3.809668040479404,3.982899436499983,4.768087596047709],\"z\":[[null,null,null,null,null,null,null,null,null,null,null,null,null,null,null,null,null,null,null,null,null,null],[null,null,null,null,0.2765066051684261,null,null,null,null,null,null,null,null,null,null,null,null,null,null,null,null,null],[null,null,null,null,null,null,null,null,null,null,null,null,null,null,null,null,null,null,0.41251264837238055,null,null,null],[null,null,null,null,null,null,null,null,null,null,null,null,null,0.28627068476871703,null,null,null,null,null,null,null,null],[null,null,null,null,null,null,null,null,null,null,null,0.2842995081816763,null,null,null,null,null,null,null,null,null,null],[null,null,null,null,null,null,null,null,null,0.2852800884548064,null,null,null,null,null,null,null,null,null,null,null,null],[null,null,null,null,null,null,null,0.27987876250059207,null,null,null,null,null,null,null,null,null,null,null,null,null,null],[null,null,null,null,null,null,null,null,0.28339036875319357,null,null,null,null,null,null,null,null,null,null,null,null,null],[null,null,null,null,null,0.2725682627658164,null,null,null,null,null,null,null,null,null,null,null,null,null,null,null,null],[null,null,null,null,null,null,null,null,null,null,null,null,null,null,0.2842725158997485,null,null,null,null,null,null,null],[null,null,null,null,null,null,null,null,null,null,null,null,null,null,null,0.28426622474108953,null,null,null,null,null,null],[null,null,null,null,null,null,0.2760773530036529,null,null,null,null,null,null,null,null,null,null,null,null,null,null,null],[null,null,null,null,null,null,null,null,null,null,null,null,null,null,null,null,0.2849121690477958,null,null,null,null,null],[null,null,null,null,null,null,null,null,null,null,0.28072750530983,null,null,null,null,null,null,null,null,null,null,null],[null,null,null,null,null,null,null,null,null,null,null,null,0.281705692349177,null,null,null,null,null,null,null,null,null],[null,null,null,0.5745703177255874,null,null,null,null,null,null,null,null,null,null,null,null,null,null,null,null,null,null],[null,null,null,null,null,null,null,null,null,null,null,null,null,null,null,null,null,0.28489938046052526,null,null,null,null],[null,null,null,null,null,null,null,null,null,null,null,null,null,null,null,null,null,null,null,0.2849057892016951,null,null],[null,7.186056463410087,null,null,null,null,null,null,null,null,null,null,null,null,null,null,null,null,null,null,null,null],[null,null,null,null,null,null,null,null,null,null,null,null,null,null,null,null,null,null,null,null,9.742802031117052e+24,null],[null,null,2.707112096555743,null,null,null,null,null,null,null,null,null,null,null,null,null,null,null,null,null,null,null],[null,null,null,null,null,null,null,null,null,null,null,null,null,null,null,null,null,null,null,null,null,null]],\"type\":\"contour\"},{\"marker\":{\"color\":\"black\",\"line\":{\"color\":\"Grey\",\"width\":2.0}},\"mode\":\"markers\",\"showlegend\":false,\"x\":[0.21681510685868663,0.0060780614868176045,0.0024708527100541573,0.005219884620660009,0.031981758148277216,7.354802689839651,3.355879609301323,3.1062878810159145,12.622466681456407,0.11228750259469586,0.8235101656772397,0.06096043998488538,0.591960216055655,0.20029756969671816,0.018896615400764274,0.010053603171254121,0.15585448398789617,0.7598553531612637,0.4917958224180936,0.011538127136176012],\"y\":[1.373145874438048,1.5550040640020226,3.7412803544688478,3.982899436499983,0.17179745081178252,1.6777592628827303,0.1165736039744535,1.5949236827670579,3.809668040479404,0.1642006976289108,0.9548462313671927,0.2894897669597497,0.33325538792141113,0.13895985074683573,0.3962246431883166,0.10896867152676157,0.9565283623187382,0.35907635143708705,0.13169210355230412,0.3275103799157156],\"type\":\"scatter\"}],                        {\"title\":{\"text\":\"Contour Plot\"},\"template\":{\"data\":{\"bar\":[{\"error_x\":{\"color\":\"#2a3f5f\"},\"error_y\":{\"color\":\"#2a3f5f\"},\"marker\":{\"line\":{\"color\":\"#E5ECF6\",\"width\":0.5},\"pattern\":{\"fillmode\":\"overlay\",\"size\":10,\"solidity\":0.2}},\"type\":\"bar\"}],\"barpolar\":[{\"marker\":{\"line\":{\"color\":\"#E5ECF6\",\"width\":0.5},\"pattern\":{\"fillmode\":\"overlay\",\"size\":10,\"solidity\":0.2}},\"type\":\"barpolar\"}],\"carpet\":[{\"aaxis\":{\"endlinecolor\":\"#2a3f5f\",\"gridcolor\":\"white\",\"linecolor\":\"white\",\"minorgridcolor\":\"white\",\"startlinecolor\":\"#2a3f5f\"},\"baxis\":{\"endlinecolor\":\"#2a3f5f\",\"gridcolor\":\"white\",\"linecolor\":\"white\",\"minorgridcolor\":\"white\",\"startlinecolor\":\"#2a3f5f\"},\"type\":\"carpet\"}],\"choropleth\":[{\"colorbar\":{\"outlinewidth\":0,\"ticks\":\"\"},\"type\":\"choropleth\"}],\"contour\":[{\"colorbar\":{\"outlinewidth\":0,\"ticks\":\"\"},\"colorscale\":[[0.0,\"#0d0887\"],[0.1111111111111111,\"#46039f\"],[0.2222222222222222,\"#7201a8\"],[0.3333333333333333,\"#9c179e\"],[0.4444444444444444,\"#bd3786\"],[0.5555555555555556,\"#d8576b\"],[0.6666666666666666,\"#ed7953\"],[0.7777777777777778,\"#fb9f3a\"],[0.8888888888888888,\"#fdca26\"],[1.0,\"#f0f921\"]],\"type\":\"contour\"}],\"contourcarpet\":[{\"colorbar\":{\"outlinewidth\":0,\"ticks\":\"\"},\"type\":\"contourcarpet\"}],\"heatmap\":[{\"colorbar\":{\"outlinewidth\":0,\"ticks\":\"\"},\"colorscale\":[[0.0,\"#0d0887\"],[0.1111111111111111,\"#46039f\"],[0.2222222222222222,\"#7201a8\"],[0.3333333333333333,\"#9c179e\"],[0.4444444444444444,\"#bd3786\"],[0.5555555555555556,\"#d8576b\"],[0.6666666666666666,\"#ed7953\"],[0.7777777777777778,\"#fb9f3a\"],[0.8888888888888888,\"#fdca26\"],[1.0,\"#f0f921\"]],\"type\":\"heatmap\"}],\"heatmapgl\":[{\"colorbar\":{\"outlinewidth\":0,\"ticks\":\"\"},\"colorscale\":[[0.0,\"#0d0887\"],[0.1111111111111111,\"#46039f\"],[0.2222222222222222,\"#7201a8\"],[0.3333333333333333,\"#9c179e\"],[0.4444444444444444,\"#bd3786\"],[0.5555555555555556,\"#d8576b\"],[0.6666666666666666,\"#ed7953\"],[0.7777777777777778,\"#fb9f3a\"],[0.8888888888888888,\"#fdca26\"],[1.0,\"#f0f921\"]],\"type\":\"heatmapgl\"}],\"histogram\":[{\"marker\":{\"pattern\":{\"fillmode\":\"overlay\",\"size\":10,\"solidity\":0.2}},\"type\":\"histogram\"}],\"histogram2d\":[{\"colorbar\":{\"outlinewidth\":0,\"ticks\":\"\"},\"colorscale\":[[0.0,\"#0d0887\"],[0.1111111111111111,\"#46039f\"],[0.2222222222222222,\"#7201a8\"],[0.3333333333333333,\"#9c179e\"],[0.4444444444444444,\"#bd3786\"],[0.5555555555555556,\"#d8576b\"],[0.6666666666666666,\"#ed7953\"],[0.7777777777777778,\"#fb9f3a\"],[0.8888888888888888,\"#fdca26\"],[1.0,\"#f0f921\"]],\"type\":\"histogram2d\"}],\"histogram2dcontour\":[{\"colorbar\":{\"outlinewidth\":0,\"ticks\":\"\"},\"colorscale\":[[0.0,\"#0d0887\"],[0.1111111111111111,\"#46039f\"],[0.2222222222222222,\"#7201a8\"],[0.3333333333333333,\"#9c179e\"],[0.4444444444444444,\"#bd3786\"],[0.5555555555555556,\"#d8576b\"],[0.6666666666666666,\"#ed7953\"],[0.7777777777777778,\"#fb9f3a\"],[0.8888888888888888,\"#fdca26\"],[1.0,\"#f0f921\"]],\"type\":\"histogram2dcontour\"}],\"mesh3d\":[{\"colorbar\":{\"outlinewidth\":0,\"ticks\":\"\"},\"type\":\"mesh3d\"}],\"parcoords\":[{\"line\":{\"colorbar\":{\"outlinewidth\":0,\"ticks\":\"\"}},\"type\":\"parcoords\"}],\"pie\":[{\"automargin\":true,\"type\":\"pie\"}],\"scatter\":[{\"marker\":{\"colorbar\":{\"outlinewidth\":0,\"ticks\":\"\"}},\"type\":\"scatter\"}],\"scatter3d\":[{\"line\":{\"colorbar\":{\"outlinewidth\":0,\"ticks\":\"\"}},\"marker\":{\"colorbar\":{\"outlinewidth\":0,\"ticks\":\"\"}},\"type\":\"scatter3d\"}],\"scattercarpet\":[{\"marker\":{\"colorbar\":{\"outlinewidth\":0,\"ticks\":\"\"}},\"type\":\"scattercarpet\"}],\"scattergeo\":[{\"marker\":{\"colorbar\":{\"outlinewidth\":0,\"ticks\":\"\"}},\"type\":\"scattergeo\"}],\"scattergl\":[{\"marker\":{\"colorbar\":{\"outlinewidth\":0,\"ticks\":\"\"}},\"type\":\"scattergl\"}],\"scattermapbox\":[{\"marker\":{\"colorbar\":{\"outlinewidth\":0,\"ticks\":\"\"}},\"type\":\"scattermapbox\"}],\"scatterpolar\":[{\"marker\":{\"colorbar\":{\"outlinewidth\":0,\"ticks\":\"\"}},\"type\":\"scatterpolar\"}],\"scatterpolargl\":[{\"marker\":{\"colorbar\":{\"outlinewidth\":0,\"ticks\":\"\"}},\"type\":\"scatterpolargl\"}],\"scatterternary\":[{\"marker\":{\"colorbar\":{\"outlinewidth\":0,\"ticks\":\"\"}},\"type\":\"scatterternary\"}],\"surface\":[{\"colorbar\":{\"outlinewidth\":0,\"ticks\":\"\"},\"colorscale\":[[0.0,\"#0d0887\"],[0.1111111111111111,\"#46039f\"],[0.2222222222222222,\"#7201a8\"],[0.3333333333333333,\"#9c179e\"],[0.4444444444444444,\"#bd3786\"],[0.5555555555555556,\"#d8576b\"],[0.6666666666666666,\"#ed7953\"],[0.7777777777777778,\"#fb9f3a\"],[0.8888888888888888,\"#fdca26\"],[1.0,\"#f0f921\"]],\"type\":\"surface\"}],\"table\":[{\"cells\":{\"fill\":{\"color\":\"#EBF0F8\"},\"line\":{\"color\":\"white\"}},\"header\":{\"fill\":{\"color\":\"#C8D4E3\"},\"line\":{\"color\":\"white\"}},\"type\":\"table\"}]},\"layout\":{\"annotationdefaults\":{\"arrowcolor\":\"#2a3f5f\",\"arrowhead\":0,\"arrowwidth\":1},\"autotypenumbers\":\"strict\",\"coloraxis\":{\"colorbar\":{\"outlinewidth\":0,\"ticks\":\"\"}},\"colorscale\":{\"diverging\":[[0,\"#8e0152\"],[0.1,\"#c51b7d\"],[0.2,\"#de77ae\"],[0.3,\"#f1b6da\"],[0.4,\"#fde0ef\"],[0.5,\"#f7f7f7\"],[0.6,\"#e6f5d0\"],[0.7,\"#b8e186\"],[0.8,\"#7fbc41\"],[0.9,\"#4d9221\"],[1,\"#276419\"]],\"sequential\":[[0.0,\"#0d0887\"],[0.1111111111111111,\"#46039f\"],[0.2222222222222222,\"#7201a8\"],[0.3333333333333333,\"#9c179e\"],[0.4444444444444444,\"#bd3786\"],[0.5555555555555556,\"#d8576b\"],[0.6666666666666666,\"#ed7953\"],[0.7777777777777778,\"#fb9f3a\"],[0.8888888888888888,\"#fdca26\"],[1.0,\"#f0f921\"]],\"sequentialminus\":[[0.0,\"#0d0887\"],[0.1111111111111111,\"#46039f\"],[0.2222222222222222,\"#7201a8\"],[0.3333333333333333,\"#9c179e\"],[0.4444444444444444,\"#bd3786\"],[0.5555555555555556,\"#d8576b\"],[0.6666666666666666,\"#ed7953\"],[0.7777777777777778,\"#fb9f3a\"],[0.8888888888888888,\"#fdca26\"],[1.0,\"#f0f921\"]]},\"colorway\":[\"#636efa\",\"#EF553B\",\"#00cc96\",\"#ab63fa\",\"#FFA15A\",\"#19d3f3\",\"#FF6692\",\"#B6E880\",\"#FF97FF\",\"#FECB52\"],\"font\":{\"color\":\"#2a3f5f\"},\"geo\":{\"bgcolor\":\"white\",\"lakecolor\":\"white\",\"landcolor\":\"#E5ECF6\",\"showlakes\":true,\"showland\":true,\"subunitcolor\":\"white\"},\"hoverlabel\":{\"align\":\"left\"},\"hovermode\":\"closest\",\"mapbox\":{\"style\":\"light\"},\"paper_bgcolor\":\"white\",\"plot_bgcolor\":\"#E5ECF6\",\"polar\":{\"angularaxis\":{\"gridcolor\":\"white\",\"linecolor\":\"white\",\"ticks\":\"\"},\"bgcolor\":\"#E5ECF6\",\"radialaxis\":{\"gridcolor\":\"white\",\"linecolor\":\"white\",\"ticks\":\"\"}},\"scene\":{\"xaxis\":{\"backgroundcolor\":\"#E5ECF6\",\"gridcolor\":\"white\",\"gridwidth\":2,\"linecolor\":\"white\",\"showbackground\":true,\"ticks\":\"\",\"zerolinecolor\":\"white\"},\"yaxis\":{\"backgroundcolor\":\"#E5ECF6\",\"gridcolor\":\"white\",\"gridwidth\":2,\"linecolor\":\"white\",\"showbackground\":true,\"ticks\":\"\",\"zerolinecolor\":\"white\"},\"zaxis\":{\"backgroundcolor\":\"#E5ECF6\",\"gridcolor\":\"white\",\"gridwidth\":2,\"linecolor\":\"white\",\"showbackground\":true,\"ticks\":\"\",\"zerolinecolor\":\"white\"}},\"shapedefaults\":{\"line\":{\"color\":\"#2a3f5f\"}},\"ternary\":{\"aaxis\":{\"gridcolor\":\"white\",\"linecolor\":\"white\",\"ticks\":\"\"},\"baxis\":{\"gridcolor\":\"white\",\"linecolor\":\"white\",\"ticks\":\"\"},\"bgcolor\":\"#E5ECF6\",\"caxis\":{\"gridcolor\":\"white\",\"linecolor\":\"white\",\"ticks\":\"\"}},\"title\":{\"x\":0.05},\"xaxis\":{\"automargin\":true,\"gridcolor\":\"white\",\"linecolor\":\"white\",\"ticks\":\"\",\"title\":{\"standoff\":15},\"zerolinecolor\":\"white\",\"zerolinewidth\":2},\"yaxis\":{\"automargin\":true,\"gridcolor\":\"white\",\"linecolor\":\"white\",\"ticks\":\"\",\"title\":{\"standoff\":15},\"zerolinecolor\":\"white\",\"zerolinewidth\":2}}},\"xaxis\":{\"title\":{\"text\":\"alpha\"},\"range\":[-2.792568011322043,1.286559101772704],\"type\":\"log\"},\"yaxis\":{\"title\":{\"text\":\"beta\"},\"range\":[-1.0408432279400217,0.6783442253669765],\"type\":\"log\"}},                        {\"responsive\": true}                    ).then(function(){\n",
              "                            \n",
              "var gd = document.getElementById('d51192c4-b8e3-453f-967f-5fde4ab8d3b8');\n",
              "var x = new MutationObserver(function (mutations, observer) {{\n",
              "        var display = window.getComputedStyle(gd).display;\n",
              "        if (!display || display === 'none') {{\n",
              "            console.log([gd, 'removed!']);\n",
              "            Plotly.purge(gd);\n",
              "            observer.disconnect();\n",
              "        }}\n",
              "}});\n",
              "\n",
              "// Listen for the removal of the full notebook cells\n",
              "var notebookContainer = gd.closest('#notebook-container');\n",
              "if (notebookContainer) {{\n",
              "    x.observe(notebookContainer, {childList: true});\n",
              "}}\n",
              "\n",
              "// Listen for the clearing of the current output cell\n",
              "var outputEl = gd.closest('.output');\n",
              "if (outputEl) {{\n",
              "    x.observe(outputEl, {childList: true});\n",
              "}}\n",
              "\n",
              "                        })                };                            </script>        </div>\n",
              "</body>\n",
              "</html>"
            ]
          },
          "metadata": {}
        }
      ],
      "source": [
        "optuna.visualization.plot_contour(batch_dict['1000'], params=['alpha', 'beta'])"
      ]
    },
    {
      "cell_type": "code",
      "source": [
        "optuna.visualization.plot_contour(batch_dict['10000'], params=['alpha', 'beta'])"
      ],
      "metadata": {
        "id": "IM-fy0ZqBHvw",
        "outputId": "669b15ff-a972-4e8b-edbd-4df5e2bb67af",
        "colab": {
          "base_uri": "https://localhost:8080/",
          "height": 542
        }
      },
      "id": "IM-fy0ZqBHvw",
      "execution_count": 25,
      "outputs": [
        {
          "output_type": "display_data",
          "data": {
            "text/html": [
              "<html>\n",
              "<head><meta charset=\"utf-8\" /></head>\n",
              "<body>\n",
              "    <div>            <script src=\"https://cdnjs.cloudflare.com/ajax/libs/mathjax/2.7.5/MathJax.js?config=TeX-AMS-MML_SVG\"></script><script type=\"text/javascript\">if (window.MathJax) {MathJax.Hub.Config({SVG: {font: \"STIX-Web\"}});}</script>                <script type=\"text/javascript\">window.PlotlyConfig = {MathJaxConfig: 'local'};</script>\n",
              "        <script src=\"https://cdn.plot.ly/plotly-2.8.3.min.js\"></script>                <div id=\"a75f4ff4-d5bf-4b95-89cd-8433bcd73fb1\" class=\"plotly-graph-div\" style=\"height:525px; width:100%;\"></div>            <script type=\"text/javascript\">                                    window.PLOTLYENV=window.PLOTLYENV || {};                                    if (document.getElementById(\"a75f4ff4-d5bf-4b95-89cd-8433bcd73fb1\")) {                    Plotly.newPlot(                        \"a75f4ff4-d5bf-4b95-89cd-8433bcd73fb1\",                        [{\"colorbar\":{\"title\":{\"text\":\"Objective Value\"}},\"colorscale\":[[0.0,\"rgb(247,251,255)\"],[0.125,\"rgb(222,235,247)\"],[0.25,\"rgb(198,219,239)\"],[0.375,\"rgb(158,202,225)\"],[0.5,\"rgb(107,174,214)\"],[0.625,\"rgb(66,146,198)\"],[0.75,\"rgb(33,113,181)\"],[0.875,\"rgb(8,81,156)\"],[1.0,\"rgb(8,48,107)\"]],\"connectgaps\":true,\"contours\":{\"coloring\":\"heatmap\"},\"hoverinfo\":\"none\",\"line\":{\"smoothing\":1.3},\"reversescale\":true,\"x\":[0.0012789514748420057,0.002006624645028789,0.0109549699648649,0.026869529659458432,0.0305557449083473,0.04414522073806373,0.0597692459039773,0.06521426247356477,0.07577046055853302,0.24043057878597937,0.4593959176977654,0.5468535557162381,0.9754978537711609,1.2947725630364322,1.326065775307699,1.723628615404052,4.00114485548072,4.238805598510672,4.68911472297728,8.051073075091791,16.394857189688953,25.72288717413719],\"y\":[0.1348876157342265,0.15948644108705876,0.18879783293422753,0.1925396631987826,0.2639326931571769,0.3869938857328184,0.40556487310084943,0.4402718516208453,0.4633125566517293,0.631208816711922,0.7303387272327231,1.0783992848874966,1.1847973564307523,1.443056686266077,1.5193597238972536,1.8612562948673834,2.0056900123181256,3.4621114228058127,3.578295148676935,3.6144989264220815,4.547341206423609,5.376618613008895],\"z\":[[null,null,null,null,null,null,null,null,null,null,null,null,null,null,null,null,null,null,null,null,null,null],[null,null,null,null,null,null,0.27553894073048124,null,null,null,null,null,null,null,null,null,null,null,null,null,null,null],[null,null,null,null,null,null,null,null,null,null,null,null,null,0.2862674744422027,null,null,null,null,null,null,null,null],[null,null,null,null,null,null,null,null,null,null,null,null,null,null,null,null,0.4308881577734504,null,null,null,null,null],[null,null,null,null,null,null,null,null,null,null,null,0.28498575961047473,null,null,null,null,null,null,null,null,null,null],[null,null,null,null,null,null,null,null,null,0.28040508858821156,null,null,null,null,null,null,null,null,null,null,null,null],[null,null,null,null,null,null,null,null,null,null,null,null,0.2854419739719902,null,null,null,null,null,null,null,null,null],[null,null,null,null,null,null,null,null,null,null,null,null,null,null,null,null,null,null,0.2866922370651494,null,null,null],[null,null,null,null,null,null,null,null,null,null,null,null,null,null,null,0.2858110492711682,null,null,null,null,null,null],[null,null,null,0.311234824033635,null,null,null,null,null,null,null,null,null,null,null,null,null,null,null,null,null,null],[null,null,null,null,null,null,null,null,null,null,null,null,null,null,0.28480304227877057,null,null,null,null,null,null,null],[null,null,3.821021363696479,null,null,null,null,null,null,null,null,null,null,null,null,null,null,null,null,null,null,null],[null,null,null,null,null,null,null,null,0.28058958735603856,null,null,null,null,null,null,null,null,null,null,null,null,null],[null,null,null,null,1.8771938406332,null,null,null,null,null,null,null,null,null,null,null,null,null,null,null,null,null],[null,null,null,null,null,null,null,0.4499463480600421,null,null,null,null,null,null,null,null,null,null,null,null,null,null],[null,null,null,null,null,1.6990277596270547,null,null,null,null,null,null,null,null,null,null,null,null,null,null,null,null],[null,null,null,null,null,null,null,null,null,null,null,null,null,null,null,null,null,null,null,null,12.040829759664563,null],[null,null,null,null,null,null,null,null,null,null,null,null,null,null,null,null,null,0.49339970456983,null,null,null,null],[null,7.797757747589746,null,null,null,null,null,null,null,null,null,null,null,null,null,null,null,null,null,null,null,null],[null,null,null,null,null,null,null,null,null,null,0.26505905786346995,null,null,null,null,null,null,null,null,null,null,null],[null,null,null,null,null,null,null,null,null,null,null,null,null,null,null,null,null,null,null,4.260899362514058,null,null],[null,null,null,null,null,null,null,null,null,null,null,null,null,null,null,null,null,null,null,null,null,null]],\"type\":\"contour\"},{\"marker\":{\"color\":\"black\",\"line\":{\"color\":\"Grey\",\"width\":2.0}},\"mode\":\"markers\",\"showlegend\":false,\"x\":[16.394857189688953,4.00114485548072,0.4593959176977654,0.0109549699648649,4.68911472297728,0.06521426247356477,1.2947725630364322,4.238805598510672,0.07577046055853302,0.04414522073806373,0.002006624645028789,0.0597692459039773,0.24043057878597937,1.723628615404052,8.051073075091791,0.026869529659458432,0.0305557449083473,0.5468535557162381,1.326065775307699,0.9754978537711609],\"y\":[2.0056900123181256,0.1925396631987826,3.6144989264220815,1.0783992848874966,0.4402718516208453,1.5193597238972536,0.18879783293422753,3.4621114228058127,1.1847973564307523,1.8612562948673834,3.578295148676935,0.15948644108705876,0.3869938857328184,0.4633125566517293,4.547341206423609,0.631208816711922,1.443056686266077,0.2639326931571769,0.7303387272327231,0.40556487310084943],\"type\":\"scatter\"}],                        {\"title\":{\"text\":\"Contour Plot\"},\"template\":{\"data\":{\"bar\":[{\"error_x\":{\"color\":\"#2a3f5f\"},\"error_y\":{\"color\":\"#2a3f5f\"},\"marker\":{\"line\":{\"color\":\"#E5ECF6\",\"width\":0.5},\"pattern\":{\"fillmode\":\"overlay\",\"size\":10,\"solidity\":0.2}},\"type\":\"bar\"}],\"barpolar\":[{\"marker\":{\"line\":{\"color\":\"#E5ECF6\",\"width\":0.5},\"pattern\":{\"fillmode\":\"overlay\",\"size\":10,\"solidity\":0.2}},\"type\":\"barpolar\"}],\"carpet\":[{\"aaxis\":{\"endlinecolor\":\"#2a3f5f\",\"gridcolor\":\"white\",\"linecolor\":\"white\",\"minorgridcolor\":\"white\",\"startlinecolor\":\"#2a3f5f\"},\"baxis\":{\"endlinecolor\":\"#2a3f5f\",\"gridcolor\":\"white\",\"linecolor\":\"white\",\"minorgridcolor\":\"white\",\"startlinecolor\":\"#2a3f5f\"},\"type\":\"carpet\"}],\"choropleth\":[{\"colorbar\":{\"outlinewidth\":0,\"ticks\":\"\"},\"type\":\"choropleth\"}],\"contour\":[{\"colorbar\":{\"outlinewidth\":0,\"ticks\":\"\"},\"colorscale\":[[0.0,\"#0d0887\"],[0.1111111111111111,\"#46039f\"],[0.2222222222222222,\"#7201a8\"],[0.3333333333333333,\"#9c179e\"],[0.4444444444444444,\"#bd3786\"],[0.5555555555555556,\"#d8576b\"],[0.6666666666666666,\"#ed7953\"],[0.7777777777777778,\"#fb9f3a\"],[0.8888888888888888,\"#fdca26\"],[1.0,\"#f0f921\"]],\"type\":\"contour\"}],\"contourcarpet\":[{\"colorbar\":{\"outlinewidth\":0,\"ticks\":\"\"},\"type\":\"contourcarpet\"}],\"heatmap\":[{\"colorbar\":{\"outlinewidth\":0,\"ticks\":\"\"},\"colorscale\":[[0.0,\"#0d0887\"],[0.1111111111111111,\"#46039f\"],[0.2222222222222222,\"#7201a8\"],[0.3333333333333333,\"#9c179e\"],[0.4444444444444444,\"#bd3786\"],[0.5555555555555556,\"#d8576b\"],[0.6666666666666666,\"#ed7953\"],[0.7777777777777778,\"#fb9f3a\"],[0.8888888888888888,\"#fdca26\"],[1.0,\"#f0f921\"]],\"type\":\"heatmap\"}],\"heatmapgl\":[{\"colorbar\":{\"outlinewidth\":0,\"ticks\":\"\"},\"colorscale\":[[0.0,\"#0d0887\"],[0.1111111111111111,\"#46039f\"],[0.2222222222222222,\"#7201a8\"],[0.3333333333333333,\"#9c179e\"],[0.4444444444444444,\"#bd3786\"],[0.5555555555555556,\"#d8576b\"],[0.6666666666666666,\"#ed7953\"],[0.7777777777777778,\"#fb9f3a\"],[0.8888888888888888,\"#fdca26\"],[1.0,\"#f0f921\"]],\"type\":\"heatmapgl\"}],\"histogram\":[{\"marker\":{\"pattern\":{\"fillmode\":\"overlay\",\"size\":10,\"solidity\":0.2}},\"type\":\"histogram\"}],\"histogram2d\":[{\"colorbar\":{\"outlinewidth\":0,\"ticks\":\"\"},\"colorscale\":[[0.0,\"#0d0887\"],[0.1111111111111111,\"#46039f\"],[0.2222222222222222,\"#7201a8\"],[0.3333333333333333,\"#9c179e\"],[0.4444444444444444,\"#bd3786\"],[0.5555555555555556,\"#d8576b\"],[0.6666666666666666,\"#ed7953\"],[0.7777777777777778,\"#fb9f3a\"],[0.8888888888888888,\"#fdca26\"],[1.0,\"#f0f921\"]],\"type\":\"histogram2d\"}],\"histogram2dcontour\":[{\"colorbar\":{\"outlinewidth\":0,\"ticks\":\"\"},\"colorscale\":[[0.0,\"#0d0887\"],[0.1111111111111111,\"#46039f\"],[0.2222222222222222,\"#7201a8\"],[0.3333333333333333,\"#9c179e\"],[0.4444444444444444,\"#bd3786\"],[0.5555555555555556,\"#d8576b\"],[0.6666666666666666,\"#ed7953\"],[0.7777777777777778,\"#fb9f3a\"],[0.8888888888888888,\"#fdca26\"],[1.0,\"#f0f921\"]],\"type\":\"histogram2dcontour\"}],\"mesh3d\":[{\"colorbar\":{\"outlinewidth\":0,\"ticks\":\"\"},\"type\":\"mesh3d\"}],\"parcoords\":[{\"line\":{\"colorbar\":{\"outlinewidth\":0,\"ticks\":\"\"}},\"type\":\"parcoords\"}],\"pie\":[{\"automargin\":true,\"type\":\"pie\"}],\"scatter\":[{\"marker\":{\"colorbar\":{\"outlinewidth\":0,\"ticks\":\"\"}},\"type\":\"scatter\"}],\"scatter3d\":[{\"line\":{\"colorbar\":{\"outlinewidth\":0,\"ticks\":\"\"}},\"marker\":{\"colorbar\":{\"outlinewidth\":0,\"ticks\":\"\"}},\"type\":\"scatter3d\"}],\"scattercarpet\":[{\"marker\":{\"colorbar\":{\"outlinewidth\":0,\"ticks\":\"\"}},\"type\":\"scattercarpet\"}],\"scattergeo\":[{\"marker\":{\"colorbar\":{\"outlinewidth\":0,\"ticks\":\"\"}},\"type\":\"scattergeo\"}],\"scattergl\":[{\"marker\":{\"colorbar\":{\"outlinewidth\":0,\"ticks\":\"\"}},\"type\":\"scattergl\"}],\"scattermapbox\":[{\"marker\":{\"colorbar\":{\"outlinewidth\":0,\"ticks\":\"\"}},\"type\":\"scattermapbox\"}],\"scatterpolar\":[{\"marker\":{\"colorbar\":{\"outlinewidth\":0,\"ticks\":\"\"}},\"type\":\"scatterpolar\"}],\"scatterpolargl\":[{\"marker\":{\"colorbar\":{\"outlinewidth\":0,\"ticks\":\"\"}},\"type\":\"scatterpolargl\"}],\"scatterternary\":[{\"marker\":{\"colorbar\":{\"outlinewidth\":0,\"ticks\":\"\"}},\"type\":\"scatterternary\"}],\"surface\":[{\"colorbar\":{\"outlinewidth\":0,\"ticks\":\"\"},\"colorscale\":[[0.0,\"#0d0887\"],[0.1111111111111111,\"#46039f\"],[0.2222222222222222,\"#7201a8\"],[0.3333333333333333,\"#9c179e\"],[0.4444444444444444,\"#bd3786\"],[0.5555555555555556,\"#d8576b\"],[0.6666666666666666,\"#ed7953\"],[0.7777777777777778,\"#fb9f3a\"],[0.8888888888888888,\"#fdca26\"],[1.0,\"#f0f921\"]],\"type\":\"surface\"}],\"table\":[{\"cells\":{\"fill\":{\"color\":\"#EBF0F8\"},\"line\":{\"color\":\"white\"}},\"header\":{\"fill\":{\"color\":\"#C8D4E3\"},\"line\":{\"color\":\"white\"}},\"type\":\"table\"}]},\"layout\":{\"annotationdefaults\":{\"arrowcolor\":\"#2a3f5f\",\"arrowhead\":0,\"arrowwidth\":1},\"autotypenumbers\":\"strict\",\"coloraxis\":{\"colorbar\":{\"outlinewidth\":0,\"ticks\":\"\"}},\"colorscale\":{\"diverging\":[[0,\"#8e0152\"],[0.1,\"#c51b7d\"],[0.2,\"#de77ae\"],[0.3,\"#f1b6da\"],[0.4,\"#fde0ef\"],[0.5,\"#f7f7f7\"],[0.6,\"#e6f5d0\"],[0.7,\"#b8e186\"],[0.8,\"#7fbc41\"],[0.9,\"#4d9221\"],[1,\"#276419\"]],\"sequential\":[[0.0,\"#0d0887\"],[0.1111111111111111,\"#46039f\"],[0.2222222222222222,\"#7201a8\"],[0.3333333333333333,\"#9c179e\"],[0.4444444444444444,\"#bd3786\"],[0.5555555555555556,\"#d8576b\"],[0.6666666666666666,\"#ed7953\"],[0.7777777777777778,\"#fb9f3a\"],[0.8888888888888888,\"#fdca26\"],[1.0,\"#f0f921\"]],\"sequentialminus\":[[0.0,\"#0d0887\"],[0.1111111111111111,\"#46039f\"],[0.2222222222222222,\"#7201a8\"],[0.3333333333333333,\"#9c179e\"],[0.4444444444444444,\"#bd3786\"],[0.5555555555555556,\"#d8576b\"],[0.6666666666666666,\"#ed7953\"],[0.7777777777777778,\"#fb9f3a\"],[0.8888888888888888,\"#fdca26\"],[1.0,\"#f0f921\"]]},\"colorway\":[\"#636efa\",\"#EF553B\",\"#00cc96\",\"#ab63fa\",\"#FFA15A\",\"#19d3f3\",\"#FF6692\",\"#B6E880\",\"#FF97FF\",\"#FECB52\"],\"font\":{\"color\":\"#2a3f5f\"},\"geo\":{\"bgcolor\":\"white\",\"lakecolor\":\"white\",\"landcolor\":\"#E5ECF6\",\"showlakes\":true,\"showland\":true,\"subunitcolor\":\"white\"},\"hoverlabel\":{\"align\":\"left\"},\"hovermode\":\"closest\",\"mapbox\":{\"style\":\"light\"},\"paper_bgcolor\":\"white\",\"plot_bgcolor\":\"#E5ECF6\",\"polar\":{\"angularaxis\":{\"gridcolor\":\"white\",\"linecolor\":\"white\",\"ticks\":\"\"},\"bgcolor\":\"#E5ECF6\",\"radialaxis\":{\"gridcolor\":\"white\",\"linecolor\":\"white\",\"ticks\":\"\"}},\"scene\":{\"xaxis\":{\"backgroundcolor\":\"#E5ECF6\",\"gridcolor\":\"white\",\"gridwidth\":2,\"linecolor\":\"white\",\"showbackground\":true,\"ticks\":\"\",\"zerolinecolor\":\"white\"},\"yaxis\":{\"backgroundcolor\":\"#E5ECF6\",\"gridcolor\":\"white\",\"gridwidth\":2,\"linecolor\":\"white\",\"showbackground\":true,\"ticks\":\"\",\"zerolinecolor\":\"white\"},\"zaxis\":{\"backgroundcolor\":\"#E5ECF6\",\"gridcolor\":\"white\",\"gridwidth\":2,\"linecolor\":\"white\",\"showbackground\":true,\"ticks\":\"\",\"zerolinecolor\":\"white\"}},\"shapedefaults\":{\"line\":{\"color\":\"#2a3f5f\"}},\"ternary\":{\"aaxis\":{\"gridcolor\":\"white\",\"linecolor\":\"white\",\"ticks\":\"\"},\"baxis\":{\"gridcolor\":\"white\",\"linecolor\":\"white\",\"ticks\":\"\"},\"bgcolor\":\"#E5ECF6\",\"caxis\":{\"gridcolor\":\"white\",\"linecolor\":\"white\",\"ticks\":\"\"}},\"title\":{\"x\":0.05},\"xaxis\":{\"automargin\":true,\"gridcolor\":\"white\",\"linecolor\":\"white\",\"ticks\":\"\",\"title\":{\"standoff\":15},\"zerolinecolor\":\"white\",\"zerolinewidth\":2},\"yaxis\":{\"automargin\":true,\"gridcolor\":\"white\",\"linecolor\":\"white\",\"ticks\":\"\",\"title\":{\"standoff\":15},\"zerolinecolor\":\"white\",\"zerolinewidth\":2}}},\"xaxis\":{\"title\":{\"text\":\"alpha\"},\"range\":[-2.8931459329319305,1.4103197128301228],\"type\":\"log\"},\"yaxis\":{\"title\":{\"text\":\"beta\"},\"range\":[-0.8700279218268449,0.7305092311692992],\"type\":\"log\"}},                        {\"responsive\": true}                    ).then(function(){\n",
              "                            \n",
              "var gd = document.getElementById('a75f4ff4-d5bf-4b95-89cd-8433bcd73fb1');\n",
              "var x = new MutationObserver(function (mutations, observer) {{\n",
              "        var display = window.getComputedStyle(gd).display;\n",
              "        if (!display || display === 'none') {{\n",
              "            console.log([gd, 'removed!']);\n",
              "            Plotly.purge(gd);\n",
              "            observer.disconnect();\n",
              "        }}\n",
              "}});\n",
              "\n",
              "// Listen for the removal of the full notebook cells\n",
              "var notebookContainer = gd.closest('#notebook-container');\n",
              "if (notebookContainer) {{\n",
              "    x.observe(notebookContainer, {childList: true});\n",
              "}}\n",
              "\n",
              "// Listen for the clearing of the current output cell\n",
              "var outputEl = gd.closest('.output');\n",
              "if (outputEl) {{\n",
              "    x.observe(outputEl, {childList: true});\n",
              "}}\n",
              "\n",
              "                        })                };                            </script>        </div>\n",
              "</body>\n",
              "</html>"
            ]
          },
          "metadata": {}
        }
      ]
    },
    {
      "cell_type": "code",
      "source": [
        "optuna.visualization.plot_contour(batch_dict['None'], params=['alpha', 'beta'])"
      ],
      "metadata": {
        "id": "WMQNDlN1BZyD",
        "outputId": "873ac254-4259-492e-b41e-0abf29e9e956",
        "colab": {
          "base_uri": "https://localhost:8080/",
          "height": 542
        }
      },
      "id": "WMQNDlN1BZyD",
      "execution_count": 26,
      "outputs": [
        {
          "output_type": "display_data",
          "data": {
            "text/html": [
              "<html>\n",
              "<head><meta charset=\"utf-8\" /></head>\n",
              "<body>\n",
              "    <div>            <script src=\"https://cdnjs.cloudflare.com/ajax/libs/mathjax/2.7.5/MathJax.js?config=TeX-AMS-MML_SVG\"></script><script type=\"text/javascript\">if (window.MathJax) {MathJax.Hub.Config({SVG: {font: \"STIX-Web\"}});}</script>                <script type=\"text/javascript\">window.PlotlyConfig = {MathJaxConfig: 'local'};</script>\n",
              "        <script src=\"https://cdn.plot.ly/plotly-2.8.3.min.js\"></script>                <div id=\"f5bcb714-5993-4135-b787-526ac5502d63\" class=\"plotly-graph-div\" style=\"height:525px; width:100%;\"></div>            <script type=\"text/javascript\">                                    window.PLOTLYENV=window.PLOTLYENV || {};                                    if (document.getElementById(\"f5bcb714-5993-4135-b787-526ac5502d63\")) {                    Plotly.newPlot(                        \"f5bcb714-5993-4135-b787-526ac5502d63\",                        [{\"colorbar\":{\"title\":{\"text\":\"Objective Value\"}},\"colorscale\":[[0.0,\"rgb(247,251,255)\"],[0.125,\"rgb(222,235,247)\"],[0.25,\"rgb(198,219,239)\"],[0.375,\"rgb(158,202,225)\"],[0.5,\"rgb(107,174,214)\"],[0.625,\"rgb(66,146,198)\"],[0.75,\"rgb(33,113,181)\"],[0.875,\"rgb(8,81,156)\"],[1.0,\"rgb(8,48,107)\"]],\"connectgaps\":true,\"contours\":{\"coloring\":\"heatmap\"},\"hoverinfo\":\"none\",\"line\":{\"smoothing\":1.3},\"reversescale\":true,\"x\":[0.0017346791509502185,0.00270746919149635,0.0037626535887016273,0.004346092568017974,0.00617819768865102,0.013622239810323577,0.03570099083219473,0.09008984391881332,0.10221098850908851,0.15329742643821195,0.19013066513958798,0.19673010221216292,0.24120496319315735,0.44391376900616475,0.5368255442301285,2.148457949730193,6.980407336724793,8.49933612883599,9.623838651452969,10.810587255210136,19.927408220921098,31.10249165960221],\"y\":[0.09589900218825535,0.11455474067658107,0.1362950647540796,0.15067598061152745,0.16769656699462485,0.18448452865134896,0.34179702216875246,0.42925160522003397,0.5281289222233658,0.5496540256614164,0.7221474645225994,0.7861683993312255,1.0409279233966686,1.528079189577772,1.5427219318545458,1.5561361565398917,1.701124698750963,1.8303481303081528,1.928329714975764,3.216766571048455,4.0085991333624165,4.788413056657825],\"z\":[[null,null,null,null,null,null,null,null,null,null,null,null,null,null,null,null,null,null,null,null,null,null],[null,null,null,null,null,null,null,null,null,0.3359285461497502,null,null,null,null,null,null,null,null,null,null,null,null],[null,null,null,null,7.210700815078923,null,null,null,null,null,null,null,null,null,null,null,null,null,null,null,null,null],[null,null,null,null,null,null,null,null,null,null,null,null,null,null,null,null,null,null,null,3.9389039239275374,null,null],[null,null,null,null,null,null,null,null,0.9126226673967852,null,null,null,null,null,null,null,null,null,null,null,null,null],[null,null,null,null,null,null,null,null,null,null,0.3213309061186015,null,null,null,null,null,null,null,null,null,null,null],[null,null,null,7.706408955306479,null,null,null,null,null,null,null,null,null,null,null,null,null,null,null,null,null,null],[null,null,null,null,null,null,null,null,null,null,null,0.7679030955139595,null,null,null,null,null,null,null,null,null,null],[null,null,null,null,null,7.273132410888915,null,null,null,null,null,null,null,null,null,null,null,null,null,null,null,null],[null,null,null,null,null,null,null,3.8161267853327656,null,null,null,null,null,null,null,null,null,null,null,null,null,null],[null,7.9898595758007165,null,null,null,null,null,null,null,null,null,null,null,null,null,null,null,null,null,null,null,null],[null,null,null,null,null,null,null,null,null,null,null,null,null,null,null,null,0.30125815003007295,null,null,null,null,null],[null,null,null,null,null,null,null,null,null,null,null,null,null,null,null,0.2573573381743506,null,null,null,null,null,null],[null,null,null,null,null,null,null,null,null,null,null,null,null,null,null,null,null,null,null,null,1.073865771305947,null],[null,null,null,null,null,null,null,null,null,null,null,null,null,null,null,null,null,null,0.47070796527968206,null,null,null],[null,null,null,null,null,null,null,null,null,null,null,null,null,null,null,null,null,0.5204489476785327,null,null,null,null],[null,null,8.057321929015773,null,null,null,null,null,null,null,null,null,null,null,null,null,null,null,null,null,null,null],[null,null,null,null,null,null,7.672284272536179,null,null,null,null,null,null,null,null,null,null,null,null,null,null,null],[null,null,null,null,null,null,null,null,null,null,null,null,null,null,3.1872698764094167,null,null,null,null,null,null,null],[null,null,null,null,null,null,null,null,null,null,null,null,null,4.8038136550011385,null,null,null,null,null,null,null,null],[null,null,null,null,null,null,null,null,null,null,null,null,6.342747073183336,null,null,null,null,null,null,null,null,null],[null,null,null,null,null,null,null,null,null,null,null,null,null,null,null,null,null,null,null,null,null,null]],\"type\":\"contour\"},{\"marker\":{\"color\":\"black\",\"line\":{\"color\":\"Grey\",\"width\":2.0}},\"mode\":\"markers\",\"showlegend\":false,\"x\":[6.980407336724793,0.004346092568017974,0.09008984391881332,9.623838651452969,2.148457949730193,0.00617819768865102,19.927408220921098,8.49933612883599,0.44391376900616475,0.19013066513958798,0.24120496319315735,0.0037626535887016273,0.15329742643821195,0.00270746919149635,0.19673010221216292,0.10221098850908851,0.013622239810323577,0.5368255442301285,10.810587255210136,0.03570099083219473],\"y\":[0.7861683993312255,0.34179702216875246,0.5496540256614164,1.5427219318545458,1.0409279233966686,0.1362950647540796,1.528079189577772,1.5561361565398917,3.216766571048455,0.18448452865134896,4.0085991333624165,1.701124698750963,0.11455474067658107,0.7221474645225994,0.42925160522003397,0.16769656699462485,0.5281289222233658,1.928329714975764,0.15067598061152745,1.8303481303081528],\"type\":\"scatter\"}],                        {\"title\":{\"text\":\"Contour Plot\"},\"template\":{\"data\":{\"bar\":[{\"error_x\":{\"color\":\"#2a3f5f\"},\"error_y\":{\"color\":\"#2a3f5f\"},\"marker\":{\"line\":{\"color\":\"#E5ECF6\",\"width\":0.5},\"pattern\":{\"fillmode\":\"overlay\",\"size\":10,\"solidity\":0.2}},\"type\":\"bar\"}],\"barpolar\":[{\"marker\":{\"line\":{\"color\":\"#E5ECF6\",\"width\":0.5},\"pattern\":{\"fillmode\":\"overlay\",\"size\":10,\"solidity\":0.2}},\"type\":\"barpolar\"}],\"carpet\":[{\"aaxis\":{\"endlinecolor\":\"#2a3f5f\",\"gridcolor\":\"white\",\"linecolor\":\"white\",\"minorgridcolor\":\"white\",\"startlinecolor\":\"#2a3f5f\"},\"baxis\":{\"endlinecolor\":\"#2a3f5f\",\"gridcolor\":\"white\",\"linecolor\":\"white\",\"minorgridcolor\":\"white\",\"startlinecolor\":\"#2a3f5f\"},\"type\":\"carpet\"}],\"choropleth\":[{\"colorbar\":{\"outlinewidth\":0,\"ticks\":\"\"},\"type\":\"choropleth\"}],\"contour\":[{\"colorbar\":{\"outlinewidth\":0,\"ticks\":\"\"},\"colorscale\":[[0.0,\"#0d0887\"],[0.1111111111111111,\"#46039f\"],[0.2222222222222222,\"#7201a8\"],[0.3333333333333333,\"#9c179e\"],[0.4444444444444444,\"#bd3786\"],[0.5555555555555556,\"#d8576b\"],[0.6666666666666666,\"#ed7953\"],[0.7777777777777778,\"#fb9f3a\"],[0.8888888888888888,\"#fdca26\"],[1.0,\"#f0f921\"]],\"type\":\"contour\"}],\"contourcarpet\":[{\"colorbar\":{\"outlinewidth\":0,\"ticks\":\"\"},\"type\":\"contourcarpet\"}],\"heatmap\":[{\"colorbar\":{\"outlinewidth\":0,\"ticks\":\"\"},\"colorscale\":[[0.0,\"#0d0887\"],[0.1111111111111111,\"#46039f\"],[0.2222222222222222,\"#7201a8\"],[0.3333333333333333,\"#9c179e\"],[0.4444444444444444,\"#bd3786\"],[0.5555555555555556,\"#d8576b\"],[0.6666666666666666,\"#ed7953\"],[0.7777777777777778,\"#fb9f3a\"],[0.8888888888888888,\"#fdca26\"],[1.0,\"#f0f921\"]],\"type\":\"heatmap\"}],\"heatmapgl\":[{\"colorbar\":{\"outlinewidth\":0,\"ticks\":\"\"},\"colorscale\":[[0.0,\"#0d0887\"],[0.1111111111111111,\"#46039f\"],[0.2222222222222222,\"#7201a8\"],[0.3333333333333333,\"#9c179e\"],[0.4444444444444444,\"#bd3786\"],[0.5555555555555556,\"#d8576b\"],[0.6666666666666666,\"#ed7953\"],[0.7777777777777778,\"#fb9f3a\"],[0.8888888888888888,\"#fdca26\"],[1.0,\"#f0f921\"]],\"type\":\"heatmapgl\"}],\"histogram\":[{\"marker\":{\"pattern\":{\"fillmode\":\"overlay\",\"size\":10,\"solidity\":0.2}},\"type\":\"histogram\"}],\"histogram2d\":[{\"colorbar\":{\"outlinewidth\":0,\"ticks\":\"\"},\"colorscale\":[[0.0,\"#0d0887\"],[0.1111111111111111,\"#46039f\"],[0.2222222222222222,\"#7201a8\"],[0.3333333333333333,\"#9c179e\"],[0.4444444444444444,\"#bd3786\"],[0.5555555555555556,\"#d8576b\"],[0.6666666666666666,\"#ed7953\"],[0.7777777777777778,\"#fb9f3a\"],[0.8888888888888888,\"#fdca26\"],[1.0,\"#f0f921\"]],\"type\":\"histogram2d\"}],\"histogram2dcontour\":[{\"colorbar\":{\"outlinewidth\":0,\"ticks\":\"\"},\"colorscale\":[[0.0,\"#0d0887\"],[0.1111111111111111,\"#46039f\"],[0.2222222222222222,\"#7201a8\"],[0.3333333333333333,\"#9c179e\"],[0.4444444444444444,\"#bd3786\"],[0.5555555555555556,\"#d8576b\"],[0.6666666666666666,\"#ed7953\"],[0.7777777777777778,\"#fb9f3a\"],[0.8888888888888888,\"#fdca26\"],[1.0,\"#f0f921\"]],\"type\":\"histogram2dcontour\"}],\"mesh3d\":[{\"colorbar\":{\"outlinewidth\":0,\"ticks\":\"\"},\"type\":\"mesh3d\"}],\"parcoords\":[{\"line\":{\"colorbar\":{\"outlinewidth\":0,\"ticks\":\"\"}},\"type\":\"parcoords\"}],\"pie\":[{\"automargin\":true,\"type\":\"pie\"}],\"scatter\":[{\"marker\":{\"colorbar\":{\"outlinewidth\":0,\"ticks\":\"\"}},\"type\":\"scatter\"}],\"scatter3d\":[{\"line\":{\"colorbar\":{\"outlinewidth\":0,\"ticks\":\"\"}},\"marker\":{\"colorbar\":{\"outlinewidth\":0,\"ticks\":\"\"}},\"type\":\"scatter3d\"}],\"scattercarpet\":[{\"marker\":{\"colorbar\":{\"outlinewidth\":0,\"ticks\":\"\"}},\"type\":\"scattercarpet\"}],\"scattergeo\":[{\"marker\":{\"colorbar\":{\"outlinewidth\":0,\"ticks\":\"\"}},\"type\":\"scattergeo\"}],\"scattergl\":[{\"marker\":{\"colorbar\":{\"outlinewidth\":0,\"ticks\":\"\"}},\"type\":\"scattergl\"}],\"scattermapbox\":[{\"marker\":{\"colorbar\":{\"outlinewidth\":0,\"ticks\":\"\"}},\"type\":\"scattermapbox\"}],\"scatterpolar\":[{\"marker\":{\"colorbar\":{\"outlinewidth\":0,\"ticks\":\"\"}},\"type\":\"scatterpolar\"}],\"scatterpolargl\":[{\"marker\":{\"colorbar\":{\"outlinewidth\":0,\"ticks\":\"\"}},\"type\":\"scatterpolargl\"}],\"scatterternary\":[{\"marker\":{\"colorbar\":{\"outlinewidth\":0,\"ticks\":\"\"}},\"type\":\"scatterternary\"}],\"surface\":[{\"colorbar\":{\"outlinewidth\":0,\"ticks\":\"\"},\"colorscale\":[[0.0,\"#0d0887\"],[0.1111111111111111,\"#46039f\"],[0.2222222222222222,\"#7201a8\"],[0.3333333333333333,\"#9c179e\"],[0.4444444444444444,\"#bd3786\"],[0.5555555555555556,\"#d8576b\"],[0.6666666666666666,\"#ed7953\"],[0.7777777777777778,\"#fb9f3a\"],[0.8888888888888888,\"#fdca26\"],[1.0,\"#f0f921\"]],\"type\":\"surface\"}],\"table\":[{\"cells\":{\"fill\":{\"color\":\"#EBF0F8\"},\"line\":{\"color\":\"white\"}},\"header\":{\"fill\":{\"color\":\"#C8D4E3\"},\"line\":{\"color\":\"white\"}},\"type\":\"table\"}]},\"layout\":{\"annotationdefaults\":{\"arrowcolor\":\"#2a3f5f\",\"arrowhead\":0,\"arrowwidth\":1},\"autotypenumbers\":\"strict\",\"coloraxis\":{\"colorbar\":{\"outlinewidth\":0,\"ticks\":\"\"}},\"colorscale\":{\"diverging\":[[0,\"#8e0152\"],[0.1,\"#c51b7d\"],[0.2,\"#de77ae\"],[0.3,\"#f1b6da\"],[0.4,\"#fde0ef\"],[0.5,\"#f7f7f7\"],[0.6,\"#e6f5d0\"],[0.7,\"#b8e186\"],[0.8,\"#7fbc41\"],[0.9,\"#4d9221\"],[1,\"#276419\"]],\"sequential\":[[0.0,\"#0d0887\"],[0.1111111111111111,\"#46039f\"],[0.2222222222222222,\"#7201a8\"],[0.3333333333333333,\"#9c179e\"],[0.4444444444444444,\"#bd3786\"],[0.5555555555555556,\"#d8576b\"],[0.6666666666666666,\"#ed7953\"],[0.7777777777777778,\"#fb9f3a\"],[0.8888888888888888,\"#fdca26\"],[1.0,\"#f0f921\"]],\"sequentialminus\":[[0.0,\"#0d0887\"],[0.1111111111111111,\"#46039f\"],[0.2222222222222222,\"#7201a8\"],[0.3333333333333333,\"#9c179e\"],[0.4444444444444444,\"#bd3786\"],[0.5555555555555556,\"#d8576b\"],[0.6666666666666666,\"#ed7953\"],[0.7777777777777778,\"#fb9f3a\"],[0.8888888888888888,\"#fdca26\"],[1.0,\"#f0f921\"]]},\"colorway\":[\"#636efa\",\"#EF553B\",\"#00cc96\",\"#ab63fa\",\"#FFA15A\",\"#19d3f3\",\"#FF6692\",\"#B6E880\",\"#FF97FF\",\"#FECB52\"],\"font\":{\"color\":\"#2a3f5f\"},\"geo\":{\"bgcolor\":\"white\",\"lakecolor\":\"white\",\"landcolor\":\"#E5ECF6\",\"showlakes\":true,\"showland\":true,\"subunitcolor\":\"white\"},\"hoverlabel\":{\"align\":\"left\"},\"hovermode\":\"closest\",\"mapbox\":{\"style\":\"light\"},\"paper_bgcolor\":\"white\",\"plot_bgcolor\":\"#E5ECF6\",\"polar\":{\"angularaxis\":{\"gridcolor\":\"white\",\"linecolor\":\"white\",\"ticks\":\"\"},\"bgcolor\":\"#E5ECF6\",\"radialaxis\":{\"gridcolor\":\"white\",\"linecolor\":\"white\",\"ticks\":\"\"}},\"scene\":{\"xaxis\":{\"backgroundcolor\":\"#E5ECF6\",\"gridcolor\":\"white\",\"gridwidth\":2,\"linecolor\":\"white\",\"showbackground\":true,\"ticks\":\"\",\"zerolinecolor\":\"white\"},\"yaxis\":{\"backgroundcolor\":\"#E5ECF6\",\"gridcolor\":\"white\",\"gridwidth\":2,\"linecolor\":\"white\",\"showbackground\":true,\"ticks\":\"\",\"zerolinecolor\":\"white\"},\"zaxis\":{\"backgroundcolor\":\"#E5ECF6\",\"gridcolor\":\"white\",\"gridwidth\":2,\"linecolor\":\"white\",\"showbackground\":true,\"ticks\":\"\",\"zerolinecolor\":\"white\"}},\"shapedefaults\":{\"line\":{\"color\":\"#2a3f5f\"}},\"ternary\":{\"aaxis\":{\"gridcolor\":\"white\",\"linecolor\":\"white\",\"ticks\":\"\"},\"baxis\":{\"gridcolor\":\"white\",\"linecolor\":\"white\",\"ticks\":\"\"},\"bgcolor\":\"#E5ECF6\",\"caxis\":{\"gridcolor\":\"white\",\"linecolor\":\"white\",\"ticks\":\"\"}},\"title\":{\"x\":0.05},\"xaxis\":{\"automargin\":true,\"gridcolor\":\"white\",\"linecolor\":\"white\",\"ticks\":\"\",\"title\":{\"standoff\":15},\"zerolinecolor\":\"white\",\"zerolinewidth\":2},\"yaxis\":{\"automargin\":true,\"gridcolor\":\"white\",\"linecolor\":\"white\",\"ticks\":\"\",\"title\":{\"standoff\":15},\"zerolinecolor\":\"white\",\"zerolinewidth\":2}}},\"xaxis\":{\"title\":{\"text\":\"alpha\"},\"range\":[-2.7607808412521275,1.4927951822959729],\"type\":\"log\"},\"yaxis\":{\"title\":{\"text\":\"beta\"},\"range\":[-1.0181859115612353,0.6801916063312439],\"type\":\"log\"}},                        {\"responsive\": true}                    ).then(function(){\n",
              "                            \n",
              "var gd = document.getElementById('f5bcb714-5993-4135-b787-526ac5502d63');\n",
              "var x = new MutationObserver(function (mutations, observer) {{\n",
              "        var display = window.getComputedStyle(gd).display;\n",
              "        if (!display || display === 'none') {{\n",
              "            console.log([gd, 'removed!']);\n",
              "            Plotly.purge(gd);\n",
              "            observer.disconnect();\n",
              "        }}\n",
              "}});\n",
              "\n",
              "// Listen for the removal of the full notebook cells\n",
              "var notebookContainer = gd.closest('#notebook-container');\n",
              "if (notebookContainer) {{\n",
              "    x.observe(notebookContainer, {childList: true});\n",
              "}}\n",
              "\n",
              "// Listen for the clearing of the current output cell\n",
              "var outputEl = gd.closest('.output');\n",
              "if (outputEl) {{\n",
              "    x.observe(outputEl, {childList: true});\n",
              "}}\n",
              "\n",
              "                        })                };                            </script>        </div>\n",
              "</body>\n",
              "</html>"
            ]
          },
          "metadata": {}
        }
      ]
    },
    {
      "cell_type": "markdown",
      "id": "2d91d6c2",
      "metadata": {
        "id": "2d91d6c2"
      },
      "source": [
        "Опишите подробно все свои наблюдения."
      ]
    },
    {
      "cell_type": "code",
      "execution_count": null,
      "id": "0835be25",
      "metadata": {
        "id": "0835be25"
      },
      "outputs": [],
      "source": [
        "#Несмотря на то, что самый лучший лосс был получен на испытании с отсутствием батчей, наиболее часто низкие значения \n",
        "#встречаются при наибольшем делении датасета на батчи (то есть при размере батча = 300), такое может получится за счёт того, \n",
        "#что лосс считается больше в n раз и вероятность прийти к более оптимальному становится выше. \n",
        "\n",
        "#также можно заметить, что наиболее удачные лоссы встречаются на трайалах с маленьким значением step_alpha (если бить на батчи, \n",
        "# при отсутствии разбиения на батчи видимо более случайно) и уже при более разнообразном step_beta "
      ]
    },
    {
      "cell_type": "markdown",
      "id": "3ae9ec61",
      "metadata": {
        "id": "3ae9ec61"
      },
      "source": [
        "Мы поставили довольно большое значение `n_startup_trials` в TPESampler. Как думаете, для чего?"
      ]
    },
    {
      "cell_type": "code",
      "execution_count": null,
      "id": "c890c0bd",
      "metadata": {
        "id": "c890c0bd"
      },
      "outputs": [],
      "source": [
        "#кажется в случае с стохастическим градиентным спуском какую-то роль играет случайность. возможно с бОльшим количеством\n",
        "#случайных стартап трайалов, выше вероятность наткнуться на те значения, которые будут наиболее оптимальны для градиентного спуска"
      ]
    },
    {
      "cell_type": "markdown",
      "id": "a700e6e2",
      "metadata": {
        "id": "a700e6e2"
      },
      "source": [
        "Обучите по модели для каждого `batch_size` с лучшими `step_alpha, step_beta`. Соберите историю, сложите все в словари по ключу batch_size."
      ]
    },
    {
      "cell_type": "code",
      "execution_count": 28,
      "id": "d76da2c1",
      "metadata": {
        "id": "d76da2c1"
      },
      "outputs": [],
      "source": [
        "# your code here\n",
        "batches = [300, 1000, 10000, None]\n",
        "\n",
        "batch_his = {}\n",
        "\n",
        "for batch in batches: \n",
        "    blogloss = BinaryLogisticLoss(l2_coef=0.11)\n",
        "    model = LinearModel(blogloss, batch_size=batch, step_alpha=2.14, step_beta=1.04,\n",
        "                    tolerance=1e-4, max_iter=30, random_seed=911, trace=True)\n",
        "    history =  model.fit(X=X_train, y=y_train, w_0=None, trace=True, X_val=X_val, y_val=y_val)\n",
        "    name = 'batch' + str(batch)\n",
        "    batch_his[name] = [history, model] "
      ]
    },
    {
      "cell_type": "markdown",
      "id": "197d238a",
      "metadata": {
        "id": "197d238a"
      },
      "source": [
        "Визуализируйте результаты эксперимента. Нарисуйте графики `time-loss`, `epoch-loss`, `epoch-learning_rate` для каждого `batch_size`. <br>\n",
        "На графике `epoch-loss` должно быть каким-либо образом отображено среднее время эпохи для каждого размера батча. <br>\n",
        "Под `learning_rate` имеется в виду:\n",
        "$$\\eta_k  = \\frac{\\alpha}{k^{\\beta}}, \\quad \\text{где $k$ - номер итерации (эпохи)}$$\n",
        "\n",
        "Убедитесь, что различия между графиками, относящимися к разным `batch_size`, хорошо видны."
      ]
    },
    {
      "cell_type": "code",
      "execution_count": 36,
      "id": "018423ed",
      "metadata": {
        "colab": {
          "base_uri": "https://localhost:8080/",
          "height": 1000
        },
        "id": "018423ed",
        "outputId": "742892e4-1f7e-4eaf-dd7c-da746a943246"
      },
      "outputs": [
        {
          "output_type": "display_data",
          "data": {
            "text/plain": [
              "<Figure size 1800x720 with 3 Axes>"
            ],
            "image/png": "[encoded data removed]"
          },
          "metadata": {
            "needs_background": "light"
          }
        },
        {
          "output_type": "display_data",
          "data": {
            "text/plain": [
              "<Figure size 1800x720 with 3 Axes>"
            ],
            "image/png": "[encoded data removed]"
          },
          "metadata": {
            "needs_background": "light"
          }
        },
        {
          "output_type": "display_data",
          "data": {
            "text/plain": [
              "<Figure size 1800x720 with 3 Axes>"
            ],
            "image/png": "[encoded data removed]"
          },
          "metadata": {
            "needs_background": "light"
          }
        },
        {
          "output_type": "display_data",
          "data": {
            "text/plain": [
              "<Figure size 1800x720 with 3 Axes>"
            ],
            "image/png": "[encoded data removed]"
          },
          "metadata": {
            "needs_background": "light"
          }
        }
      ],
      "source": [
        "# your code here\n",
        "def vizual(models, history, alpha, beta): \n",
        "    fig, ax = plt.subplots(nrows=1, ncols=3, figsize=[25,10])\n",
        "    ax[0].plot(history['time'], history['func'])\n",
        "    ax[0].set_title('time-func')\n",
        "    epoch = list(range(len(history['func'])))\n",
        "    ax[1].plot(epoch, history['func'])\n",
        "    ax[1].set_title('epoch-func')\n",
        "    lr_lis = []\n",
        "    for i in range(len(epoch)): \n",
        "        lr = alpha/(i+1 ** beta)\n",
        "        lr_lis.append(lr)\n",
        "    ax[2].plot(epoch, lr_lis)\n",
        "    ax[2].set_title('lr by epoch')\n",
        "\n",
        "for batch in batches: \n",
        "   vizual(batch_his['batch' + str(batch)][1], batch_his['batch' + str(batch)][0], 2.14, 1.04)\n",
        "   plt.show()\n"
      ]
    },
    {
      "cell_type": "markdown",
      "id": "c40862cf",
      "metadata": {
        "id": "c40862cf"
      },
      "source": [
        "Какие выводы можно сделать из увиденного?"
      ]
    },
    {
      "cell_type": "code",
      "execution_count": null,
      "id": "30156b7f",
      "metadata": {
        "id": "30156b7f"
      },
      "outputs": [],
      "source": [
        "#довольно однообразно уменьшает learning rate, имеет в целом похожую кривую. \n",
        "#то же самое касается и значении лосса на валидации в зависимости от времени. При маленьком размере батча сначала лосс немного \n",
        "#прыгает, но потом стабилизируется\n",
        "#интереснее ведут себя графики зависимости лосса от времени. Во-первых, они менее однородные, особенно интересен график при отсутствии\n",
        "#батчей, на котором можно заметить что бОльшее время результируется в бОльший лосс. "
      ]
    },
    {
      "cell_type": "markdown",
      "id": "8ec320a2",
      "metadata": {
        "id": "8ec320a2"
      },
      "source": [
        "### Часть третья. Метрика (4 балла)\n",
        "\n",
        "Настало время проверить, во что вылились наши усилия. Посмотрим на метрику `sklearn.metrics.balanced_accuracy_score`."
      ]
    },
    {
      "cell_type": "markdown",
      "id": "b70b302e",
      "metadata": {
        "id": "b70b302e"
      },
      "source": [
        "Выберите по графикам выше оптимальные параметры для вашей финальной модели. Посчитайте для этой модели значение `balanced_accuracy` на обучающей, валидационной и тестовой выборках. Используйте `model.get_optimal_threshold` для подсчета порога бинаризации."
      ]
    },
    {
      "cell_type": "code",
      "execution_count": 8,
      "id": "7244b673",
      "metadata": {
        "colab": {
          "base_uri": "https://localhost:8080/"
        },
        "id": "7244b673",
        "outputId": "d085f037-8292-4a07-98fb-fc794b9ac637"
      },
      "outputs": [
        {
          "output_type": "execute_result",
          "data": {
            "text/plain": [
              "0.5"
            ]
          },
          "metadata": {},
          "execution_count": 8
        }
      ],
      "source": [
        "from sklearn.metrics import balanced_accuracy_score\n",
        "\n",
        "# your code here\n",
        "blogloss = BinaryLogisticLoss(l2_coef=0.11)\n",
        "model = LinearModel(blogloss, batch_size=300, step_alpha=2.14, step_beta=1.04,\n",
        "                    tolerance=1e-4, max_iter=30, random_seed=911, trace=True)\n",
        "model.fit(X=X_train, y=y_train, w_0=None)\n",
        "threshold = model.get_optimal_threshold(X_val, y_val)\n",
        "y_pred = model.predict(X_val, threshold)\n",
        "balanced_accuracy_score(y_val, y_pred)"
      ]
    },
    {
      "cell_type": "markdown",
      "id": "1285b7d1",
      "metadata": {
        "id": "1285b7d1"
      },
      "source": [
        "Что скажете?"
      ]
    },
    {
      "cell_type": "code",
      "execution_count": null,
      "id": "4bdcf3c0",
      "metadata": {
        "id": "4bdcf3c0"
      },
      "outputs": [],
      "source": [
        "#получилось не очень хорошо, возможно есть ошибки в подборе гиперпараметров, также явно не хватает предобработки данных"
      ]
    },
    {
      "cell_type": "markdown",
      "id": "b6de992f",
      "metadata": {
        "id": "b6de992f"
      },
      "source": [
        "В качестве послесловия предлагается на обсуждение вопрос, который мог возникнуть еще в самом начале экспериментов: почему мы подбираем гиперпараметры по лоссу, если в результате мы хотим получить модель с лучшим показателем метрики `balanced_accuracy`? Первое, что хочется ответить, так это то, что каждый раз подбирать оптимальный порог и считать метрику дольше, чем просто посчитать лосс.\n",
        "\n",
        "  Замерьте время подсчета лосса и подбора оптимального порога + подсчет метрики, [используя](https://ipython.readthedocs.io/en/stable/interactive/magics.html) `%timeit` или `%%timeit`."
      ]
    },
    {
      "cell_type": "code",
      "execution_count": 49,
      "id": "ebf4d6fb",
      "metadata": {
        "colab": {
          "base_uri": "https://localhost:8080/"
        },
        "id": "ebf4d6fb",
        "outputId": "665085e0-d6f3-4eb0-d8da-76bce1975f4a"
      },
      "outputs": [
        {
          "output_type": "stream",
          "name": "stdout",
          "text": [
            "0.6284286699992663\n"
          ]
        }
      ],
      "source": [
        "# your code here\n",
        "import time \n",
        "start = time.process_time()\n",
        "model.get_objective(X_val, y_val)\n",
        "model.get_optimal_threshold(X_val, y_val)\n",
        "balanced_accuracy_score(y_val, y_pred)\n",
        "end = time.process_time()\n",
        "\n",
        "print(end - start)"
      ]
    },
    {
      "cell_type": "markdown",
      "id": "de7ce4fc",
      "metadata": {
        "id": "de7ce4fc"
      },
      "source": [
        "Подумайте (и напишите), есть ли другие причины, по которым использовать `balanced_accuracy` в нашем процессе подбора гиперпараметров не стоит?"
      ]
    },
    {
      "cell_type": "code",
      "execution_count": null,
      "id": "f963bfcd",
      "metadata": {
        "id": "f963bfcd"
      },
      "outputs": [],
      "source": [
        "#кажется, что метрика loss наиболее универсальна, так как изначальная задача - уменьшить её в ходе градиентного спуска. Подбирая \n",
        "#гиперпараметры для loss мы в любом случае улучшаем показатели модели для любой последующей оценки модели "
      ]
    },
    {
      "cell_type": "markdown",
      "id": "86df86a6",
      "metadata": {
        "id": "86df86a6"
      },
      "source": [
        "По логике, уменьшение лосса есть \"улучшение качества работы алгоритма\", как и увеличение нашей метрики. Может быть, мы имели право перебирать гиперпараметры по лоссу, даже если на самом деле хотели от модели лишь `balanced_accuracy` побольше?\n",
        "\n",
        "Давайте проверим. Напишите функцию `multiobjective`, которая перебирает `step_alpha, step_beta`. Зафиксируйте все остальное на адекватных значениях, согласно предыдущим экспериментам. Функция должна возвращать tuple `(loss, balanced_acc_score)` - лосс и balanced_accuracy_score с подбором оптимального порога, полученные на валидации."
      ]
    },
    {
      "cell_type": "code",
      "execution_count": 6,
      "id": "019c67ee",
      "metadata": {
        "id": "019c67ee"
      },
      "outputs": [],
      "source": [
        "# your code here\n",
        "def multiobjective(trial, X_train, X_val, y_train, y_val): \n",
        "    step_alpha = trial.suggest_float('alpha', 1, 5, step=0.1)\n",
        "    step_beta = trial.suggest_float('beta', 1, 5, step=0.1)\n",
        "    blogloss = BinaryLogisticLoss(l2_coef=0.4)\n",
        "    model = LinearModel(blogloss, batch_size=300, step_alpha=step_alpha, step_beta=step_beta, tolerance=1e-4, max_iter=30, random_seed=911)\n",
        "    model.fit(X_train, y_train)\n",
        "\n",
        "    obj = model.get_objective(X_val, y_val)\n",
        "    threshold = model.get_optimal_threshold(X_val, y_val)\n",
        "    y_pred = model.predict(X_val, threshold)\n",
        "    score = balanced_accuracy_score(y_val, y_pred)\n",
        "    res = (obj, score)\n",
        "\n",
        "    return res \n"
      ]
    },
    {
      "cell_type": "markdown",
      "id": "2d2abb5e",
      "metadata": {
        "id": "2d2abb5e"
      },
      "source": [
        "Optuna [позволяет](https://optuna.readthedocs.io/en/stable/tutorial/20_recipes/002_multi_objective.html#sphx-glr-tutorial-20-recipes-002-multi-objective-py) оптимизировать `multiobjective-функции`, которые возвращают больше одного аргумента.\n",
        "\n",
        "Запустите сессию оптимизации с сэмплером по умолчанию. Используйте 100-300 `n_trials`, `study_directions = ['minimize', 'maximize']`."
      ]
    },
    {
      "cell_type": "code",
      "execution_count": 9,
      "id": "6f423afb",
      "metadata": {
        "colab": {
          "base_uri": "https://localhost:8080/"
        },
        "id": "6f423afb",
        "outputId": "3270cdf1-40b7-42f9-d73e-d3b541f3ada1"
      },
      "outputs": [
        {
          "output_type": "stream",
          "name": "stderr",
          "text": [
            "\u001b[32m[I 2022-11-27 09:12:58,981]\u001b[0m A new study created in memory with name: no-name-3f558976-fce0-44da-88c2-376ad88d1d97\u001b[0m\n",
            "\u001b[32m[I 2022-11-27 09:13:31,745]\u001b[0m Trial 1 finished with values: [0.2859952096106637, 0.5] and parameters: {'alpha': 1.0, 'beta': 2.9000000000000004}. \u001b[0m\n",
            "\u001b[32m[I 2022-11-27 09:13:49,385]\u001b[0m Trial 0 finished with values: [0.28861414217694703, 0.5] and parameters: {'alpha': 1.6, 'beta': 2.7}. \u001b[0m\n",
            "\u001b[32m[I 2022-11-27 09:14:26,864]\u001b[0m Trial 4 finished with values: [0.28637982502398945, 0.5] and parameters: {'alpha': 1.9, 'beta': 2.8}. \u001b[0m\n",
            "\u001b[32m[I 2022-11-27 09:15:31,100]\u001b[0m Trial 2 finished with values: [56.84202767900421, 0.5] and parameters: {'alpha': 2.7, 'beta': 1.7000000000000002}. \u001b[0m\n",
            "\u001b[32m[I 2022-11-27 09:16:41,018]\u001b[0m Trial 3 finished with values: [0.54758663258277, 0.5] and parameters: {'alpha': 2.0, 'beta': 4.6}. \u001b[0m\n",
            "\u001b[32m[I 2022-11-27 09:17:16,511]\u001b[0m Trial 7 finished with values: [0.28938602404408775, 0.5] and parameters: {'alpha': 1.2, 'beta': 4.800000000000001}. \u001b[0m\n",
            "/content/modules/losses.py:43: RuntimeWarning: overflow encountered in double_scalars\n",
            "  return np.average(np.logaddexp(0, z)) + sum(w[1:] ** 2) * self.l2_coef\n",
            "/content/modules/linear_model.py:100: RuntimeWarning: invalid value encountered in double_scalars\n",
            "  if abs(abs(cost - last_cost)) < self.tolerance:\n",
            "/content/modules/losses.py:43: RuntimeWarning: overflow encountered in square\n",
            "  return np.average(np.logaddexp(0, z)) + sum(w[1:] ** 2) * self.l2_coef\n",
            "/content/modules/linear_model.py:100: RuntimeWarning: invalid value encountered in double_scalars\n",
            "  if abs(abs(cost - last_cost)) < self.tolerance:\n",
            "/content/modules/losses.py:43: RuntimeWarning: overflow encountered in square\n",
            "  return np.average(np.logaddexp(0, z)) + sum(w[1:] ** 2) * self.l2_coef\n",
            "/content/modules/linear_model.py:100: RuntimeWarning: invalid value encountered in double_scalars\n",
            "  if abs(abs(cost - last_cost)) < self.tolerance:\n",
            "\u001b[32m[I 2022-11-27 09:17:28,235]\u001b[0m Trial 5 finished with values: [60.52603409070377, 0.5] and parameters: {'alpha': 2.9000000000000004, 'beta': 1.9}. \u001b[0m\n",
            "/content/modules/losses.py:43: RuntimeWarning: overflow encountered in double_scalars\n",
            "  return np.average(np.logaddexp(0, z)) + sum(w[1:] ** 2) * self.l2_coef\n",
            "\u001b[32m[I 2022-11-27 09:18:21,457]\u001b[0m Trial 6 finished with values: [48.527323398116025, 0.5] and parameters: {'alpha': 2.5, 'beta': 1.7000000000000002}. \u001b[0m\n",
            "\u001b[32m[I 2022-11-27 09:21:01,309]\u001b[0m Trial 9 finished with values: [129.004285538312, 0.5] and parameters: {'alpha': 4.5, 'beta': 1.0}. \u001b[0m\n",
            "/content/modules/losses.py:43: RuntimeWarning: overflow encountered in double_scalars\n",
            "  return np.average(np.logaddexp(0, z)) + sum(w[1:] ** 2) * self.l2_coef\n",
            "/content/modules/linear_model.py:100: RuntimeWarning: invalid value encountered in double_scalars\n",
            "  if abs(abs(cost - last_cost)) < self.tolerance:\n",
            "/content/modules/losses.py:43: RuntimeWarning: overflow encountered in square\n",
            "  return np.average(np.logaddexp(0, z)) + sum(w[1:] ** 2) * self.l2_coef\n",
            "\u001b[32m[I 2022-11-27 09:21:45,699]\u001b[0m Trial 8 finished with values: [4.2918494826062924e+127, 0.5] and parameters: {'alpha': 3.9000000000000004, 'beta': 3.9000000000000004}. \u001b[0m\n",
            "/content/modules/losses.py:43: RuntimeWarning: overflow encountered in double_scalars\n",
            "  return np.average(np.logaddexp(0, z)) + sum(w[1:] ** 2) * self.l2_coef\n",
            "/content/modules/linear_model.py:100: RuntimeWarning: invalid value encountered in double_scalars\n",
            "  if abs(abs(cost - last_cost)) < self.tolerance:\n",
            "/content/modules/losses.py:43: RuntimeWarning: overflow encountered in square\n",
            "  return np.average(np.logaddexp(0, z)) + sum(w[1:] ** 2) * self.l2_coef\n",
            "\u001b[32m[I 2022-11-27 09:22:51,360]\u001b[0m Trial 10 finished with values: [3.278932185244056e+36, 0.5] and parameters: {'alpha': 3.3000000000000003, 'beta': 3.5}. \u001b[0m\n",
            "/content/modules/losses.py:43: RuntimeWarning: overflow encountered in double_scalars\n",
            "  return np.average(np.logaddexp(0, z)) + sum(w[1:] ** 2) * self.l2_coef\n",
            "/content/modules/linear_model.py:100: RuntimeWarning: invalid value encountered in double_scalars\n",
            "  if abs(abs(cost - last_cost)) < self.tolerance:\n",
            "/content/modules/losses.py:43: RuntimeWarning: overflow encountered in square\n",
            "  return np.average(np.logaddexp(0, z)) + sum(w[1:] ** 2) * self.l2_coef\n",
            "/content/modules/linear_model.py:100: RuntimeWarning: invalid value encountered in double_scalars\n",
            "  if abs(abs(cost - last_cost)) < self.tolerance:\n",
            "/content/modules/losses.py:43: RuntimeWarning: overflow encountered in square\n",
            "  return np.average(np.logaddexp(0, z)) + sum(w[1:] ** 2) * self.l2_coef\n",
            "/content/modules/linear_model.py:100: RuntimeWarning: invalid value encountered in double_scalars\n",
            "  if abs(abs(cost - last_cost)) < self.tolerance:\n",
            "\u001b[32m[I 2022-11-27 09:24:57,706]\u001b[0m Trial 11 finished with values: [83.56999889383601, 0.5] and parameters: {'alpha': 3.7, 'beta': 2.5}. \u001b[0m\n",
            "/content/modules/linear_model.py:100: RuntimeWarning: invalid value encountered in double_scalars\n",
            "  if abs(abs(cost - last_cost)) < self.tolerance:\n",
            "/content/modules/losses.py:43: RuntimeWarning: overflow encountered in square\n",
            "  return np.average(np.logaddexp(0, z)) + sum(w[1:] ** 2) * self.l2_coef\n",
            "/content/modules/losses.py:43: RuntimeWarning: overflow encountered in square\n",
            "  return np.average(np.logaddexp(0, z)) + sum(w[1:] ** 2) * self.l2_coef\n",
            "/content/modules/linear_model.py:100: RuntimeWarning: invalid value encountered in double_scalars\n",
            "  if abs(abs(cost - last_cost)) < self.tolerance:\n",
            "\u001b[32m[I 2022-11-27 09:26:12,855]\u001b[0m Trial 12 finished with values: [8.573822045134755e+23, 0.5] and parameters: {'alpha': 4.800000000000001, 'beta': 3.0}. \u001b[0m\n",
            "/content/modules/losses.py:43: RuntimeWarning: overflow encountered in double_scalars\n",
            "  return np.average(np.logaddexp(0, z)) + sum(w[1:] ** 2) * self.l2_coef\n",
            "\u001b[32m[I 2022-11-27 09:27:20,498]\u001b[0m Trial 13 finished with values: [5.790108463663637e+157, 0.5] and parameters: {'alpha': 4.300000000000001, 'beta': 3.9000000000000004}. \u001b[0m\n",
            "/content/modules/losses.py:43: RuntimeWarning: overflow encountered in double_scalars\n",
            "  return np.average(np.logaddexp(0, z)) + sum(w[1:] ** 2) * self.l2_coef\n",
            "/content/modules/losses.py:43: RuntimeWarning: overflow encountered in square\n",
            "  return np.average(np.logaddexp(0, z)) + sum(w[1:] ** 2) * self.l2_coef\n",
            "/content/modules/linear_model.py:100: RuntimeWarning: invalid value encountered in double_scalars\n",
            "  if abs(abs(cost - last_cost)) < self.tolerance:\n",
            "\u001b[32m[I 2022-11-27 09:27:48,170]\u001b[0m Trial 14 finished with values: [50.12825218542859, 0.5] and parameters: {'alpha': 3.0, 'beta': 1.3}. \u001b[0m\n",
            "/content/modules/losses.py:43: RuntimeWarning: overflow encountered in double_scalars\n",
            "  return np.average(np.logaddexp(0, z)) + sum(w[1:] ** 2) * self.l2_coef\n",
            "/content/modules/linear_model.py:100: RuntimeWarning: invalid value encountered in double_scalars\n",
            "  if abs(abs(cost - last_cost)) < self.tolerance:\n",
            "/content/modules/losses.py:43: RuntimeWarning: overflow encountered in square\n",
            "  return np.average(np.logaddexp(0, z)) + sum(w[1:] ** 2) * self.l2_coef\n",
            "/usr/local/lib/python3.7/dist-packages/numpy/core/_methods.py:179: RuntimeWarning: overflow encountered in reduce\n",
            "  ret = umr_sum(arr, axis, dtype, out, keepdims, where=where)\n",
            "/content/modules/losses.py:43: RuntimeWarning: invalid value encountered in logaddexp\n",
            "  return np.average(np.logaddexp(0, z)) + sum(w[1:] ** 2) * self.l2_coef\n",
            "/content/modules/losses.py:43: RuntimeWarning: invalid value encountered in logaddexp\n",
            "  return np.average(np.logaddexp(0, z)) + sum(w[1:] ** 2) * self.l2_coef\n",
            "\u001b[32m[I 2022-11-27 09:29:41,698]\u001b[0m Trial 15 finished with values: [86.50094671674884, 0.5] and parameters: {'alpha': 3.9000000000000004, 'beta': 2.2}. \u001b[0m\n",
            "/content/modules/losses.py:43: RuntimeWarning: invalid value encountered in logaddexp\n",
            "  return np.average(np.logaddexp(0, z)) + sum(w[1:] ** 2) * self.l2_coef\n",
            "/content/modules/losses.py:43: RuntimeWarning: invalid value encountered in logaddexp\n",
            "  return np.average(np.logaddexp(0, z)) + sum(w[1:] ** 2) * self.l2_coef\n",
            "/content/modules/losses.py:43: RuntimeWarning: invalid value encountered in logaddexp\n",
            "  return np.average(np.logaddexp(0, z)) + sum(w[1:] ** 2) * self.l2_coef\n",
            "\u001b[32m[I 2022-11-27 09:31:05,370]\u001b[0m Trial 16 finished with values: [106.15561021958403, 0.5] and parameters: {'alpha': 4.7, 'beta': 2.4000000000000004}. \u001b[0m\n",
            "/content/modules/losses.py:43: RuntimeWarning: invalid value encountered in logaddexp\n",
            "  return np.average(np.logaddexp(0, z)) + sum(w[1:] ** 2) * self.l2_coef\n",
            "/content/modules/losses.py:43: RuntimeWarning: invalid value encountered in logaddexp\n",
            "  return np.average(np.logaddexp(0, z)) + sum(w[1:] ** 2) * self.l2_coef\n",
            "\u001b[32m[I 2022-11-27 09:31:55,396]\u001b[0m Trial 18 finished with values: [0.3216486099013947, 0.5] and parameters: {'alpha': 1.8, 'beta': 3.4000000000000004}. \u001b[0m\n",
            "/content/modules/losses.py:43: RuntimeWarning: overflow encountered in double_scalars\n",
            "  return np.average(np.logaddexp(0, z)) + sum(w[1:] ** 2) * self.l2_coef\n",
            "/content/modules/linear_model.py:100: RuntimeWarning: invalid value encountered in double_scalars\n",
            "  if abs(abs(cost - last_cost)) < self.tolerance:\n",
            "/content/modules/losses.py:43: RuntimeWarning: overflow encountered in square\n",
            "  return np.average(np.logaddexp(0, z)) + sum(w[1:] ** 2) * self.l2_coef\n",
            "/content/modules/linear_model.py:217: RuntimeWarning: invalid value encountered in logaddexp\n",
            "  return np.average(np.logaddexp(0, z))\n",
            "\u001b[32m[I 2022-11-27 09:34:44,135]\u001b[0m Trial 20 finished with values: [75.45085321951171, 0.5] and parameters: {'alpha': 3.7, 'beta': 1.5}. \u001b[0m\n",
            "\u001b[32m[I 2022-11-27 09:34:56,092]\u001b[0m Trial 19 finished with values: [63.55003172722995, 0.5] and parameters: {'alpha': 2.8, 'beta': 3.6}. \u001b[0m\n",
            "\u001b[33m[W 2022-11-27 09:36:28,033]\u001b[0m Trial 17 failed because of the following error: The value nan is not acceptable.\u001b[0m\n",
            "\u001b[32m[I 2022-11-27 09:36:40,631]\u001b[0m Trial 21 finished with values: [0.2864566791673311, 0.5] and parameters: {'alpha': 2.2, 'beta': 1.2}. \u001b[0m\n",
            "\u001b[32m[I 2022-11-27 09:36:58,172]\u001b[0m Trial 23 finished with values: [0.2861431641906172, 0.5] and parameters: {'alpha': 1.0, 'beta': 2.6}. \u001b[0m\n",
            "/content/modules/losses.py:43: RuntimeWarning: overflow encountered in double_scalars\n",
            "  return np.average(np.logaddexp(0, z)) + sum(w[1:] ** 2) * self.l2_coef\n",
            "/content/modules/linear_model.py:100: RuntimeWarning: invalid value encountered in double_scalars\n",
            "  if abs(abs(cost - last_cost)) < self.tolerance:\n",
            "/content/modules/losses.py:43: RuntimeWarning: overflow encountered in square\n",
            "  return np.average(np.logaddexp(0, z)) + sum(w[1:] ** 2) * self.l2_coef\n",
            "\u001b[32m[I 2022-11-27 09:37:24,267]\u001b[0m Trial 24 finished with values: [0.30744729493828077, 0.5] and parameters: {'alpha': 1.6, 'beta': 3.7}. \u001b[0m\n",
            "\u001b[32m[I 2022-11-27 09:38:51,469]\u001b[0m Trial 22 finished with values: [0.4493521222946349, 0.5] and parameters: {'alpha': 1.8, 'beta': 4.2}. \u001b[0m\n",
            "\u001b[32m[I 2022-11-27 09:39:41,118]\u001b[0m Trial 27 finished with values: [0.28607942474333453, 0.5] and parameters: {'alpha': 2.2, 'beta': 2.0}. \u001b[0m\n",
            "\u001b[32m[I 2022-11-27 09:39:47,139]\u001b[0m Trial 25 finished with values: [96.2985169526806, 0.5] and parameters: {'alpha': 4.2, 'beta': 1.5}. \u001b[0m\n",
            "/content/modules/losses.py:43: RuntimeWarning: overflow encountered in double_scalars\n",
            "  return np.average(np.logaddexp(0, z)) + sum(w[1:] ** 2) * self.l2_coef\n",
            "/content/modules/linear_model.py:100: RuntimeWarning: invalid value encountered in double_scalars\n",
            "  if abs(abs(cost - last_cost)) < self.tolerance:\n",
            "/content/modules/losses.py:43: RuntimeWarning: overflow encountered in square\n",
            "  return np.average(np.logaddexp(0, z)) + sum(w[1:] ** 2) * self.l2_coef\n",
            "\u001b[32m[I 2022-11-27 09:40:30,730]\u001b[0m Trial 26 finished with values: [70.54527941024865, 0.5] and parameters: {'alpha': 3.3000000000000003, 'beta': 2.0}. \u001b[0m\n",
            "\u001b[32m[I 2022-11-27 09:42:53,245]\u001b[0m Trial 28 finished with values: [79.9062206053863, 0.5] and parameters: {'alpha': 3.5, 'beta': 2.7}. \u001b[0m\n",
            "\u001b[32m[I 2022-11-27 09:42:55,241]\u001b[0m Trial 29 finished with values: [83.61064702273706, 0.5] and parameters: {'alpha': 3.7, 'beta': 2.4000000000000004}. \u001b[0m\n"
          ]
        }
      ],
      "source": [
        "# your code here\n",
        "import optuna \n",
        "from sklearn.metrics import balanced_accuracy_score\n",
        "\n",
        "gamma = lambda n_trials: min(int(np.ceil(0.1 * n_trials)), 25)\n",
        "tpe_sampler = optuna.samplers.TPESampler(n_startup_trials=30, n_ei_candidates=24, gamma=gamma)\n",
        "\n",
        "study = optuna.create_study(directions = ['minimize', 'maximize'], sampler=tpe_sampler)\n",
        "obj = lambda trial: multiobjective(trial, X_train=X_train, y_train=y_train, X_val=X_val, y_val=y_val)\n",
        "study.optimize(func=obj, n_trials=30, timeout=None, n_jobs=3)\n",
        "\n"
      ]
    },
    {
      "cell_type": "markdown",
      "id": "d80971c0",
      "metadata": {
        "id": "d80971c0"
      },
      "source": [
        "С помощью `optuna.visualization.plot_pareto_front` визуализируйте результаты сессии. В разных ячейках используйте разные значения аргумента `include_dominated_trials`. Используйте зум для выделения наглядной зоны, если необходимо. Подпишите ваши objectives с помощью аргумента `target_names`."
      ]
    },
    {
      "cell_type": "code",
      "execution_count": 10,
      "id": "2ea26a4e",
      "metadata": {
        "colab": {
          "base_uri": "https://localhost:8080/",
          "height": 542
        },
        "id": "2ea26a4e",
        "outputId": "3bdafbae-d53e-4d2f-a665-31055658286c"
      },
      "outputs": [
        {
          "output_type": "display_data",
          "data": {
            "text/html": [
              "<html>\n",
              "<head><meta charset=\"utf-8\" /></head>\n",
              "<body>\n",
              "    <div>            <script src=\"https://cdnjs.cloudflare.com/ajax/libs/mathjax/2.7.5/MathJax.js?config=TeX-AMS-MML_SVG\"></script><script type=\"text/javascript\">if (window.MathJax) {MathJax.Hub.Config({SVG: {font: \"STIX-Web\"}});}</script>                <script type=\"text/javascript\">window.PlotlyConfig = {MathJaxConfig: 'local'};</script>\n",
              "        <script src=\"https://cdn.plot.ly/plotly-2.8.3.min.js\"></script>                <div id=\"910268b4-fda5-412a-ade9-1e15ece43768\" class=\"plotly-graph-div\" style=\"height:525px; width:100%;\"></div>            <script type=\"text/javascript\">                                    window.PLOTLYENV=window.PLOTLYENV || {};                                    if (document.getElementById(\"910268b4-fda5-412a-ade9-1e15ece43768\")) {                    Plotly.newPlot(                        \"910268b4-fda5-412a-ade9-1e15ece43768\",                        [{\"hovertemplate\":\"%{text}<extra>Trial</extra>\",\"marker\":{\"color\":[0,2,3,4,5,6,7,8,9,10,11,12,13,14,15,16,18,19,20,21,22,23,24,25,26,27,28,29],\"colorbar\":{\"title\":{\"text\":\"Trial\"}},\"colorscale\":[[0.0,\"rgb(247,251,255)\"],[0.125,\"rgb(222,235,247)\"],[0.25,\"rgb(198,219,239)\"],[0.375,\"rgb(158,202,225)\"],[0.5,\"rgb(107,174,214)\"],[0.625,\"rgb(66,146,198)\"],[0.75,\"rgb(33,113,181)\"],[0.875,\"rgb(8,81,156)\"],[1.0,\"rgb(8,48,107)\"]],\"line\":{\"color\":\"Grey\",\"width\":0.5}},\"mode\":\"markers\",\"showlegend\":false,\"text\":[\"{<br>  \\\"number\\\": 0,<br>  \\\"values\\\": [<br>    0.28861414217694703,<br>    0.5<br>  ],<br>  \\\"params\\\": {<br>    \\\"alpha\\\": 1.6,<br>    \\\"beta\\\": 2.7<br>  }<br>}\",\"{<br>  \\\"number\\\": 2,<br>  \\\"values\\\": [<br>    56.84202767900421,<br>    0.5<br>  ],<br>  \\\"params\\\": {<br>    \\\"alpha\\\": 2.7,<br>    \\\"beta\\\": 1.7000000000000002<br>  }<br>}\",\"{<br>  \\\"number\\\": 3,<br>  \\\"values\\\": [<br>    0.54758663258277,<br>    0.5<br>  ],<br>  \\\"params\\\": {<br>    \\\"alpha\\\": 2.0,<br>    \\\"beta\\\": 4.6<br>  }<br>}\",\"{<br>  \\\"number\\\": 4,<br>  \\\"values\\\": [<br>    0.28637982502398945,<br>    0.5<br>  ],<br>  \\\"params\\\": {<br>    \\\"alpha\\\": 1.9,<br>    \\\"beta\\\": 2.8<br>  }<br>}\",\"{<br>  \\\"number\\\": 5,<br>  \\\"values\\\": [<br>    60.52603409070377,<br>    0.5<br>  ],<br>  \\\"params\\\": {<br>    \\\"alpha\\\": 2.9000000000000004,<br>    \\\"beta\\\": 1.9<br>  }<br>}\",\"{<br>  \\\"number\\\": 6,<br>  \\\"values\\\": [<br>    48.527323398116025,<br>    0.5<br>  ],<br>  \\\"params\\\": {<br>    \\\"alpha\\\": 2.5,<br>    \\\"beta\\\": 1.7000000000000002<br>  }<br>}\",\"{<br>  \\\"number\\\": 7,<br>  \\\"values\\\": [<br>    0.28938602404408775,<br>    0.5<br>  ],<br>  \\\"params\\\": {<br>    \\\"alpha\\\": 1.2,<br>    \\\"beta\\\": 4.800000000000001<br>  }<br>}\",\"{<br>  \\\"number\\\": 8,<br>  \\\"values\\\": [<br>    4.2918494826062924e+127,<br>    0.5<br>  ],<br>  \\\"params\\\": {<br>    \\\"alpha\\\": 3.9000000000000004,<br>    \\\"beta\\\": 3.9000000000000004<br>  }<br>}\",\"{<br>  \\\"number\\\": 9,<br>  \\\"values\\\": [<br>    129.004285538312,<br>    0.5<br>  ],<br>  \\\"params\\\": {<br>    \\\"alpha\\\": 4.5,<br>    \\\"beta\\\": 1.0<br>  }<br>}\",\"{<br>  \\\"number\\\": 10,<br>  \\\"values\\\": [<br>    3.278932185244056e+36,<br>    0.5<br>  ],<br>  \\\"params\\\": {<br>    \\\"alpha\\\": 3.3000000000000003,<br>    \\\"beta\\\": 3.5<br>  }<br>}\",\"{<br>  \\\"number\\\": 11,<br>  \\\"values\\\": [<br>    83.56999889383601,<br>    0.5<br>  ],<br>  \\\"params\\\": {<br>    \\\"alpha\\\": 3.7,<br>    \\\"beta\\\": 2.5<br>  }<br>}\",\"{<br>  \\\"number\\\": 12,<br>  \\\"values\\\": [<br>    8.573822045134755e+23,<br>    0.5<br>  ],<br>  \\\"params\\\": {<br>    \\\"alpha\\\": 4.800000000000001,<br>    \\\"beta\\\": 3.0<br>  }<br>}\",\"{<br>  \\\"number\\\": 13,<br>  \\\"values\\\": [<br>    5.790108463663637e+157,<br>    0.5<br>  ],<br>  \\\"params\\\": {<br>    \\\"alpha\\\": 4.300000000000001,<br>    \\\"beta\\\": 3.9000000000000004<br>  }<br>}\",\"{<br>  \\\"number\\\": 14,<br>  \\\"values\\\": [<br>    50.12825218542859,<br>    0.5<br>  ],<br>  \\\"params\\\": {<br>    \\\"alpha\\\": 3.0,<br>    \\\"beta\\\": 1.3<br>  }<br>}\",\"{<br>  \\\"number\\\": 15,<br>  \\\"values\\\": [<br>    86.50094671674884,<br>    0.5<br>  ],<br>  \\\"params\\\": {<br>    \\\"alpha\\\": 3.9000000000000004,<br>    \\\"beta\\\": 2.2<br>  }<br>}\",\"{<br>  \\\"number\\\": 16,<br>  \\\"values\\\": [<br>    106.15561021958403,<br>    0.5<br>  ],<br>  \\\"params\\\": {<br>    \\\"alpha\\\": 4.7,<br>    \\\"beta\\\": 2.4000000000000004<br>  }<br>}\",\"{<br>  \\\"number\\\": 18,<br>  \\\"values\\\": [<br>    0.3216486099013947,<br>    0.5<br>  ],<br>  \\\"params\\\": {<br>    \\\"alpha\\\": 1.8,<br>    \\\"beta\\\": 3.4000000000000004<br>  }<br>}\",\"{<br>  \\\"number\\\": 19,<br>  \\\"values\\\": [<br>    63.55003172722995,<br>    0.5<br>  ],<br>  \\\"params\\\": {<br>    \\\"alpha\\\": 2.8,<br>    \\\"beta\\\": 3.6<br>  }<br>}\",\"{<br>  \\\"number\\\": 20,<br>  \\\"values\\\": [<br>    75.45085321951171,<br>    0.5<br>  ],<br>  \\\"params\\\": {<br>    \\\"alpha\\\": 3.7,<br>    \\\"beta\\\": 1.5<br>  }<br>}\",\"{<br>  \\\"number\\\": 21,<br>  \\\"values\\\": [<br>    0.2864566791673311,<br>    0.5<br>  ],<br>  \\\"params\\\": {<br>    \\\"alpha\\\": 2.2,<br>    \\\"beta\\\": 1.2<br>  }<br>}\",\"{<br>  \\\"number\\\": 22,<br>  \\\"values\\\": [<br>    0.4493521222946349,<br>    0.5<br>  ],<br>  \\\"params\\\": {<br>    \\\"alpha\\\": 1.8,<br>    \\\"beta\\\": 4.2<br>  }<br>}\",\"{<br>  \\\"number\\\": 23,<br>  \\\"values\\\": [<br>    0.2861431641906172,<br>    0.5<br>  ],<br>  \\\"params\\\": {<br>    \\\"alpha\\\": 1.0,<br>    \\\"beta\\\": 2.6<br>  }<br>}\",\"{<br>  \\\"number\\\": 24,<br>  \\\"values\\\": [<br>    0.30744729493828077,<br>    0.5<br>  ],<br>  \\\"params\\\": {<br>    \\\"alpha\\\": 1.6,<br>    \\\"beta\\\": 3.7<br>  }<br>}\",\"{<br>  \\\"number\\\": 25,<br>  \\\"values\\\": [<br>    96.2985169526806,<br>    0.5<br>  ],<br>  \\\"params\\\": {<br>    \\\"alpha\\\": 4.2,<br>    \\\"beta\\\": 1.5<br>  }<br>}\",\"{<br>  \\\"number\\\": 26,<br>  \\\"values\\\": [<br>    70.54527941024865,<br>    0.5<br>  ],<br>  \\\"params\\\": {<br>    \\\"alpha\\\": 3.3000000000000003,<br>    \\\"beta\\\": 2.0<br>  }<br>}\",\"{<br>  \\\"number\\\": 27,<br>  \\\"values\\\": [<br>    0.28607942474333453,<br>    0.5<br>  ],<br>  \\\"params\\\": {<br>    \\\"alpha\\\": 2.2,<br>    \\\"beta\\\": 2.0<br>  }<br>}\",\"{<br>  \\\"number\\\": 28,<br>  \\\"values\\\": [<br>    79.9062206053863,<br>    0.5<br>  ],<br>  \\\"params\\\": {<br>    \\\"alpha\\\": 3.5,<br>    \\\"beta\\\": 2.7<br>  }<br>}\",\"{<br>  \\\"number\\\": 29,<br>  \\\"values\\\": [<br>    83.61064702273706,<br>    0.5<br>  ],<br>  \\\"params\\\": {<br>    \\\"alpha\\\": 3.7,<br>    \\\"beta\\\": 2.4000000000000004<br>  }<br>}\"],\"x\":[0.28861414217694703,56.84202767900421,0.54758663258277,0.28637982502398945,60.52603409070377,48.527323398116025,0.28938602404408775,4.2918494826062924e+127,129.004285538312,3.278932185244056e+36,83.56999889383601,8.573822045134755e+23,5.790108463663637e+157,50.12825218542859,86.50094671674884,106.15561021958403,0.3216486099013947,63.55003172722995,75.45085321951171,0.2864566791673311,0.4493521222946349,0.2861431641906172,0.30744729493828077,96.2985169526806,70.54527941024865,0.28607942474333453,79.9062206053863,83.61064702273706],\"y\":[0.5,0.5,0.5,0.5,0.5,0.5,0.5,0.5,0.5,0.5,0.5,0.5,0.5,0.5,0.5,0.5,0.5,0.5,0.5,0.5,0.5,0.5,0.5,0.5,0.5,0.5,0.5,0.5],\"type\":\"scatter\"},{\"hovertemplate\":\"%{text}<extra>Best Trial</extra>\",\"marker\":{\"color\":[1],\"colorbar\":{\"title\":{\"text\":\"Best Trial\"},\"x\":1.1,\"xpad\":40},\"colorscale\":[[0.0,\"rgb(255,245,240)\"],[0.125,\"rgb(254,224,210)\"],[0.25,\"rgb(252,187,161)\"],[0.375,\"rgb(252,146,114)\"],[0.5,\"rgb(251,106,74)\"],[0.625,\"rgb(239,59,44)\"],[0.75,\"rgb(203,24,29)\"],[0.875,\"rgb(165,15,21)\"],[1.0,\"rgb(103,0,13)\"]],\"line\":{\"color\":\"Grey\",\"width\":0.5}},\"mode\":\"markers\",\"showlegend\":false,\"text\":[\"{<br>  \\\"number\\\": 1,<br>  \\\"values\\\": [<br>    0.2859952096106637,<br>    0.5<br>  ],<br>  \\\"params\\\": {<br>    \\\"alpha\\\": 1.0,<br>    \\\"beta\\\": 2.9000000000000004<br>  }<br>}\"],\"x\":[0.2859952096106637],\"y\":[0.5],\"type\":\"scatter\"}],                        {\"title\":{\"text\":\"Pareto-front Plot\"},\"xaxis\":{\"title\":{\"text\":\"Objective 0\"}},\"yaxis\":{\"title\":{\"text\":\"Objective 1\"}},\"template\":{\"data\":{\"bar\":[{\"error_x\":{\"color\":\"#2a3f5f\"},\"error_y\":{\"color\":\"#2a3f5f\"},\"marker\":{\"line\":{\"color\":\"#E5ECF6\",\"width\":0.5},\"pattern\":{\"fillmode\":\"overlay\",\"size\":10,\"solidity\":0.2}},\"type\":\"bar\"}],\"barpolar\":[{\"marker\":{\"line\":{\"color\":\"#E5ECF6\",\"width\":0.5},\"pattern\":{\"fillmode\":\"overlay\",\"size\":10,\"solidity\":0.2}},\"type\":\"barpolar\"}],\"carpet\":[{\"aaxis\":{\"endlinecolor\":\"#2a3f5f\",\"gridcolor\":\"white\",\"linecolor\":\"white\",\"minorgridcolor\":\"white\",\"startlinecolor\":\"#2a3f5f\"},\"baxis\":{\"endlinecolor\":\"#2a3f5f\",\"gridcolor\":\"white\",\"linecolor\":\"white\",\"minorgridcolor\":\"white\",\"startlinecolor\":\"#2a3f5f\"},\"type\":\"carpet\"}],\"choropleth\":[{\"colorbar\":{\"outlinewidth\":0,\"ticks\":\"\"},\"type\":\"choropleth\"}],\"contour\":[{\"colorbar\":{\"outlinewidth\":0,\"ticks\":\"\"},\"colorscale\":[[0.0,\"#0d0887\"],[0.1111111111111111,\"#46039f\"],[0.2222222222222222,\"#7201a8\"],[0.3333333333333333,\"#9c179e\"],[0.4444444444444444,\"#bd3786\"],[0.5555555555555556,\"#d8576b\"],[0.6666666666666666,\"#ed7953\"],[0.7777777777777778,\"#fb9f3a\"],[0.8888888888888888,\"#fdca26\"],[1.0,\"#f0f921\"]],\"type\":\"contour\"}],\"contourcarpet\":[{\"colorbar\":{\"outlinewidth\":0,\"ticks\":\"\"},\"type\":\"contourcarpet\"}],\"heatmap\":[{\"colorbar\":{\"outlinewidth\":0,\"ticks\":\"\"},\"colorscale\":[[0.0,\"#0d0887\"],[0.1111111111111111,\"#46039f\"],[0.2222222222222222,\"#7201a8\"],[0.3333333333333333,\"#9c179e\"],[0.4444444444444444,\"#bd3786\"],[0.5555555555555556,\"#d8576b\"],[0.6666666666666666,\"#ed7953\"],[0.7777777777777778,\"#fb9f3a\"],[0.8888888888888888,\"#fdca26\"],[1.0,\"#f0f921\"]],\"type\":\"heatmap\"}],\"heatmapgl\":[{\"colorbar\":{\"outlinewidth\":0,\"ticks\":\"\"},\"colorscale\":[[0.0,\"#0d0887\"],[0.1111111111111111,\"#46039f\"],[0.2222222222222222,\"#7201a8\"],[0.3333333333333333,\"#9c179e\"],[0.4444444444444444,\"#bd3786\"],[0.5555555555555556,\"#d8576b\"],[0.6666666666666666,\"#ed7953\"],[0.7777777777777778,\"#fb9f3a\"],[0.8888888888888888,\"#fdca26\"],[1.0,\"#f0f921\"]],\"type\":\"heatmapgl\"}],\"histogram\":[{\"marker\":{\"pattern\":{\"fillmode\":\"overlay\",\"size\":10,\"solidity\":0.2}},\"type\":\"histogram\"}],\"histogram2d\":[{\"colorbar\":{\"outlinewidth\":0,\"ticks\":\"\"},\"colorscale\":[[0.0,\"#0d0887\"],[0.1111111111111111,\"#46039f\"],[0.2222222222222222,\"#7201a8\"],[0.3333333333333333,\"#9c179e\"],[0.4444444444444444,\"#bd3786\"],[0.5555555555555556,\"#d8576b\"],[0.6666666666666666,\"#ed7953\"],[0.7777777777777778,\"#fb9f3a\"],[0.8888888888888888,\"#fdca26\"],[1.0,\"#f0f921\"]],\"type\":\"histogram2d\"}],\"histogram2dcontour\":[{\"colorbar\":{\"outlinewidth\":0,\"ticks\":\"\"},\"colorscale\":[[0.0,\"#0d0887\"],[0.1111111111111111,\"#46039f\"],[0.2222222222222222,\"#7201a8\"],[0.3333333333333333,\"#9c179e\"],[0.4444444444444444,\"#bd3786\"],[0.5555555555555556,\"#d8576b\"],[0.6666666666666666,\"#ed7953\"],[0.7777777777777778,\"#fb9f3a\"],[0.8888888888888888,\"#fdca26\"],[1.0,\"#f0f921\"]],\"type\":\"histogram2dcontour\"}],\"mesh3d\":[{\"colorbar\":{\"outlinewidth\":0,\"ticks\":\"\"},\"type\":\"mesh3d\"}],\"parcoords\":[{\"line\":{\"colorbar\":{\"outlinewidth\":0,\"ticks\":\"\"}},\"type\":\"parcoords\"}],\"pie\":[{\"automargin\":true,\"type\":\"pie\"}],\"scatter\":[{\"marker\":{\"colorbar\":{\"outlinewidth\":0,\"ticks\":\"\"}},\"type\":\"scatter\"}],\"scatter3d\":[{\"line\":{\"colorbar\":{\"outlinewidth\":0,\"ticks\":\"\"}},\"marker\":{\"colorbar\":{\"outlinewidth\":0,\"ticks\":\"\"}},\"type\":\"scatter3d\"}],\"scattercarpet\":[{\"marker\":{\"colorbar\":{\"outlinewidth\":0,\"ticks\":\"\"}},\"type\":\"scattercarpet\"}],\"scattergeo\":[{\"marker\":{\"colorbar\":{\"outlinewidth\":0,\"ticks\":\"\"}},\"type\":\"scattergeo\"}],\"scattergl\":[{\"marker\":{\"colorbar\":{\"outlinewidth\":0,\"ticks\":\"\"}},\"type\":\"scattergl\"}],\"scattermapbox\":[{\"marker\":{\"colorbar\":{\"outlinewidth\":0,\"ticks\":\"\"}},\"type\":\"scattermapbox\"}],\"scatterpolar\":[{\"marker\":{\"colorbar\":{\"outlinewidth\":0,\"ticks\":\"\"}},\"type\":\"scatterpolar\"}],\"scatterpolargl\":[{\"marker\":{\"colorbar\":{\"outlinewidth\":0,\"ticks\":\"\"}},\"type\":\"scatterpolargl\"}],\"scatterternary\":[{\"marker\":{\"colorbar\":{\"outlinewidth\":0,\"ticks\":\"\"}},\"type\":\"scatterternary\"}],\"surface\":[{\"colorbar\":{\"outlinewidth\":0,\"ticks\":\"\"},\"colorscale\":[[0.0,\"#0d0887\"],[0.1111111111111111,\"#46039f\"],[0.2222222222222222,\"#7201a8\"],[0.3333333333333333,\"#9c179e\"],[0.4444444444444444,\"#bd3786\"],[0.5555555555555556,\"#d8576b\"],[0.6666666666666666,\"#ed7953\"],[0.7777777777777778,\"#fb9f3a\"],[0.8888888888888888,\"#fdca26\"],[1.0,\"#f0f921\"]],\"type\":\"surface\"}],\"table\":[{\"cells\":{\"fill\":{\"color\":\"#EBF0F8\"},\"line\":{\"color\":\"white\"}},\"header\":{\"fill\":{\"color\":\"#C8D4E3\"},\"line\":{\"color\":\"white\"}},\"type\":\"table\"}]},\"layout\":{\"annotationdefaults\":{\"arrowcolor\":\"#2a3f5f\",\"arrowhead\":0,\"arrowwidth\":1},\"autotypenumbers\":\"strict\",\"coloraxis\":{\"colorbar\":{\"outlinewidth\":0,\"ticks\":\"\"}},\"colorscale\":{\"diverging\":[[0,\"#8e0152\"],[0.1,\"#c51b7d\"],[0.2,\"#de77ae\"],[0.3,\"#f1b6da\"],[0.4,\"#fde0ef\"],[0.5,\"#f7f7f7\"],[0.6,\"#e6f5d0\"],[0.7,\"#b8e186\"],[0.8,\"#7fbc41\"],[0.9,\"#4d9221\"],[1,\"#276419\"]],\"sequential\":[[0.0,\"#0d0887\"],[0.1111111111111111,\"#46039f\"],[0.2222222222222222,\"#7201a8\"],[0.3333333333333333,\"#9c179e\"],[0.4444444444444444,\"#bd3786\"],[0.5555555555555556,\"#d8576b\"],[0.6666666666666666,\"#ed7953\"],[0.7777777777777778,\"#fb9f3a\"],[0.8888888888888888,\"#fdca26\"],[1.0,\"#f0f921\"]],\"sequentialminus\":[[0.0,\"#0d0887\"],[0.1111111111111111,\"#46039f\"],[0.2222222222222222,\"#7201a8\"],[0.3333333333333333,\"#9c179e\"],[0.4444444444444444,\"#bd3786\"],[0.5555555555555556,\"#d8576b\"],[0.6666666666666666,\"#ed7953\"],[0.7777777777777778,\"#fb9f3a\"],[0.8888888888888888,\"#fdca26\"],[1.0,\"#f0f921\"]]},\"colorway\":[\"#636efa\",\"#EF553B\",\"#00cc96\",\"#ab63fa\",\"#FFA15A\",\"#19d3f3\",\"#FF6692\",\"#B6E880\",\"#FF97FF\",\"#FECB52\"],\"font\":{\"color\":\"#2a3f5f\"},\"geo\":{\"bgcolor\":\"white\",\"lakecolor\":\"white\",\"landcolor\":\"#E5ECF6\",\"showlakes\":true,\"showland\":true,\"subunitcolor\":\"white\"},\"hoverlabel\":{\"align\":\"left\"},\"hovermode\":\"closest\",\"mapbox\":{\"style\":\"light\"},\"paper_bgcolor\":\"white\",\"plot_bgcolor\":\"#E5ECF6\",\"polar\":{\"angularaxis\":{\"gridcolor\":\"white\",\"linecolor\":\"white\",\"ticks\":\"\"},\"bgcolor\":\"#E5ECF6\",\"radialaxis\":{\"gridcolor\":\"white\",\"linecolor\":\"white\",\"ticks\":\"\"}},\"scene\":{\"xaxis\":{\"backgroundcolor\":\"#E5ECF6\",\"gridcolor\":\"white\",\"gridwidth\":2,\"linecolor\":\"white\",\"showbackground\":true,\"ticks\":\"\",\"zerolinecolor\":\"white\"},\"yaxis\":{\"backgroundcolor\":\"#E5ECF6\",\"gridcolor\":\"white\",\"gridwidth\":2,\"linecolor\":\"white\",\"showbackground\":true,\"ticks\":\"\",\"zerolinecolor\":\"white\"},\"zaxis\":{\"backgroundcolor\":\"#E5ECF6\",\"gridcolor\":\"white\",\"gridwidth\":2,\"linecolor\":\"white\",\"showbackground\":true,\"ticks\":\"\",\"zerolinecolor\":\"white\"}},\"shapedefaults\":{\"line\":{\"color\":\"#2a3f5f\"}},\"ternary\":{\"aaxis\":{\"gridcolor\":\"white\",\"linecolor\":\"white\",\"ticks\":\"\"},\"baxis\":{\"gridcolor\":\"white\",\"linecolor\":\"white\",\"ticks\":\"\"},\"bgcolor\":\"#E5ECF6\",\"caxis\":{\"gridcolor\":\"white\",\"linecolor\":\"white\",\"ticks\":\"\"}},\"title\":{\"x\":0.05},\"xaxis\":{\"automargin\":true,\"gridcolor\":\"white\",\"linecolor\":\"white\",\"ticks\":\"\",\"title\":{\"standoff\":15},\"zerolinecolor\":\"white\",\"zerolinewidth\":2},\"yaxis\":{\"automargin\":true,\"gridcolor\":\"white\",\"linecolor\":\"white\",\"ticks\":\"\",\"title\":{\"standoff\":15},\"zerolinecolor\":\"white\",\"zerolinewidth\":2}}}},                        {\"responsive\": true}                    ).then(function(){\n",
              "                            \n",
              "var gd = document.getElementById('910268b4-fda5-412a-ade9-1e15ece43768');\n",
              "var x = new MutationObserver(function (mutations, observer) {{\n",
              "        var display = window.getComputedStyle(gd).display;\n",
              "        if (!display || display === 'none') {{\n",
              "            console.log([gd, 'removed!']);\n",
              "            Plotly.purge(gd);\n",
              "            observer.disconnect();\n",
              "        }}\n",
              "}});\n",
              "\n",
              "// Listen for the removal of the full notebook cells\n",
              "var notebookContainer = gd.closest('#notebook-container');\n",
              "if (notebookContainer) {{\n",
              "    x.observe(notebookContainer, {childList: true});\n",
              "}}\n",
              "\n",
              "// Listen for the clearing of the current output cell\n",
              "var outputEl = gd.closest('.output');\n",
              "if (outputEl) {{\n",
              "    x.observe(outputEl, {childList: true});\n",
              "}}\n",
              "\n",
              "                        })                };                            </script>        </div>\n",
              "</body>\n",
              "</html>"
            ]
          },
          "metadata": {}
        }
      ],
      "source": [
        "# your code here\n",
        "\n",
        "optuna.visualization.plot_pareto_front(study, include_dominated_trials = True)"
      ]
    },
    {
      "cell_type": "code",
      "execution_count": 11,
      "id": "44ad0a49",
      "metadata": {
        "colab": {
          "base_uri": "https://localhost:8080/",
          "height": 542
        },
        "id": "44ad0a49",
        "outputId": "f78c889d-ded9-478e-ba4d-396321f239e4"
      },
      "outputs": [
        {
          "output_type": "display_data",
          "data": {
            "text/html": [
              "<html>\n",
              "<head><meta charset=\"utf-8\" /></head>\n",
              "<body>\n",
              "    <div>            <script src=\"https://cdnjs.cloudflare.com/ajax/libs/mathjax/2.7.5/MathJax.js?config=TeX-AMS-MML_SVG\"></script><script type=\"text/javascript\">if (window.MathJax) {MathJax.Hub.Config({SVG: {font: \"STIX-Web\"}});}</script>                <script type=\"text/javascript\">window.PlotlyConfig = {MathJaxConfig: 'local'};</script>\n",
              "        <script src=\"https://cdn.plot.ly/plotly-2.8.3.min.js\"></script>                <div id=\"04b8ff9b-4ba1-4f92-89f7-fbae2e9b21a9\" class=\"plotly-graph-div\" style=\"height:525px; width:100%;\"></div>            <script type=\"text/javascript\">                                    window.PLOTLYENV=window.PLOTLYENV || {};                                    if (document.getElementById(\"04b8ff9b-4ba1-4f92-89f7-fbae2e9b21a9\")) {                    Plotly.newPlot(                        \"04b8ff9b-4ba1-4f92-89f7-fbae2e9b21a9\",                        [{\"hovertemplate\":\"%{text}<extra>Trial</extra>\",\"marker\":{\"color\":[],\"colorbar\":{\"title\":{\"text\":\"Trial\"}},\"colorscale\":[[0.0,\"rgb(247,251,255)\"],[0.125,\"rgb(222,235,247)\"],[0.25,\"rgb(198,219,239)\"],[0.375,\"rgb(158,202,225)\"],[0.5,\"rgb(107,174,214)\"],[0.625,\"rgb(66,146,198)\"],[0.75,\"rgb(33,113,181)\"],[0.875,\"rgb(8,81,156)\"],[1.0,\"rgb(8,48,107)\"]],\"line\":{\"color\":\"Grey\",\"width\":0.5}},\"mode\":\"markers\",\"showlegend\":false,\"text\":[],\"x\":[],\"y\":[],\"type\":\"scatter\"},{\"hovertemplate\":\"%{text}<extra>Best Trial</extra>\",\"marker\":{\"color\":[1],\"colorbar\":{\"title\":{\"text\":\"Best Trial\"},\"x\":1,\"xpad\":40},\"colorscale\":[[0.0,\"rgb(255,245,240)\"],[0.125,\"rgb(254,224,210)\"],[0.25,\"rgb(252,187,161)\"],[0.375,\"rgb(252,146,114)\"],[0.5,\"rgb(251,106,74)\"],[0.625,\"rgb(239,59,44)\"],[0.75,\"rgb(203,24,29)\"],[0.875,\"rgb(165,15,21)\"],[1.0,\"rgb(103,0,13)\"]],\"line\":{\"color\":\"Grey\",\"width\":0.5}},\"mode\":\"markers\",\"showlegend\":false,\"text\":[\"{<br>  \\\"number\\\": 1,<br>  \\\"values\\\": [<br>    0.2859952096106637,<br>    0.5<br>  ],<br>  \\\"params\\\": {<br>    \\\"alpha\\\": 1.0,<br>    \\\"beta\\\": 2.9000000000000004<br>  }<br>}\"],\"x\":[0.2859952096106637],\"y\":[0.5],\"type\":\"scatter\"}],                        {\"title\":{\"text\":\"Pareto-front Plot\"},\"xaxis\":{\"title\":{\"text\":\"Objective 0\"}},\"yaxis\":{\"title\":{\"text\":\"Objective 1\"}},\"template\":{\"data\":{\"bar\":[{\"error_x\":{\"color\":\"#2a3f5f\"},\"error_y\":{\"color\":\"#2a3f5f\"},\"marker\":{\"line\":{\"color\":\"#E5ECF6\",\"width\":0.5},\"pattern\":{\"fillmode\":\"overlay\",\"size\":10,\"solidity\":0.2}},\"type\":\"bar\"}],\"barpolar\":[{\"marker\":{\"line\":{\"color\":\"#E5ECF6\",\"width\":0.5},\"pattern\":{\"fillmode\":\"overlay\",\"size\":10,\"solidity\":0.2}},\"type\":\"barpolar\"}],\"carpet\":[{\"aaxis\":{\"endlinecolor\":\"#2a3f5f\",\"gridcolor\":\"white\",\"linecolor\":\"white\",\"minorgridcolor\":\"white\",\"startlinecolor\":\"#2a3f5f\"},\"baxis\":{\"endlinecolor\":\"#2a3f5f\",\"gridcolor\":\"white\",\"linecolor\":\"white\",\"minorgridcolor\":\"white\",\"startlinecolor\":\"#2a3f5f\"},\"type\":\"carpet\"}],\"choropleth\":[{\"colorbar\":{\"outlinewidth\":0,\"ticks\":\"\"},\"type\":\"choropleth\"}],\"contour\":[{\"colorbar\":{\"outlinewidth\":0,\"ticks\":\"\"},\"colorscale\":[[0.0,\"#0d0887\"],[0.1111111111111111,\"#46039f\"],[0.2222222222222222,\"#7201a8\"],[0.3333333333333333,\"#9c179e\"],[0.4444444444444444,\"#bd3786\"],[0.5555555555555556,\"#d8576b\"],[0.6666666666666666,\"#ed7953\"],[0.7777777777777778,\"#fb9f3a\"],[0.8888888888888888,\"#fdca26\"],[1.0,\"#f0f921\"]],\"type\":\"contour\"}],\"contourcarpet\":[{\"colorbar\":{\"outlinewidth\":0,\"ticks\":\"\"},\"type\":\"contourcarpet\"}],\"heatmap\":[{\"colorbar\":{\"outlinewidth\":0,\"ticks\":\"\"},\"colorscale\":[[0.0,\"#0d0887\"],[0.1111111111111111,\"#46039f\"],[0.2222222222222222,\"#7201a8\"],[0.3333333333333333,\"#9c179e\"],[0.4444444444444444,\"#bd3786\"],[0.5555555555555556,\"#d8576b\"],[0.6666666666666666,\"#ed7953\"],[0.7777777777777778,\"#fb9f3a\"],[0.8888888888888888,\"#fdca26\"],[1.0,\"#f0f921\"]],\"type\":\"heatmap\"}],\"heatmapgl\":[{\"colorbar\":{\"outlinewidth\":0,\"ticks\":\"\"},\"colorscale\":[[0.0,\"#0d0887\"],[0.1111111111111111,\"#46039f\"],[0.2222222222222222,\"#7201a8\"],[0.3333333333333333,\"#9c179e\"],[0.4444444444444444,\"#bd3786\"],[0.5555555555555556,\"#d8576b\"],[0.6666666666666666,\"#ed7953\"],[0.7777777777777778,\"#fb9f3a\"],[0.8888888888888888,\"#fdca26\"],[1.0,\"#f0f921\"]],\"type\":\"heatmapgl\"}],\"histogram\":[{\"marker\":{\"pattern\":{\"fillmode\":\"overlay\",\"size\":10,\"solidity\":0.2}},\"type\":\"histogram\"}],\"histogram2d\":[{\"colorbar\":{\"outlinewidth\":0,\"ticks\":\"\"},\"colorscale\":[[0.0,\"#0d0887\"],[0.1111111111111111,\"#46039f\"],[0.2222222222222222,\"#7201a8\"],[0.3333333333333333,\"#9c179e\"],[0.4444444444444444,\"#bd3786\"],[0.5555555555555556,\"#d8576b\"],[0.6666666666666666,\"#ed7953\"],[0.7777777777777778,\"#fb9f3a\"],[0.8888888888888888,\"#fdca26\"],[1.0,\"#f0f921\"]],\"type\":\"histogram2d\"}],\"histogram2dcontour\":[{\"colorbar\":{\"outlinewidth\":0,\"ticks\":\"\"},\"colorscale\":[[0.0,\"#0d0887\"],[0.1111111111111111,\"#46039f\"],[0.2222222222222222,\"#7201a8\"],[0.3333333333333333,\"#9c179e\"],[0.4444444444444444,\"#bd3786\"],[0.5555555555555556,\"#d8576b\"],[0.6666666666666666,\"#ed7953\"],[0.7777777777777778,\"#fb9f3a\"],[0.8888888888888888,\"#fdca26\"],[1.0,\"#f0f921\"]],\"type\":\"histogram2dcontour\"}],\"mesh3d\":[{\"colorbar\":{\"outlinewidth\":0,\"ticks\":\"\"},\"type\":\"mesh3d\"}],\"parcoords\":[{\"line\":{\"colorbar\":{\"outlinewidth\":0,\"ticks\":\"\"}},\"type\":\"parcoords\"}],\"pie\":[{\"automargin\":true,\"type\":\"pie\"}],\"scatter\":[{\"marker\":{\"colorbar\":{\"outlinewidth\":0,\"ticks\":\"\"}},\"type\":\"scatter\"}],\"scatter3d\":[{\"line\":{\"colorbar\":{\"outlinewidth\":0,\"ticks\":\"\"}},\"marker\":{\"colorbar\":{\"outlinewidth\":0,\"ticks\":\"\"}},\"type\":\"scatter3d\"}],\"scattercarpet\":[{\"marker\":{\"colorbar\":{\"outlinewidth\":0,\"ticks\":\"\"}},\"type\":\"scattercarpet\"}],\"scattergeo\":[{\"marker\":{\"colorbar\":{\"outlinewidth\":0,\"ticks\":\"\"}},\"type\":\"scattergeo\"}],\"scattergl\":[{\"marker\":{\"colorbar\":{\"outlinewidth\":0,\"ticks\":\"\"}},\"type\":\"scattergl\"}],\"scattermapbox\":[{\"marker\":{\"colorbar\":{\"outlinewidth\":0,\"ticks\":\"\"}},\"type\":\"scattermapbox\"}],\"scatterpolar\":[{\"marker\":{\"colorbar\":{\"outlinewidth\":0,\"ticks\":\"\"}},\"type\":\"scatterpolar\"}],\"scatterpolargl\":[{\"marker\":{\"colorbar\":{\"outlinewidth\":0,\"ticks\":\"\"}},\"type\":\"scatterpolargl\"}],\"scatterternary\":[{\"marker\":{\"colorbar\":{\"outlinewidth\":0,\"ticks\":\"\"}},\"type\":\"scatterternary\"}],\"surface\":[{\"colorbar\":{\"outlinewidth\":0,\"ticks\":\"\"},\"colorscale\":[[0.0,\"#0d0887\"],[0.1111111111111111,\"#46039f\"],[0.2222222222222222,\"#7201a8\"],[0.3333333333333333,\"#9c179e\"],[0.4444444444444444,\"#bd3786\"],[0.5555555555555556,\"#d8576b\"],[0.6666666666666666,\"#ed7953\"],[0.7777777777777778,\"#fb9f3a\"],[0.8888888888888888,\"#fdca26\"],[1.0,\"#f0f921\"]],\"type\":\"surface\"}],\"table\":[{\"cells\":{\"fill\":{\"color\":\"#EBF0F8\"},\"line\":{\"color\":\"white\"}},\"header\":{\"fill\":{\"color\":\"#C8D4E3\"},\"line\":{\"color\":\"white\"}},\"type\":\"table\"}]},\"layout\":{\"annotationdefaults\":{\"arrowcolor\":\"#2a3f5f\",\"arrowhead\":0,\"arrowwidth\":1},\"autotypenumbers\":\"strict\",\"coloraxis\":{\"colorbar\":{\"outlinewidth\":0,\"ticks\":\"\"}},\"colorscale\":{\"diverging\":[[0,\"#8e0152\"],[0.1,\"#c51b7d\"],[0.2,\"#de77ae\"],[0.3,\"#f1b6da\"],[0.4,\"#fde0ef\"],[0.5,\"#f7f7f7\"],[0.6,\"#e6f5d0\"],[0.7,\"#b8e186\"],[0.8,\"#7fbc41\"],[0.9,\"#4d9221\"],[1,\"#276419\"]],\"sequential\":[[0.0,\"#0d0887\"],[0.1111111111111111,\"#46039f\"],[0.2222222222222222,\"#7201a8\"],[0.3333333333333333,\"#9c179e\"],[0.4444444444444444,\"#bd3786\"],[0.5555555555555556,\"#d8576b\"],[0.6666666666666666,\"#ed7953\"],[0.7777777777777778,\"#fb9f3a\"],[0.8888888888888888,\"#fdca26\"],[1.0,\"#f0f921\"]],\"sequentialminus\":[[0.0,\"#0d0887\"],[0.1111111111111111,\"#46039f\"],[0.2222222222222222,\"#7201a8\"],[0.3333333333333333,\"#9c179e\"],[0.4444444444444444,\"#bd3786\"],[0.5555555555555556,\"#d8576b\"],[0.6666666666666666,\"#ed7953\"],[0.7777777777777778,\"#fb9f3a\"],[0.8888888888888888,\"#fdca26\"],[1.0,\"#f0f921\"]]},\"colorway\":[\"#636efa\",\"#EF553B\",\"#00cc96\",\"#ab63fa\",\"#FFA15A\",\"#19d3f3\",\"#FF6692\",\"#B6E880\",\"#FF97FF\",\"#FECB52\"],\"font\":{\"color\":\"#2a3f5f\"},\"geo\":{\"bgcolor\":\"white\",\"lakecolor\":\"white\",\"landcolor\":\"#E5ECF6\",\"showlakes\":true,\"showland\":true,\"subunitcolor\":\"white\"},\"hoverlabel\":{\"align\":\"left\"},\"hovermode\":\"closest\",\"mapbox\":{\"style\":\"light\"},\"paper_bgcolor\":\"white\",\"plot_bgcolor\":\"#E5ECF6\",\"polar\":{\"angularaxis\":{\"gridcolor\":\"white\",\"linecolor\":\"white\",\"ticks\":\"\"},\"bgcolor\":\"#E5ECF6\",\"radialaxis\":{\"gridcolor\":\"white\",\"linecolor\":\"white\",\"ticks\":\"\"}},\"scene\":{\"xaxis\":{\"backgroundcolor\":\"#E5ECF6\",\"gridcolor\":\"white\",\"gridwidth\":2,\"linecolor\":\"white\",\"showbackground\":true,\"ticks\":\"\",\"zerolinecolor\":\"white\"},\"yaxis\":{\"backgroundcolor\":\"#E5ECF6\",\"gridcolor\":\"white\",\"gridwidth\":2,\"linecolor\":\"white\",\"showbackground\":true,\"ticks\":\"\",\"zerolinecolor\":\"white\"},\"zaxis\":{\"backgroundcolor\":\"#E5ECF6\",\"gridcolor\":\"white\",\"gridwidth\":2,\"linecolor\":\"white\",\"showbackground\":true,\"ticks\":\"\",\"zerolinecolor\":\"white\"}},\"shapedefaults\":{\"line\":{\"color\":\"#2a3f5f\"}},\"ternary\":{\"aaxis\":{\"gridcolor\":\"white\",\"linecolor\":\"white\",\"ticks\":\"\"},\"baxis\":{\"gridcolor\":\"white\",\"linecolor\":\"white\",\"ticks\":\"\"},\"bgcolor\":\"#E5ECF6\",\"caxis\":{\"gridcolor\":\"white\",\"linecolor\":\"white\",\"ticks\":\"\"}},\"title\":{\"x\":0.05},\"xaxis\":{\"automargin\":true,\"gridcolor\":\"white\",\"linecolor\":\"white\",\"ticks\":\"\",\"title\":{\"standoff\":15},\"zerolinecolor\":\"white\",\"zerolinewidth\":2},\"yaxis\":{\"automargin\":true,\"gridcolor\":\"white\",\"linecolor\":\"white\",\"ticks\":\"\",\"title\":{\"standoff\":15},\"zerolinecolor\":\"white\",\"zerolinewidth\":2}}}},                        {\"responsive\": true}                    ).then(function(){\n",
              "                            \n",
              "var gd = document.getElementById('04b8ff9b-4ba1-4f92-89f7-fbae2e9b21a9');\n",
              "var x = new MutationObserver(function (mutations, observer) {{\n",
              "        var display = window.getComputedStyle(gd).display;\n",
              "        if (!display || display === 'none') {{\n",
              "            console.log([gd, 'removed!']);\n",
              "            Plotly.purge(gd);\n",
              "            observer.disconnect();\n",
              "        }}\n",
              "}});\n",
              "\n",
              "// Listen for the removal of the full notebook cells\n",
              "var notebookContainer = gd.closest('#notebook-container');\n",
              "if (notebookContainer) {{\n",
              "    x.observe(notebookContainer, {childList: true});\n",
              "}}\n",
              "\n",
              "// Listen for the clearing of the current output cell\n",
              "var outputEl = gd.closest('.output');\n",
              "if (outputEl) {{\n",
              "    x.observe(outputEl, {childList: true});\n",
              "}}\n",
              "\n",
              "                        })                };                            </script>        </div>\n",
              "</body>\n",
              "</html>"
            ]
          },
          "metadata": {}
        }
      ],
      "source": [
        "# your code here\n",
        "optuna.visualization.plot_pareto_front(study, include_dominated_trials = False)"
      ]
    },
    {
      "cell_type": "markdown",
      "id": "fc6ab81e",
      "metadata": {
        "id": "fc6ab81e"
      },
      "source": [
        "Что вы можете сказать об увиденном?"
      ]
    },
    {
      "cell_type": "code",
      "execution_count": null,
      "id": "f14935ba",
      "metadata": {
        "id": "f14935ba"
      },
      "outputs": [],
      "source": [
        "# оптимизироовать accuracy не очень получилось, но получились примерно похожие результаты оптимизации как на предыдущих. \n",
        "# однако лучший лосс 0.28< не был достигнут "
      ]
    },
    {
      "cell_type": "markdown",
      "id": "8c48c85b",
      "metadata": {
        "id": "8c48c85b"
      },
      "source": [
        "Ура! А теперь..."
      ]
    },
    {
      "cell_type": "markdown",
      "id": "8e78a549",
      "metadata": {
        "id": "8e78a549"
      },
      "source": [
        "## Бонусная часть. Постигая ASHA (7 баллов)"
      ]
    },
    {
      "cell_type": "markdown",
      "id": "055c0821",
      "metadata": {
        "id": "055c0821"
      },
      "source": [
        "В бонусной части забудем датасет и линейные модели! Вам предстоит наглядно убедиться и разобраться в том, как работает `optuna.pruners.SuccessiveHalvingPruner`, он же **ASHA**. Важно понимать, как устроены `optuna.pruners` - правильное их использование заметно сократит время ожидания и может улучшить качество.\n",
        "\n",
        "В вашем распоряжении семинар, документация и исходный код классов в `optuna`.\n",
        "\n",
        "### 0\n",
        "Начнем с простого - будем использовать предложенный простенький `objective`, чтобы убедиться, что все `trials` успешно доходят до конца.\n",
        "\n",
        "Все указанные параметры не изменяйте в дальнейшем, если этого не просят в задании."
      ]
    },
    {
      "cell_type": "code",
      "execution_count": null,
      "id": "cd7d7c86",
      "metadata": {
        "id": "cd7d7c86"
      },
      "outputs": [],
      "source": [
        "def objective_0(trial):\n",
        "    for i in range(31):\n",
        "        trial.report(val=trial.number, step=i)\n",
        "        if trial.should_prune():\n",
        "            raise optuna.TrialPruned()\n",
        "    return 0\n",
        "\n",
        "pruner = optuna.pruners.SuccessiveHalvingPruner(min_resource=2, reduction_factor=2,\n",
        "                                                bootstrap_count=0, min_early_stopping_rate=0)\n",
        "study = optuna.create_study(direction='maximize', pruner=pruner)\n",
        "\n",
        "study.optimize(objective_0, n_trials=16, n_jobs=4)"
      ]
    },
    {
      "cell_type": "markdown",
      "id": "9cadc370",
      "metadata": {
        "id": "9cadc370"
      },
      "source": [
        "Давайте визуализируем наш `study`. Напишите функцию `plot_study_info`, отрисовывающую жизненный путь всех `trials`. Используйте данный ниже шаблон. Под визулизацией будем понимать нечто похожее на картинки с семинара:\n",
        "\n",
        "- ось Х - `step`, ось Y - `trial.number`.\n",
        "\n",
        "- каждый trial - горизонтальная синяя прямая от -1 до `trial.last_step`.\n",
        "\n",
        "- если trial [дошел до конца](https://optuna.readthedocs.io/en/stable/reference/generated/optuna.trial.TrialState.html#optuna.trial.TrialState), на конце прямой поставьте зеленый кружок, если обрезался - красный крестик [`plt.scatter(..., marker=...)`].\n",
        "\n",
        "- синяя вертикальная прямая на отметке `step = 0` - \"день рождения\" trial.\n",
        "\n",
        "- черными вертикальными прямыми расставьте `rungs`. Воспользуйтесь [исходным кодом](https://optuna.readthedocs.io/en/stable/_modules/optuna/pruners/_successive_halving.html#SuccessiveHalvingPruner) `SuccessiveHalvingPruner` для выяснения всех обстоятельств.\n",
        "\n",
        "- зелеными вертикальными линиями отметьте те `steps`, на которых делается `trial.report`. Сделайте так, чтобы эти линии были видны поверх линий, обозначающих `rungs`, если такие случаи будут иметь место.\n",
        "\n",
        "- что еще хотите от себя! Учтите, что trials после сессии оптимизации являются [`FrozenTrials`](https://optuna.readthedocs.io/en/stable/reference/generated/optuna.trial.FrozenTrial.html#optuna.trial.FrozenTrial).\n",
        "\n",
        "Пожалуйста, уделите должное внимание этой функции и отладьте ее. Убедитесь, что все хорошо видно, что все адекватного размера. Вы будете ее часто использовать далее."
      ]
    },
    {
      "cell_type": "code",
      "execution_count": null,
      "id": "ef5427b5",
      "metadata": {
        "id": "ef5427b5"
      },
      "outputs": [],
      "source": [
        "def plot_study_info(study, min_resource, max_resource, gamma, early_stopping=0, *your_args, **your_kwargs):\n",
        "    # your code here\n",
        "    pass"
      ]
    },
    {
      "cell_type": "markdown",
      "id": "773a16b3",
      "metadata": {
        "id": "773a16b3"
      },
      "source": [
        "Визуализируйте первую сессию, используя вашу фукнцию. Что в данном случае такое `max_resource`?"
      ]
    },
    {
      "cell_type": "code",
      "execution_count": null,
      "id": "a824738f",
      "metadata": {
        "id": "a824738f"
      },
      "outputs": [],
      "source": [
        "# your code here"
      ]
    },
    {
      "cell_type": "markdown",
      "id": "c020aac8",
      "metadata": {
        "id": "c020aac8"
      },
      "source": [
        "Почему все trials дошли до конца?"
      ]
    },
    {
      "cell_type": "code",
      "execution_count": null,
      "id": "71e2e283",
      "metadata": {
        "id": "71e2e283"
      },
      "outputs": [],
      "source": []
    },
    {
      "cell_type": "markdown",
      "id": "cbcebc33",
      "metadata": {
        "id": "cbcebc33"
      },
      "source": [
        "### 1\n",
        "\n",
        "Напишите новый `objective` - попробуйте порепортить случайные значения, устроив беспорядок. Создайте новый `study` и запустите сессию оптимизации с теми же параметрами. Визуализируйте процесс и убедитесь, что все правильно. Далее, эту цепочку будем называть \"запустите и визуализируйте\"."
      ]
    },
    {
      "cell_type": "code",
      "execution_count": null,
      "id": "1b4dfe8b",
      "metadata": {
        "id": "1b4dfe8b"
      },
      "outputs": [],
      "source": [
        "# your code here"
      ]
    },
    {
      "cell_type": "markdown",
      "id": "900d32fb",
      "metadata": {
        "id": "900d32fb"
      },
      "source": [
        "Что-нибудь интересное на картинке?"
      ]
    },
    {
      "cell_type": "code",
      "execution_count": null,
      "id": "7575b4bc",
      "metadata": {
        "id": "7575b4bc"
      },
      "outputs": [],
      "source": []
    },
    {
      "cell_type": "markdown",
      "id": "a65a4a01",
      "metadata": {
        "id": "a65a4a01"
      },
      "source": [
        "### 2\n",
        "\n",
        "Теперь напишите еще один `objective` - все должны дойти до конца, но теперь не по порядку, то есть i-й по скорости trial не должен иметь `trial.number = i - 1`. Запустите и визуализируйте."
      ]
    },
    {
      "cell_type": "code",
      "execution_count": null,
      "id": "7978cc53",
      "metadata": {
        "id": "7978cc53"
      },
      "outputs": [],
      "source": [
        "# your code here"
      ]
    },
    {
      "cell_type": "markdown",
      "id": "f775729a",
      "metadata": {
        "id": "f775729a"
      },
      "source": [
        "Объясните, как вы добились того, что trials заканчивают не по порядку."
      ]
    },
    {
      "cell_type": "code",
      "execution_count": null,
      "id": "d889f39b",
      "metadata": {
        "id": "d889f39b"
      },
      "outputs": [],
      "source": []
    },
    {
      "cell_type": "markdown",
      "id": "dc8a0624",
      "metadata": {
        "id": "dc8a0624"
      },
      "source": [
        "### 3\n",
        "\n",
        "Оставьте прошлый `objective` и положите `bootstrap_count=2`. Запустите и визуализируйте."
      ]
    },
    {
      "cell_type": "code",
      "execution_count": null,
      "id": "1b31ae31",
      "metadata": {
        "id": "1b31ae31"
      },
      "outputs": [],
      "source": [
        "# your code here"
      ]
    },
    {
      "cell_type": "markdown",
      "id": "099aa67e",
      "metadata": {
        "id": "099aa67e"
      },
      "source": [
        "Как в итоге работает этот аргумент?"
      ]
    },
    {
      "cell_type": "code",
      "execution_count": null,
      "id": "6de5682e",
      "metadata": {
        "id": "6de5682e"
      },
      "outputs": [],
      "source": []
    },
    {
      "cell_type": "markdown",
      "id": "6d3842be",
      "metadata": {
        "id": "6d3842be"
      },
      "source": [
        "### 4\n",
        "\n",
        "Напишите новый `objective`, чтобы `trial.report` не всегда приходился на `step = rung`. Запустите и визуализируйте."
      ]
    },
    {
      "cell_type": "code",
      "execution_count": null,
      "id": "d83c542e",
      "metadata": {
        "id": "d83c542e"
      },
      "outputs": [],
      "source": [
        "# your code here"
      ]
    },
    {
      "cell_type": "markdown",
      "id": "15a4e194",
      "metadata": {
        "id": "15a4e194"
      },
      "source": [
        "Объясните увиденное"
      ]
    },
    {
      "cell_type": "code",
      "execution_count": null,
      "id": "c833ad31",
      "metadata": {
        "id": "c833ad31"
      },
      "outputs": [],
      "source": []
    },
    {
      "cell_type": "markdown",
      "id": "ffa10627",
      "metadata": {
        "id": "ffa10627"
      },
      "source": [
        "### 5\n",
        "\n",
        "Используя предыдущий `objective`, запустите сессии с аргументом прунера `min_early_stopping = 0, 1, 2, 3`.\n",
        "\n",
        "Визуализируйте их друг под другом. Если к этому моменту вы убедились, что ваша рисовалка работает правильно, используйте `optuna.logging.set_verbosity`, чтобы скрыть вывод о ходе сессии."
      ]
    },
    {
      "cell_type": "code",
      "execution_count": null,
      "id": "5d6b0257",
      "metadata": {
        "id": "5d6b0257"
      },
      "outputs": [],
      "source": [
        "# your code here"
      ]
    },
    {
      "cell_type": "markdown",
      "id": "c46a35a6",
      "metadata": {
        "id": "c46a35a6"
      },
      "source": [
        "Объясните, за что отвечает этот аргумент и при чем здесь `early_stopping`."
      ]
    },
    {
      "cell_type": "code",
      "execution_count": null,
      "id": "e040cfaf",
      "metadata": {
        "id": "e040cfaf"
      },
      "outputs": [],
      "source": []
    },
    {
      "cell_type": "markdown",
      "id": "f0268b5f",
      "metadata": {
        "id": "f0268b5f"
      },
      "source": [
        "### 6\n",
        "\n",
        "Мы достигли достаточного уровня мастерства чтобы визуализировать `optuna.pruners.HyperbandPruner`! `Hyperband` создает несколько `brackets`, отправляя тот или иной trial в тот или иной `bracket` по хэшу. Подробнее - см. семинар, \n",
        "[описание](https://optuna.readthedocs.io/en/stable/reference/generated/optuna.pruners.HyperbandPruner.html) или \n",
        "[исходный код](https://optuna.readthedocs.io/en/stable/_modules/optuna/pruners/_hyperband.html#HyperbandPruner).\n",
        "\n",
        "Используя `objective` на ваш вкус, создайте новый `study` с `HyperbandPruner`. Подберите `max_resource` так, чтобы получилось 4 брэкета. На что еще влияет `max_resource` в `HyperbandPruner`?\n",
        "\n",
        "Запустите и визуализируйте брэкеты друг под другом. Если нужно, напишите новую фукнцию для отрисовки брэкетов по `study`, хотя по сути - прошлая функция как раз отрисовывала один брэкет; возможно, можно лишь немного изменить её."
      ]
    },
    {
      "cell_type": "code",
      "execution_count": null,
      "id": "5263338a",
      "metadata": {
        "id": "5263338a"
      },
      "outputs": [],
      "source": []
    },
    {
      "cell_type": "code",
      "execution_count": null,
      "id": "2427d56f",
      "metadata": {
        "id": "2427d56f"
      },
      "outputs": [],
      "source": [
        "# your code here"
      ]
    },
    {
      "cell_type": "markdown",
      "id": "6dae170d",
      "metadata": {
        "id": "6dae170d"
      },
      "source": [
        "Опишите свои наблюдения."
      ]
    },
    {
      "cell_type": "code",
      "execution_count": null,
      "id": "1bd26cd1",
      "metadata": {
        "id": "1bd26cd1"
      },
      "outputs": [],
      "source": []
    },
    {
      "cell_type": "markdown",
      "id": "4c5f3651",
      "metadata": {
        "id": "4c5f3651"
      },
      "source": [
        "### 7. Босс!\n",
        "\n",
        "Отрисуйте слепки одного брэкета (используйте `ASHA`) в режиме реального времени, используя `ask-tell` интерфейс вместо `study.optimize`. Например, вы можете рисовать состояние брэкета (в данном случае, `study = bracket`) когда появляется каждый второй trial. Используйте `time.sleep` для того чтобы сделать картинку интереснее. Подумайте, как лучше отрисовывать, чтобы хорошо было видно развитие сюжета. Если нужно, используйте другую функцию для отрисовки. "
      ]
    },
    {
      "cell_type": "code",
      "execution_count": null,
      "id": "768bbd26",
      "metadata": {
        "id": "768bbd26"
      },
      "outputs": [],
      "source": [
        "# your code here"
      ]
    },
    {
      "cell_type": "markdown",
      "id": "47502dbf",
      "metadata": {
        "id": "47502dbf"
      },
      "source": [
        "Опишите свои наблюдения."
      ]
    },
    {
      "cell_type": "code",
      "execution_count": null,
      "id": "606aa02b",
      "metadata": {
        "id": "606aa02b"
      },
      "outputs": [],
      "source": []
    },
    {
      "cell_type": "markdown",
      "id": "dc5b72ab",
      "metadata": {
        "id": "dc5b72ab"
      },
      "source": [
        "Еще одно ура! Как впечатления?"
      ]
    },
    {
      "cell_type": "code",
      "execution_count": null,
      "id": "0ae27c9b",
      "metadata": {
        "id": "0ae27c9b"
      },
      "outputs": [],
      "source": []
    }
  ],
  "metadata": {
    "kernelspec": {
      "display_name": "Python 3 (ipykernel)",
      "language": "python",
      "name": "python3"
    },
    "language_info": {
      "codemirror_mode": {
        "name": "ipython",
        "version": 3
      },
      "file_extension": ".py",
      "mimetype": "text/x-python",
      "name": "python",
      "nbconvert_exporter": "python",
      "pygments_lexer": "ipython3",
      "version": "3.9.11"
    },
    "colab": {
      "provenance": []
    }
  },
  "nbformat": 4,
  "nbformat_minor": 5
}